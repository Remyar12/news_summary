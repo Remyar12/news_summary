{
  "cells": [
    {
      "cell_type": "markdown",
      "metadata": {
        "id": "view-in-github",
        "colab_type": "text"
      },
      "source": [
        "<a href=\"https://colab.research.google.com/github/Remyar12/news_summary/blob/main/news_summarization_t5.ipynb\" target=\"_parent\"><img src=\"https://colab.research.google.com/assets/colab-badge.svg\" alt=\"Open In Colab\"/></a>"
      ]
    },
    {
      "cell_type": "code",
      "execution_count": null,
      "metadata": {
        "colab": {
          "base_uri": "https://localhost:8080/"
        },
        "id": "dXUYA-cBZm4Y",
        "outputId": "6cfd6bb4-197f-4e83-f027-bec41a005aad"
      },
      "outputs": [
        {
          "name": "stdout",
          "output_type": "stream",
          "text": [
            "  Preparing metadata (setup.py) ... \u001b[?25l\u001b[?25hdone\n",
            "  Building wheel for rouge-score (setup.py) ... \u001b[?25l\u001b[?25hdone\n"
          ]
        }
      ],
      "source": [
        "!pip install -q transformers  rouge-score"
      ]
    },
    {
      "cell_type": "code",
      "execution_count": null,
      "metadata": {
        "colab": {
          "base_uri": "https://localhost:8080/"
        },
        "id": "_4prGRqhT84B",
        "outputId": "9e93a503-da0d-4518-f9a9-ffbf7501b5b3"
      },
      "outputs": [
        {
          "name": "stdout",
          "output_type": "stream",
          "text": [
            "Requirement already satisfied: rouge-score in /usr/local/lib/python3.10/dist-packages (0.1.2)\n",
            "Requirement already satisfied: absl-py in /usr/local/lib/python3.10/dist-packages (from rouge-score) (1.4.0)\n",
            "Requirement already satisfied: nltk in /usr/local/lib/python3.10/dist-packages (from rouge-score) (3.8.1)\n",
            "Requirement already satisfied: numpy in /usr/local/lib/python3.10/dist-packages (from rouge-score) (1.25.2)\n",
            "Requirement already satisfied: six>=1.14.0 in /usr/local/lib/python3.10/dist-packages (from rouge-score) (1.16.0)\n",
            "Requirement already satisfied: click in /usr/local/lib/python3.10/dist-packages (from nltk->rouge-score) (8.1.7)\n",
            "Requirement already satisfied: joblib in /usr/local/lib/python3.10/dist-packages (from nltk->rouge-score) (1.4.2)\n",
            "Requirement already satisfied: regex>=2021.8.3 in /usr/local/lib/python3.10/dist-packages (from nltk->rouge-score) (2024.5.15)\n",
            "Requirement already satisfied: tqdm in /usr/local/lib/python3.10/dist-packages (from nltk->rouge-score) (4.66.4)\n"
          ]
        }
      ],
      "source": [
        "!pip install rouge-score"
      ]
    },
    {
      "cell_type": "code",
      "execution_count": null,
      "metadata": {
        "colab": {
          "base_uri": "https://localhost:8080/",
          "height": 237,
          "referenced_widgets": [
            "d0c0a66736494458839beb6867369440",
            "b52606869cc2438a9f664df9a7872966",
            "8c260b15f07a45379e5af082f2947aaf",
            "eef5f3565f3f4ba8ae7bcca81280e045",
            "5040dacac203430fb64e7e3b0f193fd9",
            "a4805949c1654244923e45eb8c8cde59",
            "7eea3dfbbf8c49a0bc7ccb9aa441a9b7",
            "a3a543daf0044d7ebede3398eb19d80e",
            "2845df918fe94ed990b4cad0daface02",
            "ec642fed5e994933a4c552eaf7f02279",
            "a117fd4a5c504a6a967bc8de2fc25597",
            "10e2612379bd4000aeacb89886876e02",
            "90f2508c1ea14d708471d3a2514200ab",
            "fa468af6f281495584dd2622a4634028",
            "68d51f160f094bb094ccb0b28e90402e",
            "90bcaf7feb334a6faf0cdc1efd0ff9c6",
            "45a4abeefad044b38262bcb308dc1482",
            "6b40d1641638475db955942d0dbd1ee7",
            "b3fd101c46674be0a354ffd0c31fbcfc",
            "71fa261176fa43bfa0c9844d45eacf82",
            "06028210ddc143b995a9efd2bddb7b3f",
            "0670682d1d4a4c48bb1dcd80cfb17a75",
            "3a8eb3e6c2fd4ac6bc24caa28a8c7a1d",
            "5af94014b84e45dcb199a1479fb9ff02",
            "d76bb04d614046a699e4c86fe6ec7d6d",
            "09a1dfd057c04270b7bc316f292bc8e2",
            "46e27c8566b940099c611f1c09f78af1",
            "6cc26db058924cf18cb83594f7b4ee59",
            "ab3893c7ab384bcfba6b8178af391820",
            "5743455cfa3d488383bc316d3be6c754",
            "59d3ef8493a14e5f9e184af5c615376a",
            "4d28d8b123f648e0af0a33136a32d044",
            "494dd4dc181e4f13b05ec7409b7145ac"
          ]
        },
        "id": "Lqq1Pf-fZAWL",
        "outputId": "a426f31e-01cb-4f73-a2b3-38aab45b100f"
      },
      "outputs": [
        {
          "name": "stderr",
          "output_type": "stream",
          "text": [
            "/usr/local/lib/python3.10/dist-packages/huggingface_hub/utils/_token.py:89: UserWarning: \n",
            "The secret `HF_TOKEN` does not exist in your Colab secrets.\n",
            "To authenticate with the Hugging Face Hub, create a token in your settings tab (https://huggingface.co/settings/tokens), set it as secret in your Google Colab and restart your session.\n",
            "You will be able to reuse this secret in all of your notebooks.\n",
            "Please note that authentication is recommended but still optional to access public models or datasets.\n",
            "  warnings.warn(\n"
          ]
        },
        {
          "data": {
            "application/vnd.jupyter.widget-view+json": {
              "model_id": "d0c0a66736494458839beb6867369440",
              "version_major": 2,
              "version_minor": 0
            },
            "text/plain": [
              "tokenizer_config.json:   0%|          | 0.00/2.32k [00:00<?, ?B/s]"
            ]
          },
          "metadata": {},
          "output_type": "display_data"
        },
        {
          "data": {
            "application/vnd.jupyter.widget-view+json": {
              "model_id": "10e2612379bd4000aeacb89886876e02",
              "version_major": 2,
              "version_minor": 0
            },
            "text/plain": [
              "spiece.model:   0%|          | 0.00/792k [00:00<?, ?B/s]"
            ]
          },
          "metadata": {},
          "output_type": "display_data"
        },
        {
          "data": {
            "application/vnd.jupyter.widget-view+json": {
              "model_id": "3a8eb3e6c2fd4ac6bc24caa28a8c7a1d",
              "version_major": 2,
              "version_minor": 0
            },
            "text/plain": [
              "tokenizer.json:   0%|          | 0.00/1.39M [00:00<?, ?B/s]"
            ]
          },
          "metadata": {},
          "output_type": "display_data"
        }
      ],
      "source": [
        "import os\n",
        "os.environ['CUDA_LAUNCH_BLOCKING'] = \"1\"\n",
        "\n",
        "import torch\n",
        "import torch.nn as nn\n",
        "import torch.nn.functional as F\n",
        "import numpy as np\n",
        "\n",
        "import pandas as pd\n",
        "import transformers\n",
        "from torch.utils.data import Dataset, DataLoader\n",
        "\n",
        "\n",
        "from transformers import AutoTokenizer, AutoModel\n",
        "sentenc_model_name = \"t5-small\"\n",
        "tokenizer = AutoTokenizer.from_pretrained(sentenc_model_name)\n"
      ]
    },
    {
      "cell_type": "code",
      "execution_count": null,
      "metadata": {
        "id": "mvTweWCpAYB2"
      },
      "outputs": [],
      "source": [
        "import matplotlib.pyplot as plt\n",
        "import pandas as pd\n",
        "import numpy as np\n",
        "from tqdm.notebook import tqdm\n",
        "\n",
        "import os\n",
        "\n",
        "sum_dir = \"drive/MyDrive/mlexperiments/extractivesummarization/\" # location to store and load models"
      ]
    },
    {
      "cell_type": "code",
      "execution_count": null,
      "metadata": {
        "colab": {
          "base_uri": "https://localhost:8080/"
        },
        "id": "2AFeyn0EDc4j",
        "outputId": "6d9ca686-c340-4581-8bcc-f0bfcf00d172"
      },
      "outputs": [
        {
          "name": "stdout",
          "output_type": "stream",
          "text": [
            "CSV file loaded successfully.\n",
            "Original dataset shape: (11490, 3)\n",
            "                                         id  \\\n",
            "0  92c514c913c0bdfe25341af9fd72b29db544099b   \n",
            "1  2003841c7dc0e7c5b1a248f9cd536d727f27a45a   \n",
            "2  91b7d2311527f5c2b63a65ca98d21d9c92485149   \n",
            "3  caabf9cbdf96eb1410295a673e953d304391bfbb   \n",
            "4  3da746a7d9afcaa659088c8366ef6347fe6b53ea   \n",
            "\n",
            "                                             article  \\\n",
            "0  Ever noticed how plane seats appear to be gett...   \n",
            "1  A drunk teenage boy had to be rescued by secur...   \n",
            "2  Dougie Freedman is on the verge of agreeing a ...   \n",
            "3  Liverpool target Neto is also wanted by PSG an...   \n",
            "4  Bruce Jenner will break his silence in a two-h...   \n",
            "\n",
            "                                          highlights  \n",
            "0  Experts question if  packed out planes are put...  \n",
            "1  Drunk teenage boy climbed into lion enclosure ...  \n",
            "2  Nottingham Forest are close to extending Dougi...  \n",
            "3  Fiorentina goalkeeper Neto has been linked wit...  \n",
            "4  Tell-all interview with the reality TV star, 6...  \n",
            "Training set shape: (9192, 3)\n",
            "Testing set shape: (2298, 3)\n"
          ]
        }
      ],
      "source": [
        "import pandas as pd\n",
        "from sklearn.model_selection import train_test_split\n",
        "\n",
        "# Define the path to the CSV file\n",
        "csv_file_path = \"/content/test.csv\"\n",
        "\n",
        "# Load the dataset into a pandas DataFrame\n",
        "try:\n",
        "    df = pd.read_csv(csv_file_path)\n",
        "    print(\"CSV file loaded successfully.\")\n",
        "except FileNotFoundError:\n",
        "    print(f\"File not found: {csv_file_path}\")\n",
        "    df = pd.DataFrame()  # Create an empty DataFrame if the file is not found\n",
        "\n",
        "# Display the shape of the dataset\n",
        "print(\"Original dataset shape:\", df.shape)\n",
        "\n",
        "# Check the contents of the dataset\n",
        "print(df.head())\n",
        "\n",
        "# Split the dataset into training and testing sets\n",
        "if not df.empty:\n",
        "    train_df, test_df = train_test_split(df, test_size=0.2, random_state=42)\n",
        "\n",
        "    # Display the shapes of the training and testing sets\n",
        "    print(\"Training set shape:\", train_df.shape)\n",
        "    print(\"Testing set shape:\", test_df.shape)\n",
        "else:\n",
        "    print(\"The dataset is empty or not loaded correctly.\")\n"
      ]
    },
    {
      "cell_type": "code",
      "execution_count": null,
      "metadata": {
        "colab": {
          "background_save": true,
          "base_uri": "https://localhost:8080/",
          "referenced_widgets": [
            "68526b6c51784ffa8a0cee4ec792c0aa",
            "d6e4d6ee991d493a986529ba8efff60d",
            "9d38c76e341e4f32b4f3a41fc3d2624b"
          ]
        },
        "id": "Z5Hm2MzTUIxh",
        "outputId": "9ab00cc1-6f0d-4a65-a8bc-1c61e17242c4"
      },
      "outputs": [
        {
          "name": "stderr",
          "output_type": "stream",
          "text": [
            "/usr/local/lib/python3.10/dist-packages/torch/utils/data/dataloader.py:558: UserWarning: This DataLoader will create 4 worker processes in total. Our suggested max number of worker in current system is 2, which is smaller than what this DataLoader is going to create. Please be aware that excessive worker creation might get DataLoader running slow or even freeze, lower the worker number to avoid potential slowness/freeze if necessary.\n",
            "  warnings.warn(_create_warning_msg(\n"
          ]
        },
        {
          "name": "stdout",
          "output_type": "stream",
          "text": [
            "{'input_ids': tensor([[   37,  4627,    13,  ...,   280, 14131,     1],\n",
            "        [ 7138,   588,    65,  ...,   752,   119,     1],\n",
            "        [   94,    19,     8,  ...,    12,   217,     1],\n",
            "        [   71,  2386,  1015,  ...,   894,    12,     1]]), 'attention_mask': tensor([[1, 1, 1,  ..., 1, 1, 1],\n",
            "        [1, 1, 1,  ..., 1, 1, 1],\n",
            "        [1, 1, 1,  ..., 1, 1, 1],\n",
            "        [1, 1, 1,  ..., 1, 1, 1]]), 'target_ids': tensor([[   37,  4627,    13,     8,   301, 13662,    31,     7, 15039, 10348,\n",
            "             6,    46, 11989,    18,  6259,    18,  2961, 16455,     3,     7,\n",
            "          3995,   106,    49,     6,   130,     3, 28540,    57,     8,  5458,\n",
            "         12899,   778,  2089,  1379,     3,     5, 16233,   724,   141,    12,\n",
            "          4418,    45,     8,  4383,    12,  2794,  5458, 12899, 12285,     3,\n",
            "             5, 12020,  1533, 13863,   109,   710,    15,    26,     8,  4418,\n",
            "            11, 10056,   112,   819,   581,     8,   596,    13,     8,  4383,\n",
            "             6,   865,   271,   799,  9253,    15,    26,    12,     3,     9,\n",
            "          2833,   213,     3,    88,    47,  4260,    11,  1883,     3,     5,\n",
            "         12202,  7826, 22067,    15,    63,    47,     8,   336,    12,  1175,\n",
            "             8, 12662,     6,    84,    47,     3,    17,  9200,    12,     3,\n",
            "             9,  3432,  6636,    16,  7495,    32,    17,     6,  9777,     6,\n",
            "            30,  2818,     3,     5,     1,     0,     0,     0],\n",
            "        [ 7138,   588,   163,  8397,     8,   336,  6154,  1302,     3,    18,\n",
            "            68,  1105,    54,  1153,   217,    72,     3,     5, 13530,    92,\n",
            "           243,    34,   141,  3798,   165,  8543,   803,  1451,     3,     5,\n",
            "             1,     0,     0,     0,     0,     0,     0,     0,     0,     0,\n",
            "             0,     0,     0,     0,     0,     0,     0,     0,     0,     0,\n",
            "             0,     0,     0,     0,     0,     0,     0,     0,     0,     0,\n",
            "             0,     0,     0,     0,     0,     0,     0,     0,     0,     0,\n",
            "             0,     0,     0,     0,     0,     0,     0,     0,     0,     0,\n",
            "             0,     0,     0,     0,     0,     0,     0,     0,     0,     0,\n",
            "             0,     0,     0,     0,     0,     0,     0,     0,     0,     0,\n",
            "             0,     0,     0,     0,     0,     0,     0,     0,     0,     0,\n",
            "             0,     0,     0,     0,     0,     0,     0,     0,     0,     0,\n",
            "             0,     0,     0,     0,     0,     0,     0,     0],\n",
            "        [21038,    23,     9,  8265,    15,   113,  4805,   878,    35,  4203,\n",
            "             7,  5509,  1478,    63,    35,    56,    36,  2069,    12,   939,\n",
            "           874,     3,     5, 27144,  2850,  1727,    12,    91,  7591,    70,\n",
            "          5069, 15473,     7,    30,     8,   504,     3,     5,  2506,   774,\n",
            "          1509,   633,    13,     8,   711,  5069,  2850, 26313, 21315, 15596,\n",
            "             3,     5,     3,  4868,     8,   443,  9761,     6,  5747,  3504,\n",
            "          6029,     6,   113,  4805,  8178,  9394,    19,    16,   939,   874,\n",
            "             3,     5,     1,     0,     0,     0,     0,     0,     0,     0,\n",
            "             0,     0,     0,     0,     0,     0,     0,     0,     0,     0,\n",
            "             0,     0,     0,     0,     0,     0,     0,     0,     0,     0,\n",
            "             0,     0,     0,     0,     0,     0,     0,     0,     0,     0,\n",
            "             0,     0,     0,     0,     0,     0,     0,     0,     0,     0,\n",
            "             0,     0,     0,     0,     0,     0,     0,     0],\n",
            "        [   37,  4716,   133,  1309,  3004,    51, 24471,    11,  3625,   955,\n",
            "          4059,    26,   640,     8,  8271,  7997,    86,  1655,     3,     5,\n",
            "          2386,  1015, 13517,   446,  6119,  5209,    19,  1187,     8,   775,\n",
            "           800,     3,     5,  1015, 10367,  1487,    81,   516,  2804,  2386,\n",
            "          1384,  2721,     3,     5,  9165,    13,   800,    56,    43,     3,\n",
            "             9,  1514,  2394,     6,  2313,  1487,     3,    99,  3754,    57,\n",
            "         28204,     3,     5,  2786,   133,  7789,   386, 16642,    42,   131,\n",
            "           192,    11,   192, 10785,     7,     3,     5,  7144,     5,  5209,\n",
            "            65,  1580,    30,     8,   837,   134, 23381,    11,     8,   837,\n",
            "           134,   480, 17132, 12833,     3,     5,     1,     0,     0,     0,\n",
            "             0,     0,     0,     0,     0,     0,     0,     0,     0,     0,\n",
            "             0,     0,     0,     0,     0,     0,     0,     0,     0,     0,\n",
            "             0,     0,     0,     0,     0,     0,     0,     0]]), 'target_attention_mask': tensor([[1, 1, 1, 1, 1, 1, 1, 1, 1, 1, 1, 1, 1, 1, 1, 1, 1, 1, 1, 1, 1, 1, 1, 1,\n",
            "         1, 1, 1, 1, 1, 1, 1, 1, 1, 1, 1, 1, 1, 1, 1, 1, 1, 1, 1, 1, 1, 1, 1, 1,\n",
            "         1, 1, 1, 1, 1, 1, 1, 1, 1, 1, 1, 1, 1, 1, 1, 1, 1, 1, 1, 1, 1, 1, 1, 1,\n",
            "         1, 1, 1, 1, 1, 1, 1, 1, 1, 1, 1, 1, 1, 1, 1, 1, 1, 1, 1, 1, 1, 1, 1, 1,\n",
            "         1, 1, 1, 1, 1, 1, 1, 1, 1, 1, 1, 1, 1, 1, 1, 1, 1, 1, 1, 1, 1, 1, 1, 1,\n",
            "         1, 1, 1, 1, 1, 0, 0, 0],\n",
            "        [1, 1, 1, 1, 1, 1, 1, 1, 1, 1, 1, 1, 1, 1, 1, 1, 1, 1, 1, 1, 1, 1, 1, 1,\n",
            "         1, 1, 1, 1, 1, 1, 1, 0, 0, 0, 0, 0, 0, 0, 0, 0, 0, 0, 0, 0, 0, 0, 0, 0,\n",
            "         0, 0, 0, 0, 0, 0, 0, 0, 0, 0, 0, 0, 0, 0, 0, 0, 0, 0, 0, 0, 0, 0, 0, 0,\n",
            "         0, 0, 0, 0, 0, 0, 0, 0, 0, 0, 0, 0, 0, 0, 0, 0, 0, 0, 0, 0, 0, 0, 0, 0,\n",
            "         0, 0, 0, 0, 0, 0, 0, 0, 0, 0, 0, 0, 0, 0, 0, 0, 0, 0, 0, 0, 0, 0, 0, 0,\n",
            "         0, 0, 0, 0, 0, 0, 0, 0],\n",
            "        [1, 1, 1, 1, 1, 1, 1, 1, 1, 1, 1, 1, 1, 1, 1, 1, 1, 1, 1, 1, 1, 1, 1, 1,\n",
            "         1, 1, 1, 1, 1, 1, 1, 1, 1, 1, 1, 1, 1, 1, 1, 1, 1, 1, 1, 1, 1, 1, 1, 1,\n",
            "         1, 1, 1, 1, 1, 1, 1, 1, 1, 1, 1, 1, 1, 1, 1, 1, 1, 1, 1, 1, 1, 1, 1, 1,\n",
            "         1, 0, 0, 0, 0, 0, 0, 0, 0, 0, 0, 0, 0, 0, 0, 0, 0, 0, 0, 0, 0, 0, 0, 0,\n",
            "         0, 0, 0, 0, 0, 0, 0, 0, 0, 0, 0, 0, 0, 0, 0, 0, 0, 0, 0, 0, 0, 0, 0, 0,\n",
            "         0, 0, 0, 0, 0, 0, 0, 0],\n",
            "        [1, 1, 1, 1, 1, 1, 1, 1, 1, 1, 1, 1, 1, 1, 1, 1, 1, 1, 1, 1, 1, 1, 1, 1,\n",
            "         1, 1, 1, 1, 1, 1, 1, 1, 1, 1, 1, 1, 1, 1, 1, 1, 1, 1, 1, 1, 1, 1, 1, 1,\n",
            "         1, 1, 1, 1, 1, 1, 1, 1, 1, 1, 1, 1, 1, 1, 1, 1, 1, 1, 1, 1, 1, 1, 1, 1,\n",
            "         1, 1, 1, 1, 1, 1, 1, 1, 1, 1, 1, 1, 1, 1, 1, 1, 1, 1, 1, 1, 1, 1, 1, 1,\n",
            "         1, 0, 0, 0, 0, 0, 0, 0, 0, 0, 0, 0, 0, 0, 0, 0, 0, 0, 0, 0, 0, 0, 0, 0,\n",
            "         0, 0, 0, 0, 0, 0, 0, 0]])}\n"
          ]
        },
        {
          "data": {
            "application/vnd.jupyter.widget-view+json": {
              "model_id": "68526b6c51784ffa8a0cee4ec792c0aa",
              "version_major": 2,
              "version_minor": 0
            },
            "text/plain": [
              "config.json:   0%|          | 0.00/1.21k [00:00<?, ?B/s]"
            ]
          },
          "metadata": {},
          "output_type": "display_data"
        },
        {
          "data": {
            "application/vnd.jupyter.widget-view+json": {
              "model_id": "d6e4d6ee991d493a986529ba8efff60d",
              "version_major": 2,
              "version_minor": 0
            },
            "text/plain": [
              "model.safetensors:   0%|          | 0.00/242M [00:00<?, ?B/s]"
            ]
          },
          "metadata": {},
          "output_type": "display_data"
        },
        {
          "data": {
            "application/vnd.jupyter.widget-view+json": {
              "model_id": "9d38c76e341e4f32b4f3a41fc3d2624b",
              "version_major": 2,
              "version_minor": 0
            },
            "text/plain": [
              "generation_config.json:   0%|          | 0.00/147 [00:00<?, ?B/s]"
            ]
          },
          "metadata": {},
          "output_type": "display_data"
        },
        {
          "name": "stderr",
          "output_type": "stream",
          "text": [
            "/usr/local/lib/python3.10/dist-packages/transformers/optimization.py:588: FutureWarning: This implementation of AdamW is deprecated and will be removed in a future version. Use the PyTorch implementation torch.optim.AdamW instead, or set `no_deprecation_warning=True` to disable this warning\n",
            "  warnings.warn(\n",
            "  0%|          | 0/2298 [00:00<?, ?it/s]/usr/local/lib/python3.10/dist-packages/torch/utils/data/dataloader.py:558: UserWarning: This DataLoader will create 4 worker processes in total. Our suggested max number of worker in current system is 2, which is smaller than what this DataLoader is going to create. Please be aware that excessive worker creation might get DataLoader running slow or even freeze, lower the worker number to avoid potential slowness/freeze if necessary.\n",
            "  warnings.warn(_create_warning_msg(\n",
            "  0%|          | 1/2298 [00:02<1:51:14,  2.91s/it]"
          ]
        },
        {
          "name": "stdout",
          "output_type": "stream",
          "text": [
            "Step 0, Loss: 9.38875961303711, Elapsed Time: 2.91s\n"
          ]
        },
        {
          "name": "stderr",
          "output_type": "stream",
          "text": [
            "  4%|▍         | 101/2298 [00:19<07:45,  4.72it/s]"
          ]
        },
        {
          "name": "stdout",
          "output_type": "stream",
          "text": [
            "Step 100, Loss: 9.799349520466116, Elapsed Time: 16.42s\n"
          ]
        },
        {
          "name": "stderr",
          "output_type": "stream",
          "text": [
            "  9%|▉         | 202/2298 [00:35<07:14,  4.82it/s]"
          ]
        },
        {
          "name": "stdout",
          "output_type": "stream",
          "text": [
            "Step 200, Loss: 8.495728395471525, Elapsed Time: 16.11s\n"
          ]
        },
        {
          "name": "stderr",
          "output_type": "stream",
          "text": [
            " 13%|█▎        | 302/2298 [00:57<10:48,  3.08it/s]"
          ]
        },
        {
          "name": "stdout",
          "output_type": "stream",
          "text": [
            "Step 300, Loss: 7.376479187677073, Elapsed Time: 21.58s\n"
          ]
        },
        {
          "name": "stderr",
          "output_type": "stream",
          "text": [
            " 17%|█▋        | 402/2298 [01:23<04:32,  6.95it/s]"
          ]
        },
        {
          "name": "stdout",
          "output_type": "stream",
          "text": [
            "Step 400, Loss: 6.451951713038799, Elapsed Time: 26.35s\n"
          ]
        },
        {
          "name": "stderr",
          "output_type": "stream",
          "text": [
            " 22%|██▏       | 502/2298 [01:39<04:07,  7.26it/s]"
          ]
        },
        {
          "name": "stdout",
          "output_type": "stream",
          "text": [
            "Step 500, Loss: 5.722738315483292, Elapsed Time: 16.41s\n"
          ]
        },
        {
          "name": "stderr",
          "output_type": "stream",
          "text": [
            " 26%|██▌       | 602/2298 [01:56<03:49,  7.40it/s]"
          ]
        },
        {
          "name": "stdout",
          "output_type": "stream",
          "text": [
            "Step 600, Loss: 5.1679944099483395, Elapsed Time: 16.45s\n"
          ]
        },
        {
          "name": "stderr",
          "output_type": "stream",
          "text": [
            " 31%|███       | 702/2298 [02:12<03:36,  7.37it/s]"
          ]
        },
        {
          "name": "stdout",
          "output_type": "stream",
          "text": [
            "Step 700, Loss: 4.759496163369586, Elapsed Time: 16.33s\n"
          ]
        },
        {
          "name": "stderr",
          "output_type": "stream",
          "text": [
            " 35%|███▍      | 802/2298 [02:29<04:58,  5.01it/s]"
          ]
        },
        {
          "name": "stdout",
          "output_type": "stream",
          "text": [
            "Step 800, Loss: 4.444745556692059, Elapsed Time: 17.12s\n"
          ]
        },
        {
          "name": "stderr",
          "output_type": "stream",
          "text": [
            " 39%|███▉      | 902/2298 [02:47<03:13,  7.23it/s]"
          ]
        },
        {
          "name": "stdout",
          "output_type": "stream",
          "text": [
            "Step 900, Loss: 4.18742867500483, Elapsed Time: 18.09s\n"
          ]
        },
        {
          "name": "stderr",
          "output_type": "stream",
          "text": [
            " 44%|████▎     | 1002/2298 [03:04<02:56,  7.33it/s]"
          ]
        },
        {
          "name": "stdout",
          "output_type": "stream",
          "text": [
            "Step 1000, Loss: 3.975155679496018, Elapsed Time: 17.05s\n"
          ]
        },
        {
          "name": "stderr",
          "output_type": "stream",
          "text": [
            " 48%|████▊     | 1102/2298 [03:21<02:41,  7.41it/s]"
          ]
        },
        {
          "name": "stdout",
          "output_type": "stream",
          "text": [
            "Step 1100, Loss: 3.797422743623198, Elapsed Time: 16.54s\n"
          ]
        },
        {
          "name": "stderr",
          "output_type": "stream",
          "text": [
            " 52%|█████▏    | 1202/2298 [03:37<02:37,  6.96it/s]"
          ]
        },
        {
          "name": "stdout",
          "output_type": "stream",
          "text": [
            "Step 1200, Loss: 3.64722001234955, Elapsed Time: 16.20s\n"
          ]
        },
        {
          "name": "stderr",
          "output_type": "stream",
          "text": [
            " 57%|█████▋    | 1302/2298 [03:54<02:16,  7.29it/s]"
          ]
        },
        {
          "name": "stdout",
          "output_type": "stream",
          "text": [
            "Step 1300, Loss: 3.5207469531153825, Elapsed Time: 16.72s\n"
          ]
        },
        {
          "name": "stderr",
          "output_type": "stream",
          "text": [
            " 61%|██████    | 1402/2298 [04:10<02:03,  7.27it/s]"
          ]
        },
        {
          "name": "stdout",
          "output_type": "stream",
          "text": [
            "Step 1400, Loss: 3.4139768023902737, Elapsed Time: 16.12s\n"
          ]
        },
        {
          "name": "stderr",
          "output_type": "stream",
          "text": [
            " 65%|██████▌   | 1502/2298 [04:26<01:49,  7.26it/s]"
          ]
        },
        {
          "name": "stdout",
          "output_type": "stream",
          "text": [
            "Step 1500, Loss: 3.3143002425409174, Elapsed Time: 16.14s\n"
          ]
        },
        {
          "name": "stderr",
          "output_type": "stream",
          "text": [
            " 70%|██████▉   | 1602/2298 [04:43<01:37,  7.15it/s]"
          ]
        },
        {
          "name": "stdout",
          "output_type": "stream",
          "text": [
            "Step 1600, Loss: 3.227970013240216, Elapsed Time: 16.39s\n"
          ]
        },
        {
          "name": "stderr",
          "output_type": "stream",
          "text": [
            " 74%|███████▍  | 1702/2298 [04:59<01:22,  7.21it/s]"
          ]
        },
        {
          "name": "stdout",
          "output_type": "stream",
          "text": [
            "Step 1700, Loss: 3.146987766815872, Elapsed Time: 16.14s\n"
          ]
        },
        {
          "name": "stderr",
          "output_type": "stream",
          "text": [
            " 78%|███████▊  | 1802/2298 [05:15<01:08,  7.27it/s]"
          ]
        },
        {
          "name": "stdout",
          "output_type": "stream",
          "text": [
            "Step 1800, Loss: 3.0740676003651513, Elapsed Time: 16.28s\n"
          ]
        },
        {
          "name": "stderr",
          "output_type": "stream",
          "text": [
            " 83%|████████▎ | 1902/2298 [05:31<00:56,  7.03it/s]"
          ]
        },
        {
          "name": "stdout",
          "output_type": "stream",
          "text": [
            "Step 1900, Loss: 3.010850810678553, Elapsed Time: 16.25s\n"
          ]
        },
        {
          "name": "stderr",
          "output_type": "stream",
          "text": [
            " 87%|████████▋ | 2002/2298 [05:48<00:43,  6.87it/s]"
          ]
        },
        {
          "name": "stdout",
          "output_type": "stream",
          "text": [
            "Step 2000, Loss: 2.950409369073112, Elapsed Time: 16.45s\n"
          ]
        },
        {
          "name": "stderr",
          "output_type": "stream",
          "text": [
            " 91%|█████████▏| 2102/2298 [06:04<00:27,  7.09it/s]"
          ]
        },
        {
          "name": "stdout",
          "output_type": "stream",
          "text": [
            "Step 2100, Loss: 2.8944780481877297, Elapsed Time: 16.01s\n"
          ]
        },
        {
          "name": "stderr",
          "output_type": "stream",
          "text": [
            " 96%|█████████▌| 2202/2298 [06:20<00:14,  6.82it/s]"
          ]
        },
        {
          "name": "stdout",
          "output_type": "stream",
          "text": [
            "Step 2200, Loss: 2.8416395825670286, Elapsed Time: 15.93s\n"
          ]
        },
        {
          "name": "stderr",
          "output_type": "stream",
          "text": [
            "100%|██████████| 2298/2298 [06:38<00:00,  5.76it/s]\n"
          ]
        },
        {
          "name": "stdout",
          "output_type": "stream",
          "text": [
            "Epoch 0, Loss: 2.7945469535102627\n",
            "         10276536 function calls (8855718 primitive calls) in 398.704 seconds\n",
            "\n",
            "   Ordered by: cumulative time\n",
            "\n",
            "   ncalls  tottime  percall  cumtime  percall filename:lineno(function)\n",
            "        1    0.000    0.000  398.757  398.757 {built-in method builtins.exec}\n",
            "        1    0.002    0.002  398.757  398.757 <string>:1(<module>)\n",
            "        1    3.318    3.318  398.755  398.755 <ipython-input-6-e2c5eeebdba1>:95(train)\n",
            "     2298    0.035    0.000  187.190    0.081 _tensor.py:466(backward)\n",
            "     2298    0.033    0.000  187.154    0.081 __init__.py:165(backward)\n",
            "     2298    0.036    0.000  186.988    0.081 graph.py:739(_engine_run_backward)\n",
            "     2298  186.944    0.081  186.944    0.081 {method 'run_backward' of 'torch._C._EngineBase' objects}\n",
            "613566/2298    1.553    0.000  172.643    0.075 module.py:1528(_wrapped_call_impl)\n",
            "613566/2298    4.041    0.000  172.622    0.075 module.py:1534(_call_impl)\n",
            "     2298    0.283    0.000  172.559    0.075 modeling_t5.py:1639(forward)\n",
            "     4596    0.715    0.000  164.693    0.036 modeling_t5.py:970(forward)\n",
            "    27576    0.751    0.000  155.058    0.006 modeling_t5.py:655(forward)\n",
            "    41364    8.838    0.000   88.233    0.002 modeling_t5.py:446(forward)\n",
            "    27576    2.405    0.000   79.989    0.003 modeling_t5.py:583(forward)\n",
            "   222906    1.022    0.000   55.343    0.000 linear.py:115(forward)\n",
            "   222906   53.914    0.000   53.914    0.000 {built-in method torch._C._nn.linear}\n",
            "    27576    2.194    0.000   42.995    0.002 modeling_t5.py:334(forward)\n",
            "    27576    1.371    0.000   29.829    0.001 modeling_t5.py:280(forward)\n",
            "    13788    0.975    0.000   29.421    0.002 modeling_t5.py:615(forward)\n",
            "      574    0.017    0.000   21.966    0.038 grad_scaler.py:354(step)\n",
            "    73536   10.892    0.000   21.605    0.000 modeling_t5.py:240(forward)\n",
            "    82728    0.306    0.000   20.469    0.000 modeling_t5.py:485(project)\n",
            "      574    0.006    0.000   19.999    0.035 grad_scaler.py:342(_maybe_opt_step)\n",
            "      572    0.023    0.000   19.967    0.035 optimizer.py:374(wrapper)\n",
            "      572    0.007    0.000   19.868    0.035 _contextlib.py:112(decorate_context)\n",
            "      572    1.063    0.002   19.844    0.035 optimization.py:606(step)\n",
            "    82728   16.858    0.000   16.858    0.000 {built-in method torch.matmul}\n",
            "   147072    1.191    0.000   12.854    0.000 functional.py:1279(dropout)\n",
            "   147072   11.292    0.000   11.292    0.000 {built-in method torch.dropout}\n",
            "     2299    0.032    0.000    9.909    0.004 std.py:1160(__iter__)\n",
            "   105708    0.230    0.000    9.176    0.000 dropout.py:58(forward)\n",
            "     2298    0.047    0.000    6.136    0.003 std.py:1198(update)\n",
            "     2299    0.024    0.000    6.057    0.003 std.py:1325(refresh)\n",
            "     2300    0.021    0.000    5.996    0.003 std.py:1464(display)\n",
            "     4596    0.619    0.000    5.372    0.001 modeling_t5.py:429(compute_bias)\n",
            "     2300    0.019    0.000    5.237    0.002 std.py:457(print_status)\n",
            "   149864    5.127    0.000    5.127    0.000 {method 'mul_' of 'torch._C.TensorBase' objects}\n",
            "     2300    0.012    0.000    5.094    0.002 std.py:451(fp_write)\n",
            "     4602    0.018    0.000    5.085    0.001 utils.py:194(inner)\n",
            "   149864    5.077    0.000    5.077    0.000 {method 'add_' of 'torch._C.TensorBase' objects}\n",
            "   132708    4.807    0.000    4.807    0.000 {method 'to' of 'torch._C.TensorBase' objects}\n",
            "     2310    0.033    0.000    4.658    0.002 iostream.py:335(flush)\n",
            "    41364    0.116    0.000    3.946    0.000 functional.py:1855(softmax)\n",
            "     2038    0.021    0.000    3.854    0.002 threading.py:288(wait)\n",
            "    26665    3.836    0.000    3.836    0.000 {method 'acquire' of '_thread.lock' objects}\n",
            "    73536    3.796    0.000    3.796    0.000 {method 'mean' of 'torch._C.TensorBase' objects}\n",
            "    41364    3.796    0.000    3.796    0.000 {method 'softmax' of 'torch._C.TensorBase' objects}\n",
            "     2317    0.015    0.000    3.748    0.002 threading.py:589(wait)\n",
            "    73536    3.736    0.000    3.736    0.000 {method 'pow' of 'torch._C.TensorBase' objects}\n",
            "     4596    1.860    0.000    3.595    0.001 modeling_t5.py:381(_relative_position_bucket)\n",
            "     2299    0.055    0.000    3.579    0.002 dataloader.py:626(__next__)\n",
            "    46534    3.559    0.000    3.559    0.000 {method 'float' of 'torch._C.TensorBase' objects}\n",
            "    74932    3.443    0.000    3.443    0.000 {method 'addcdiv_' of 'torch._C.TensorBase' objects}\n",
            "   124092    0.604    0.000    3.304    0.000 modeling_t5.py:477(shape)\n",
            "    41364    3.297    0.000    3.297    0.000 {method 'type_as' of 'torch._C.TensorBase' objects}\n",
            "    41364    0.262    0.000    3.281    0.000 modeling_t5.py:481(unshape)\n",
            "     2298    0.019    0.000    2.827    0.001 loss.py:1184(forward)\n",
            "     2298    0.019    0.000    2.805    0.001 functional.py:2996(cross_entropy)\n",
            "     2298    2.782    0.001    2.782    0.001 {built-in method torch._C._nn.cross_entropy_loss}\n",
            "     5169    0.092    0.000    2.715    0.001 profiler.py:610(__exit__)\n",
            "    74932    2.688    0.000    2.688    0.000 {method 'addcmul_' of 'torch._C.TensorBase' objects}\n",
            "     4596    0.556    0.000    2.627    0.001 modeling_utils.py:1031(get_extended_attention_mask)\n",
            "     5169    0.017    0.000    2.613    0.001 _ops.py:591(__call__)\n",
            "     5169    2.596    0.001    2.596    0.001 {built-in method torch._ops.profiler.}\n",
            "    73536    2.529    0.000    2.529    0.000 {built-in method torch.rsqrt}\n",
            "  1422462    2.513    0.000    2.513    0.000 module.py:1696(__getattr__)\n",
            "     2298    0.038    0.000    2.506    0.001 _compile.py:20(inner)\n",
            "     9192    0.076    0.000    2.404    0.000 sparse.py:162(forward)\n",
            "    27576    0.073    0.000    2.357    0.000 activation.py:102(forward)\n",
            "    74932    2.321    0.000    2.321    0.000 {method 'sqrt' of 'torch._C.TensorBase' objects}\n",
            "     9192    0.034    0.000    2.305    0.000 functional.py:2154(embedding)\n",
            "    27576    0.066    0.000    2.283    0.000 functional.py:1489(relu)\n",
            "   174648    2.273    0.000    2.273    0.000 {method 'view' of 'torch._C.TensorBase' objects}\n",
            "     9192    2.264    0.000    2.264    0.000 {built-in method torch.embedding}\n",
            "    27576    2.190    0.000    2.190    0.000 {built-in method torch.relu}\n",
            "    41364    2.003    0.000    2.003    0.000 {method 'contiguous' of 'torch._C.TensorBase' objects}\n",
            "   206820    1.965    0.000    1.965    0.000 {method 'transpose' of 'torch._C.TensorBase' objects}\n",
            "      574    0.028    0.000    1.942    0.003 grad_scaler.py:286(unscale_)\n",
            "      574    0.272    0.000    1.784    0.003 grad_scaler.py:233(_unscale_grads_)\n",
            "     2298    0.027    0.000    1.768    0.001 eval_frame.py:428(_fn)\n",
            "     2298    1.423    0.001    1.697    0.001 optimizer.py:793(zero_grad)\n",
            "      574    1.277    0.002    1.277    0.002 {built-in method torch._amp_foreach_non_finite_check_and_unscale_}\n",
            "     9297    0.047    0.000    1.237    0.000 iostream.py:195(schedule)\n",
            "   613566    1.220    0.000    1.220    0.000 {built-in method torch._C._get_tracing_state}\n",
            "     9297    1.130    0.000    1.130    0.000 socket.py:545(send)\n",
            "     2298    0.517    0.000    0.925    0.000 modeling_utils.py:1003(create_extended_attention_mask_for_decoder)\n",
            "     2298    0.527    0.000    0.914    0.000 modeling_t5.py:872(_shift_right)\n",
            "    68940    0.236    0.000    0.851    0.000 container.py:290(__getitem__)\n",
            "     2300    0.021    0.000    0.736    0.000 std.py:1150(__str__)\n",
            "     2298    0.025    0.000    0.700    0.000 decorators.py:36(disable)\n",
            "     2300    0.533    0.000    0.687    0.000 std.py:464(format_meter)\n",
            "     2298    0.090    0.000    0.603    0.000 eval_frame.py:351(__call__)\n",
            "     5169    0.040    0.000    0.596    0.000 profiler.py:604(__enter__)\n",
            "     2298    0.198    0.000    0.594    0.000 modeling_utils.py:979(invert_attention_mask)\n",
            "    68940    0.291    0.000    0.559    0.000 container.py:281(_get_abs_string_index)\n",
            "     5169    0.017    0.000    0.556    0.000 _ops.py:846(__call__)\n",
            "     9192    0.026    0.000    0.545    0.000 modeling_utils.py:972(dtype)\n",
            "     6894    0.030    0.000    0.541    0.000 _tensor.py:34(wrapped)\n",
            "     5169    0.539    0.000    0.539    0.000 {built-in method torch._ops.profiler._record_function_enter_new}\n",
            "    11490    0.524    0.000    0.524    0.000 {built-in method torch.arange}\n",
            "     9192    0.075    0.000    0.519    0.000 modeling_utils.py:241(get_parameter_dtype)\n",
            "     6894    0.030    0.000    0.505    0.000 _tensor.py:964(__rsub__)\n",
            "     2299    0.030    0.000    0.494    0.000 dataloader.py:1299(_next_data)\n",
            "     6894    0.475    0.000    0.475    0.000 {built-in method torch.rsub}\n",
            "     2351    0.029    0.000    0.425    0.000 iostream.py:384(write)\n",
            "    18384    0.059    0.000    0.370    0.000 module.py:2207(parameters)\n",
            "     6894    0.106    0.000    0.364    0.000 generic.py:359(__post_init__)\n",
            "     6894    0.346    0.000    0.346    0.000 {built-in method torch.min}\n",
            "    18384    0.031    0.000    0.300    0.000 module.py:2232(named_parameters)\n",
            "     4596    0.292    0.000    0.292    0.000 {built-in method torch.where}\n",
            "435203/265136    0.171    0.000    0.284    0.000 {built-in method builtins.len}\n",
            "   147072    0.184    0.000    0.274    0.000 _VF.py:26(__getattr__)\n",
            "    18384    0.112    0.000    0.273    0.000 module.py:2193(_named_members)\n",
            "     2298    0.042    0.000    0.232    0.000 inspect.py:813(getsourcefile)\n",
            "     2298    0.009    0.000    0.225    0.000 trace_rules.py:3377(check)\n",
            "     2298    0.013    0.000    0.218    0.000 loss.py:1178(__init__)\n",
            "     2298    0.033    0.000    0.217    0.000 trace_rules.py:3342(check_verbose)\n",
            "292438/285265    0.171    0.000    0.209    0.000 {built-in method builtins.isinstance}\n",
            "     2298    0.011    0.000    0.209    0.000 dataloader.py:1266(_get_data)\n",
            "     4596    0.203    0.000    0.203    0.000 {built-in method torch.log}\n",
            "     4596    0.189    0.000    0.189    0.000 {built-in method torch.full_like}\n",
            "     2298    0.009    0.000    0.184    0.000 dataloader.py:1120(_try_get_data)\n",
            "     2298    0.180    0.000    0.180    0.000 {method 'repeat' of 'torch._C.TensorBase' objects}\n",
            "     2298    0.010    0.000    0.179    0.000 loss.py:29(__init__)\n",
            "     2298    0.023    0.000    0.175    0.000 queue.py:154(get)\n",
            "     2298    0.143    0.000    0.168    0.000 grad_scaler.py:188(scale)\n",
            "     2306    0.022    0.000    0.162    0.000 dataloader.py:1348(_try_put_index)\n",
            "   218310    0.159    0.000    0.159    0.000 {built-in method torch._C._has_torch_function_unary}\n",
            "     2298    0.019    0.000    0.159    0.000 autocast_mode.py:23(__init__)\n",
            "        1    0.000    0.000    0.151    0.151 dataloader.py:426(__iter__)\n",
            "        1    0.000    0.000    0.151    0.151 dataloader.py:382(_get_iterator)\n",
            "        1    0.001    0.001    0.151    0.151 dataloader.py:991(__init__)\n",
            "   170052    0.113    0.000    0.148    0.000 container.py:311(__len__)\n",
            "45960/41364    0.140    0.000    0.144    0.000 configuration_utils.py:261(__getattribute__)\n",
            "     2298    0.014    0.000    0.144    0.000 <string>:2(__init__)\n",
            "    79804    0.141    0.000    0.141    0.000 {method 'append' of 'list' objects}\n",
            "     2298    0.048    0.000    0.139    0.000 autocast_mode.py:187(__init__)\n",
            "     2298    0.132    0.000    0.132    0.000 {method 'new_zeros' of 'torch._C.TensorBase' objects}\n",
            "     2298    0.010    0.000    0.130    0.000 dataloader.py:1368(_process_data)\n",
            "     2298    0.130    0.000    0.130    0.000 {built-in method torch.ones}\n",
            "     2298    0.129    0.000    0.129    0.000 {method 'clone' of 'torch._C.TensorBase' objects}\n",
            "     2874    0.125    0.000    0.125    0.000 {method 'item' of 'torch._C.TensorBase' objects}\n",
            "        2    0.000    0.000    0.124    0.062 dataloader.py:1401(_shutdown_workers)\n",
            "        4    0.000    0.000    0.123    0.031 process.py:142(join)\n",
            "        4    0.000    0.000    0.123    0.031 popen_fork.py:36(wait)\n",
            "     2874    0.021    0.000    0.123    0.000 {built-in method builtins.sum}\n",
            "     2298    0.012    0.000    0.120    0.000 loss.py:20(__init__)\n",
            "     2300    0.008    0.000    0.120    0.000 utils.py:378(disp_len)\n",
            "   237299    0.118    0.000    0.118    0.000 {built-in method builtins.getattr}\n",
            "    43662    0.108    0.000    0.118    0.000 generic.py:434(__setattr__)\n",
            "     2298    0.028    0.000    0.117    0.000 __init__.py:60(_make_grads)\n",
            "     2298    0.116    0.000    0.116    0.000 {built-in method torch.abs}\n",
            "     2298    0.116    0.000    0.116    0.000 {built-in method torch.zeros}\n",
            "     2298    0.020    0.000    0.114    0.000 trace_rules.py:3432(lookup_inner)\n",
            "        4    0.000    0.000    0.111    0.028 connection.py:917(wait)\n",
            "        4    0.000    0.000    0.111    0.028 selectors.py:403(select)\n",
            "        4    0.111    0.028    0.111    0.028 {method 'poll' of 'select.poll' objects}\n",
            "     2351    0.007    0.000    0.111    0.000 iostream.py:321(_schedule_flush)\n",
            "     2303    0.019    0.000    0.109    0.000 queues.py:86(put)\n",
            "    93447    0.061    0.000    0.106    0.000 _tensor.py:1059(__hash__)\n",
            "     2300    0.007    0.000    0.104    0.000 utils.py:374(_text_width)\n",
            "45960/36768    0.092    0.000    0.100    0.000 module.py:2369(named_modules)\n",
            "        4    0.000    0.000    0.099    0.025 process.py:110(start)\n",
            "        4    0.000    0.000    0.098    0.025 context.py:222(_Popen)\n",
            "        4    0.000    0.000    0.098    0.025 context.py:278(_Popen)\n",
            "        4    0.000    0.000    0.098    0.024 popen_fork.py:15(__init__)\n",
            "     4596    0.095    0.000    0.095    0.000 {method 'permute' of 'torch._C.TensorBase' objects}\n",
            "     2298    0.007    0.000    0.094    0.000 genericpath.py:16(exists)\n",
            "     2560    0.094    0.000    0.094    0.000 {built-in method torch.zeros_like}\n",
            "     4596    0.014    0.000    0.093    0.000 package_importer.py:694(_patched_getfile)\n",
            "        4    0.001    0.000    0.089    0.022 popen_fork.py:62(_launch)\n",
            "     2298    0.021    0.000    0.088    0.000 autocast_mode.py:44(__exit__)\n",
            "     2298    0.087    0.000    0.087    0.000 {built-in method posix.stat}\n",
            "     2298    0.086    0.000    0.086    0.000 {method 'masked_fill_' of 'torch._C.TensorBase' objects}\n",
            "     6894    0.053    0.000    0.086    0.000 dataclasses.py:1187(fields)\n",
            "        4    0.085    0.021    0.085    0.021 {built-in method posix.fork}\n",
            "     2298    0.085    0.000    0.085    0.000 {built-in method torch.ones_like}\n",
            "11490/4596    0.048    0.000    0.079    0.000 generic.py:427(__getitem__)\n",
            "     4596    0.078    0.000    0.078    0.000 {method 'unsqueeze' of 'torch._C.TensorBase' objects}\n",
            "   118484    0.050    0.000    0.077    0.000 utils.py:375(<genexpr>)\n",
            "     2298    0.007    0.000    0.077    0.000 common.py:8(amp_definitely_not_available)\n",
            "     9192    0.074    0.000    0.074    0.000 {method 'is_floating_point' of 'torch._C.TensorBase' objects}\n",
            "     2298    0.010    0.000    0.073    0.000 generic.py:118(is_tensor)\n",
            "     4596    0.034    0.000    0.073    0.000 inspect.py:773(getfile)\n",
            "     6894    0.015    0.000    0.071    0.000 {built-in method builtins.any}\n",
            "     2299    0.011    0.000    0.070    0.000 __init__.py:105(is_available)\n",
            "     2298    0.055    0.000    0.070    0.000 module.py:428(__init__)\n",
            "     2298    0.021    0.000    0.070    0.000 trace_rules.py:3275(check_file)\n",
            "     7173    0.032    0.000    0.067    0.000 module.py:1711(__setattr__)\n",
            "     2298    0.026    0.000    0.066    0.000 autocast_mode.py:370(__exit__)\n",
            "     4596    0.017    0.000    0.065    0.000 generic.py:453(to_tuple)\n",
            "    13905    0.030    0.000    0.064    0.000 threading.py:1169(is_alive)\n",
            "     2298    0.017    0.000    0.061    0.000 eval_frame.py:550(__init__)\n",
            "     5169    0.043    0.000    0.060    0.000 profiler.py:593(__init__)\n",
            "      574    0.059    0.000    0.059    0.000 {method 'reciprocal' of 'torch._C.TensorBase' objects}\n",
            "     4602    0.032    0.000    0.054    0.000 {method 'format' of 'str' objects}\n",
            "     1148    0.004    0.000    0.054    0.000 grad_scaler.py:25(get)\n",
            "    13788    0.019    0.000    0.050    0.000 {built-in method builtins.all}\n",
            "     2299    0.007    0.000    0.050    0.000 __init__.py:101(_nvml_based_avail)\n",
            "     2298    0.024    0.000    0.048    0.000 module.py:470(register_buffer)\n",
            "     2319    0.010    0.000    0.048    0.000 threading.py:545(__init__)\n",
            "    96922    0.048    0.000    0.048    0.000 {built-in method builtins.id}\n",
            "    11490    0.009    0.000    0.047    0.000 generic.py:457(<genexpr>)\n",
            "     2298    0.022    0.000    0.046    0.000 generic.py:97(_get_frameworks_and_test_func)\n",
            "     4607    0.014    0.000    0.046    0.000 threading.py:359(notify)\n",
            "     2298    0.009    0.000    0.045    0.000 autocast_mode.py:38(__enter__)\n",
            "     2298    0.031    0.000    0.044    0.000 eval_frame.py:290(__init__)\n",
            "     2299    0.006    0.000    0.043    0.000 os.py:772(getenv)\n",
            "        1    0.000    0.000    0.043    0.043 dataloader.py:1087(_reset)\n",
            "        5    0.000    0.000    0.041    0.008 queues.py:161(_start_thread)\n",
            "      574    0.010    0.000    0.040    0.000 grad_scaler.py:459(update)\n",
            "        7    0.000    0.000    0.040    0.006 threading.py:916(start)\n",
            "    20695    0.029    0.000    0.039    0.000 {built-in method builtins.hasattr}\n",
            "     2298    0.018    0.000    0.037    0.000 functools.py:35(update_wrapper)\n",
            "    13789    0.037    0.000    0.037    0.000 std.py:231(__call__)\n",
            "    32172    0.023    0.000    0.037    0.000 trace_rules.py:3279(<genexpr>)\n",
            "     2299    0.010    0.000    0.037    0.000 _collections_abc.py:821(get)\n",
            "     2298    0.025    0.000    0.036    0.000 autocast_mode.py:320(__enter__)\n",
            "     4599    0.032    0.000    0.036    0.000 std.py:400(format_interval)\n",
            "     2327    0.036    0.000    0.036    0.000 threading.py:236(__init__)\n",
            "    16086    0.035    0.000    0.035    0.000 generic.py:440(__setitem__)\n",
            "     4600    0.024    0.000    0.035    0.000 utils.py:273(_is_ascii)\n",
            "      574    0.033    0.000    0.033    0.000 {method 'double' of 'torch._C.TensorBase' objects}\n",
            "    18384    0.026    0.000    0.032    0.000 module.py:2260(<lambda>)\n",
            "     2298    0.007    0.000    0.032    0.000 utils.py:862(getfile)\n",
            "     2306    0.003    0.000    0.030    0.000 dataloader.py:620(_next_index)\n",
            "     4663    0.007    0.000    0.030    0.000 {built-in method builtins.next}\n",
            "     2298    0.030    0.000    0.030    0.000 {built-in method torch.clear_autocast_cache}\n",
            "    68940    0.029    0.000    0.029    0.000 {built-in method _operator.index}\n",
            "    13906    0.016    0.000    0.028    0.000 threading.py:1102(_wait_for_tstate_lock)\n",
            "   116184    0.027    0.000    0.027    0.000 {built-in method unicodedata.east_asian_width}\n",
            "     2300    0.021    0.000    0.027    0.000 std.py:1446(format_dict)\n",
            "    74932    0.027    0.000    0.027    0.000 {built-in method math.sqrt}\n",
            "     9192    0.027    0.000    0.027    0.000 {method 'size' of 'torch._C.TensorBase' objects}\n",
            "     2301    0.015    0.000    0.026    0.000 os.py:675(__getitem__)\n",
            "     4340    0.026    0.000    0.026    0.000 {method 'release' of '_thread.lock' objects}\n",
            "     2303    0.018    0.000    0.026    0.000 std.py:102(acquire)\n",
            "    50556    0.025    0.000    0.025    0.000 dataclasses.py:1202(<genexpr>)\n",
            "     2298    0.004    0.000    0.025    0.000 eval_frame.py:448(<listcomp>)\n",
            "     1148    0.002    0.000    0.024    0.000 grad_scaler.py:350(<genexpr>)\n",
            "      576    0.024    0.000    0.024    0.000 {built-in method torch.full}\n",
            "     4596    0.017    0.000    0.023    0.000 container.py:315(__iter__)\n",
            "     2300    0.014    0.000    0.023    0.000 sampler.py:274(__iter__)\n",
            "      574    0.021    0.000    0.021    0.000 {built-in method torch._amp_update_scale_}\n",
            "     7173    0.014    0.000    0.021    0.000 parameter.py:8(__instancecheck__)\n",
            "     2298    0.017    0.000    0.021    0.000 eval_frame.py:141(change)\n",
            "     2300    0.017    0.000    0.020    0.000 std.py:186(__format__)\n",
            "     6894    0.017    0.000    0.020    0.000 base.py:127(__instancecheck__)\n",
            "    20682    0.015    0.000    0.018    0.000 generic.py:373(<genexpr>)\n",
            "     2298    0.016    0.000    0.018    0.000 import_utils.py:1478(is_torch_fx_proxy)\n",
            "     2298    0.016    0.000    0.018    0.000 trace_rules.py:2840(is_aten_op_or_tensor_method)\n",
            "    27872    0.011    0.000    0.017    0.000 {method 'add' of 'set' objects}\n",
            "     2303    0.012    0.000    0.017    0.000 std.py:106(release)\n",
            "    18384    0.017    0.000    0.017    0.000 {method 'dim' of 'torch._C.TensorBase' objects}\n",
            "    32180    0.017    0.000    0.017    0.000 {method 'startswith' of 'str' objects}\n",
            "     2292    0.008    0.000    0.016    0.000 grad_mode.py:183(__init__)\n",
            "     2298    0.006    0.000    0.016    0.000 generic.py:159(is_torch_tensor)\n",
            "    43662    0.016    0.000    0.016    0.000 generic.py:369(<genexpr>)\n",
            "     6894    0.009    0.000    0.016    0.000 eval_frame.py:265(innermost_fn)\n",
            "     1146    0.005    0.000    0.015    0.000 grad_mode.py:83(__exit__)\n",
            "     9297    0.015    0.000    0.015    0.000 iostream.py:91(_event_pipe)\n",
            "5170/5169    0.014    0.000    0.015    0.000 typing.py:306(inner)\n",
            "     2298    0.015    0.000    0.015    0.000 {built-in method torch._C._log_api_usage_once}\n",
            "     2351    0.007    0.000    0.014    0.000 iostream.py:308(_is_master_process)\n",
            "     2298    0.010    0.000    0.014    0.000 generic.py:79(infer_framework_from_repr)\n",
            "     2300    0.010    0.000    0.013    0.000 std.py:153(__init__)\n",
            "     6894    0.010    0.000    0.012    0.000 inspect.py:820(<genexpr>)\n",
            "     9192    0.012    0.000    0.012    0.000 modeling_utils.py:1083(get_head_mask)\n",
            "     2298    0.004    0.000    0.012    0.000 configuration_utils.py:386(use_return_dict)\n",
            "     4596    0.011    0.000    0.012    0.000 inspect.py:182(ismodule)\n",
            "     6924    0.008    0.000    0.012    0.000 threading.py:264(__enter__)\n",
            "       30    0.000    0.000    0.012    0.000 popen_fork.py:24(poll)\n",
            "       26    0.012    0.000    0.012    0.000 {built-in method posix.waitpid}\n",
            "     2298    0.007    0.000    0.011    0.000 eval_frame.py:119(backend_cache_manager)\n",
            "     2301    0.007    0.000    0.011    0.000 os.py:755(encode)\n",
            "     2299    0.011    0.000    0.011    0.000 {built-in method now}\n",
            "     4596    0.011    0.000    0.011    0.000 {built-in method math.log}\n",
            "     1146    0.004    0.000    0.011    0.000 grad_mode.py:79(__enter__)\n",
            "    48258    0.011    0.000    0.011    0.000 {method 'keys' of 'collections.OrderedDict' objects}\n",
            "    34749    0.010    0.000    0.010    0.000 {method 'items' of 'collections.OrderedDict' objects}\n",
            "    48300    0.010    0.000    0.010    0.000 {built-in method builtins.ord}\n",
            "     6924    0.007    0.000    0.009    0.000 threading.py:267(__exit__)\n",
            "        2    0.000    0.000    0.009    0.005 std.py:1265(close)\n",
            "        4    0.000    0.000    0.009    0.002 util.py:433(_flush_std_streams)\n",
            "     6645    0.006    0.000    0.009    0.000 threading.py:279(_is_owned)\n",
            "     2299    0.009    0.000    0.009    0.000 {built-in method torch._C._get_privateuse1_backend_name}\n",
            "    29569    0.009    0.000    0.009    0.000 {method 'get' of 'dict' objects}\n",
            "     9193    0.005    0.000    0.009    0.000 sampler.py:152(__iter__)\n",
            "    20103    0.009    0.000    0.009    0.000 _jit_internal.py:1120(is_scripting)\n",
            "    11490    0.009    0.000    0.009    0.000 {built-in method torch._C._has_torch_function_variadic}\n",
            "     9192    0.006    0.000    0.008    0.000 inspect.py:191(isclass)\n",
            "     2298    0.008    0.000    0.008    0.000 eval_frame.py:149(revert)\n",
            "     2298    0.008    0.000    0.008    0.000 generic.py:153(_is_torch)\n",
            "     9192    0.006    0.000    0.008    0.000 inspect.py:823(<genexpr>)\n",
            "     2298    0.008    0.000    0.008    0.000 {built-in method torch._C._are_functorch_transforms_active}\n",
            "     2300    0.008    0.000    0.008    0.000 {method 'sub' of 're.Pattern' objects}\n",
            "     2298    0.007    0.000    0.007    0.000 __init__.py:1710(getEffectiveLevel)\n",
            "    20961    0.007    0.000    0.007    0.000 {function _ParameterMeta.__instancecheck__ at 0x7f8fa77f6cb0}\n",
            "     4614    0.007    0.000    0.007    0.000 {method 'acquire' of '_multiprocessing.SemLock' objects}\n",
            "     4596    0.007    0.000    0.007    0.000 {built-in method torch._C._dynamo.eval_frame.set_eval_frame}\n",
            "      574    0.003    0.000    0.007    0.000 grad_scaler.py:504(<listcomp>)\n",
            "     2431    0.007    0.000    0.007    0.000 {built-in method posix.getpid}\n",
            "     2038    0.005    0.000    0.007    0.000 threading.py:276(_acquire_restore)\n",
            "     2298    0.007    0.000    0.007    0.000 functools.py:65(wraps)\n",
            "     2292    0.006    0.000    0.006    0.000 {built-in method torch._C._set_grad_enabled}\n",
            "     6894    0.006    0.000    0.006    0.000 {built-in method torch._C._has_torch_function}\n",
            "      572    0.002    0.000    0.006    0.000 _contextlib.py:141(clone)\n",
            "     1146    0.005    0.000    0.006    0.000 grad_mode.py:74(__init__)\n",
            "     1146    0.005    0.000    0.006    0.000 _contextlib.py:149(__new__)\n",
            "     2298    0.005    0.000    0.005    0.000 generic.py:114(<listcomp>)\n",
            "     4598    0.005    0.000    0.005    0.000 {method 'update' of 'dict' objects}\n",
            "     2298    0.004    0.000    0.005    0.000 utils.py:435(hashable)\n",
            "     4596    0.005    0.000    0.005    0.000 inspect.py:199(ismethod)\n",
            "     5169    0.005    0.000    0.005    0.000 {method '__exit__' of 'torch._C.DisableTorchFunctionSubclass' objects}\n",
            "    11490    0.005    0.000    0.005    0.000 {built-in method builtins.setattr}\n",
            "     2299    0.004    0.000    0.005    0.000 __init__.py:96(_is_compiled)\n",
            "    13920    0.005    0.000    0.005    0.000 threading.py:553(is_set)\n",
            "        5    0.000    0.000    0.005    0.001 context.py:100(Queue)\n",
            "    11494    0.005    0.000    0.005    0.000 {method 'endswith' of 'str' objects}\n",
            "     4596    0.004    0.000    0.005    0.000 inspect.py:365(isframe)\n",
            "     4596    0.004    0.000    0.005    0.000 inspect.py:277(isfunction)\n",
            "     4596    0.003    0.000    0.005    0.000 inspect.py:355(istraceback)\n",
            "     4596    0.005    0.000    0.005    0.000 {built-in method torch.get_autocast_gpu_dtype}\n",
            "     2298    0.005    0.000    0.005    0.000 {built-in method torch.autocast_decrement_nesting}\n",
            "    11498    0.005    0.000    0.005    0.000 {built-in method builtins.divmod}\n",
            "        5    0.001    0.000    0.005    0.001 queues.py:37(__init__)\n",
            "     4596    0.004    0.000    0.005    0.000 inspect.py:379(iscode)\n",
            "       24    0.000    0.000    0.004    0.000 {built-in method builtins.print}\n",
            "     4596    0.004    0.000    0.004    0.000 {built-in method torch.set_autocast_enabled}\n",
            "    279/1    0.001    0.000    0.004    0.004 module.py:2411(train)\n",
            "     4598    0.004    0.000    0.004    0.000 {built-in method builtins.iter}\n",
            "    11488    0.004    0.000    0.004    0.000 {method 'values' of 'dict' objects}\n",
            "     9182    0.004    0.000    0.004    0.000 {method 'values' of 'collections.OrderedDict' objects}\n",
            "        1    0.000    0.000    0.004    0.004 std.py:952(__init__)\n",
            "        7    0.000    0.000    0.004    0.001 threading.py:827(__init__)\n",
            "     2299    0.004    0.000    0.004    0.000 {built-in method torch._C._cuda_getDeviceCount}\n",
            "     4596    0.004    0.000    0.004    0.000 eval_frame.py:261(always_false)\n",
            "    13643    0.004    0.000    0.004    0.000 {method 'append' of 'collections.deque' objects}\n",
            "     6924    0.004    0.000    0.004    0.000 {method '__enter__' of '_thread.lock' objects}\n",
            "     2298    0.004    0.000    0.004    0.000 generic.py:115(<dictcomp>)\n",
            "     2298    0.003    0.000    0.004    0.000 queue.py:217(_get)\n",
            "      574    0.003    0.000    0.003    0.000 grad_scaler.py:44(_refresh_per_optimizer_state)\n",
            "     2308    0.003    0.000    0.003    0.000 {method 'acquire' of '_thread.RLock' objects}\n",
            "       20    0.002    0.000    0.003    0.000 synchronize.py:50(__init__)\n",
            "     2300    0.003    0.000    0.003    0.000 {built-in method builtins.max}\n",
            "     9241    0.003    0.000    0.003    0.000 {built-in method time.time}\n",
            "     2300    0.003    0.000    0.003    0.000 utils.py:108(__init__)\n",
            "     4363    0.003    0.000    0.003    0.000 {built-in method _thread.allocate_lock}\n",
            "     2302    0.003    0.000    0.003    0.000 {method 'encode' of 'str' objects}\n",
            "     1722    0.003    0.000    0.003    0.000 grad_scaler.py:153(_check_scale_growth_tracker)\n",
            "        2    0.003    0.002    0.003    0.002 {method 'tolist' of 'torch._C.TensorBase' objects}\n",
            "        2    0.000    0.000    0.003    0.002 std.py:1286(fp_write)\n",
            "     2298    0.003    0.000    0.003    0.000 __init__.py:155(_tensor_or_tensors_to_tuple)\n",
            "     2038    0.002    0.000    0.003    0.000 threading.py:273(_release_save)\n",
            "       11    0.000    0.000    0.003    0.000 context.py:65(Lock)\n",
            "     4596    0.003    0.000    0.003    0.000 {built-in method torch.set_autocast_cache_enabled}\n",
            "     4596    0.003    0.000    0.003    0.000 {built-in method torch.is_autocast_cache_enabled}\n",
            "     2299    0.002    0.000    0.003    0.000 queue.py:209(_qsize)\n",
            "     2308    0.003    0.000    0.003    0.000 {method 'release' of '_thread.RLock' objects}\n",
            "       16    0.003    0.000    0.003    0.000 {built-in method posix.close}\n",
            "     2298    0.003    0.000    0.003    0.000 _reduction.py:7(get_enum)\n",
            "       11    0.000    0.000    0.003    0.000 synchronize.py:161(__init__)\n",
            "     5169    0.003    0.000    0.003    0.000 __init__.py:127(annotate)\n",
            "     2308    0.003    0.000    0.003    0.000 {method 'release' of '_multiprocessing.SemLock' objects}\n",
            "     2300    0.003    0.000    0.003    0.000 std.py:167(colour)\n",
            "     2298    0.002    0.000    0.002    0.000 {built-in method torch.is_autocast_enabled}\n",
            "     4596    0.002    0.000    0.002    0.000 {built-in method torch.set_autocast_gpu_dtype}\n",
            "     2300    0.002    0.000    0.002    0.000 utils.py:112(__format__)\n",
            "     2298    0.002    0.000    0.002    0.000 {method 'setdefault' of 'dict' objects}\n",
            "     3438    0.002    0.000    0.002    0.000 {built-in method torch.is_grad_enabled}\n",
            "     6894    0.002    0.000    0.002    0.000 {built-in method builtins.callable}\n",
            "     2298    0.002    0.000    0.002    0.000 {built-in method torch.autocast_increment_nesting}\n",
            "     2298    0.002    0.000    0.002    0.000 {method 'numel' of 'torch._C.TensorBase' objects}\n",
            "        1    0.000    0.000    0.002    0.002 std.py:438(status_printer)\n",
            "     2310    0.002    0.000    0.002    0.000 {built-in method _imp.lock_held}\n",
            "     6924    0.002    0.000    0.002    0.000 {method '__exit__' of '_thread.lock' objects}\n",
            "     2300    0.002    0.000    0.002    0.000 {built-in method builtins.hash}\n",
            "        1    0.000    0.000    0.002    0.002 std.py:663(__new__)\n",
            "      557    0.000    0.000    0.002    0.000 module.py:2313(children)\n",
            "        1    0.000    0.000    0.002    0.002 _monitor.py:30(__init__)\n",
            "     1148    0.002    0.000    0.002    0.000 grad_scaler.py:21(__init__)\n",
            "     2311    0.002    0.000    0.002    0.000 {method 'discard' of 'set' objects}\n",
            "     2298    0.002    0.000    0.002    0.000 import_utils.py:294(is_torch_available)\n",
            "      557    0.001    0.000    0.001    0.000 module.py:2322(named_children)\n",
            "     2300    0.001    0.000    0.001    0.000 std.py:163(colour)\n",
            "     2302    0.001    0.000    0.001    0.000 {built-in method builtins.abs}\n",
            "     2298    0.001    0.000    0.001    0.000 import_utils.py:486(is_torch_fx_available)\n",
            "     2301    0.001    0.000    0.001    0.000 {method 'remove' of 'collections.deque' objects}\n",
            "     2298    0.001    0.000    0.001    0.000 eval_frame.py:257(nothing)\n",
            "       20    0.000    0.000    0.001    0.000 __init__.py:7(_make_name)\n",
            "     2303    0.001    0.000    0.001    0.000 {built-in method time.monotonic}\n",
            "     2298    0.001    0.000    0.001    0.000 {method 'popleft' of 'collections.deque' objects}\n",
            "     2298    0.001    0.000    0.001    0.000 {method 'extend' of 'list' objects}\n",
            "     1176    0.001    0.000    0.001    0.000 {built-in method __new__ of type object at 0x591e0c0af9a0}\n",
            "       20    0.000    0.000    0.001    0.000 tempfile.py:292(__next__)\n",
            "      574    0.001    0.000    0.001    0.000 grad_scaler.py:251(<lambda>)\n",
            "      2/1    0.000    0.000    0.001    0.001 typing.py:401(__getitem__)\n",
            "        1    0.000    0.000    0.001    0.001 typing.py:523(Optional)\n",
            "        2    0.001    0.000    0.001    0.000 {built-in method torch.randperm}\n",
            "        5    0.000    0.000    0.001    0.000 context.py:85(BoundedSemaphore)\n",
            "        7    0.001    0.000    0.001    0.000 {built-in method _thread.start_new_thread}\n",
            "        1    0.000    0.000    0.001    0.001 context.py:90(Event)\n",
            "        1    0.000    0.000    0.001    0.001 synchronize.py:323(__init__)\n",
            "        5    0.000    0.000    0.000    0.000 synchronize.py:144(__init__)\n",
            "       20    0.000    0.000    0.000    0.000 random.py:506(choices)\n",
            "       25    0.000    0.000    0.000    0.000 util.py:171(register_after_fork)\n",
            "       10    0.000    0.000    0.000    0.000 util.py:186(__init__)\n",
            "        4    0.000    0.000    0.000    0.000 context.py:80(Semaphore)\n",
            "        1    0.000    0.000    0.000    0.000 dataloader.py:565(__init__)\n",
            "        4    0.000    0.000    0.000    0.000 synchronize.py:125(__init__)\n",
            "        4    0.000    0.000    0.000    0.000 process.py:80(__init__)\n",
            "       25    0.000    0.000    0.000    0.000 weakref.py:165(__setitem__)\n",
            "        1    0.000    0.000    0.000    0.000 typing.py:483(Union)\n",
            "        5    0.000    0.000    0.000    0.000 queues.py:71(_reset)\n",
            "        1    0.000    0.000    0.000    0.000 context.py:75(Condition)\n",
            "      574    0.000    0.000    0.000    0.000 {method 'items' of 'dict' objects}\n",
            "        1    0.000    0.000    0.000    0.000 synchronize.py:212(__init__)\n",
            "        4    0.000    0.000    0.000    0.000 process.py:61(_cleanup)\n",
            "        5    0.000    0.000    0.000    0.000 connection.py:516(Pipe)\n",
            "      572    0.000    0.000    0.000    0.000 optimizer.py:358(_optimizer_step_code)\n",
            "        9    0.000    0.000    0.000    0.000 util.py:205(__call__)\n",
            "      572    0.000    0.000    0.000    0.000 typing.py:1737(cast)\n",
            "       20    0.000    0.000    0.000    0.000 random.py:519(<listcomp>)\n",
            "        1    0.000    0.000    0.000    0.000 typing.py:1016(__init__)\n",
            "        4    0.000    0.000    0.000    0.000 abc.py:117(__instancecheck__)\n",
            "        1    0.000    0.000    0.000    0.000 threading.py:1064(join)\n",
            "        4    0.000    0.000    0.000    0.000 {built-in method _abc._abc_instancecheck}\n",
            "        1    0.000    0.000    0.000    0.000 grad_scaler.py:165(_lazy_init_scale_growth_tracker)\n",
            "        4    0.000    0.000    0.000    0.000 <ipython-input-6-e2c5eeebdba1>:19(__len__)\n",
            "        3    0.000    0.000    0.000    0.000 typing.py:146(_type_check)\n",
            "     42/2    0.000    0.000    0.000    0.000 abc.py:121(__subclasscheck__)\n",
            "     42/2    0.000    0.000    0.000    0.000 {built-in method _abc._abc_subclasscheck}\n",
            "        5    0.000    0.000    0.000    0.000 queues.py:140(close)\n",
            "        4    0.000    0.000    0.000    0.000 __init__.py:228(_releaseLock)\n",
            "       13    0.000    0.000    0.000    0.000 {built-in method posix.pipe}\n",
            "        1    0.000    0.000    0.000    0.000 typing_extensions.py:2989(_collect_type_vars)\n",
            "        4    0.000    0.000    0.000    0.000 frame.py:1489(__len__)\n",
            "        1    0.000    0.000    0.000    0.000 dataloader.py:486(check_worker_number_rationality)\n",
            "       12    0.000    0.000    0.000    0.000 _weakrefset.py:86(add)\n",
            "       36    0.000    0.000    0.000    0.000 <frozen importlib._bootstrap>:404(parent)\n",
            "       20    0.000    0.000    0.000    0.000 tempfile.py:281(rng)\n",
            "        1    0.000    0.000    0.000    0.000 dataloader.py:610(_reset)\n",
            "        5    0.000    0.000    0.000    0.000 queues.py:204(_finalize_close)\n",
            "        1    0.000    0.000    0.000    0.000 {built-in method _warnings.warn}\n",
            "        2    0.000    0.000    0.000    0.000 {built-in method torch.empty}\n",
            "        3    0.000    0.000    0.000    0.000 typing.py:137(_type_convert)\n",
            "        4    0.000    0.000    0.000    0.000 dataloader.py:1375(_mark_worker_as_unavailable)\n",
            "        2    0.000    0.000    0.000    0.000 {method 'random_' of 'torch._C.TensorBase' objects}\n",
            "        1    0.000    0.000    0.000    0.000 __init__.py:776(current_device)\n",
            "        3    0.000    0.000    0.000    0.000 sampler.py:145(num_samples)\n",
            "       10    0.000    0.000    0.000    0.000 connection.py:117(__init__)\n",
            "        4    0.000    0.000    0.000    0.000 selectors.py:352(register)\n",
            "        1    0.000    0.000    0.000    0.000 queue.py:34(__init__)\n",
            "        1    0.000    0.000    0.000    0.000 std.py:686(_decr_instances)\n",
            "        1    0.000    0.000    0.000    0.000 typing.py:664(__init__)\n",
            "        1    0.000    0.000    0.000    0.000 warnings.py:96(_showwarnmsg)\n",
            "       25    0.000    0.000    0.000    0.000 weakref.py:353(__init__)\n",
            "        1    0.000    0.000    0.000    0.000 warnings.py:20(_showwarnmsg_impl)\n",
            "        4    0.000    0.000    0.000    0.000 signal_handling.py:63(handler)\n",
            "       25    0.000    0.000    0.000    0.000 weakref.py:348(__new__)\n",
            "        1    0.000    0.000    0.000    0.000 {built-in method builtins.compile}\n",
            "        8    0.000    0.000    0.000    0.000 typing.py:986(__setattr__)\n",
            "        4    0.000    0.000    0.000    0.000 util.py:461(close_fds)\n",
            "        1    0.000    0.000    0.000    0.000 typing_extensions.py:2954(_has_generic_or_protocol_as_origin)\n",
            "        1    0.000    0.000    0.000    0.000 utils.py:333(_screen_shape_linux)\n",
            "        4    0.000    0.000    0.000    0.000 selectors.py:203(__exit__)\n",
            "        4    0.000    0.000    0.000    0.000 selectors.py:235(register)\n",
            "        1    0.000    0.000    0.000    0.000 synchronize.py:334(set)\n",
            "        1    0.000    0.000    0.000    0.000 typing.py:947(__init__)\n",
            "        9    0.000    0.000    0.000    0.000 queues.py:153(cancel_join_thread)\n",
            "       25    0.000    0.000    0.000    0.000 weakref.py:106(remove)\n",
            "        4    0.000    0.000    0.000    0.000 selectors.py:269(close)\n",
            "        4    0.000    0.000    0.000    0.000 {built-in method torch._C._error_if_any_worker_fails}\n",
            "        4    0.000    0.000    0.000    0.000 selectors.py:348(__init__)\n",
            "        9    0.000    0.000    0.000    0.000 threading.py:1430(current_thread)\n",
            "        1    0.000    0.000    0.000    0.000 dataloader.py:457(__len__)\n",
            "        3    0.000    0.000    0.000    0.000 _weakrefset.py:63(__iter__)\n",
            "        1    0.000    0.000    0.000    0.000 std.py:760(get_lock)\n",
            "        2    0.000    0.000    0.000    0.000 typing_extensions.py:2976(_is_unpacked_typevartuple)\n",
            "        7    0.000    0.000    0.000    0.000 threading.py:1301(_make_invoke_excepthook)\n",
            "        1    0.000    0.000    0.000    0.000 {built-in method torch._C._cuda_getDevice}\n",
            "        1    0.000    0.000    0.000    0.000 std.py:679(_get_free_pos)\n",
            "        4    0.000    0.000    0.000    0.000 std.py:110(__enter__)\n",
            "       20    0.000    0.000    0.000    0.000 synchronize.py:90(_make_methods)\n",
            "        1    0.000    0.000    0.000    0.000 sampler.py:297(__len__)\n",
            "        1    0.000    0.000    0.000    0.000 __init__.py:263(_lazy_init)\n",
            "        4    0.000    0.000    0.000    0.000 std.py:113(__exit__)\n",
            "       24    0.000    0.000    0.000    0.000 {method 'join' of 'str' objects}\n",
            "       36    0.000    0.000    0.000    0.000 {method 'rpartition' of 'str' objects}\n",
            "        5    0.000    0.000    0.000    0.000 dataloader.py:1082(<genexpr>)\n",
            "        1    0.000    0.000    0.000    0.000 sampler.py:170(__len__)\n",
            "        1    0.000    0.000    0.000    0.000 {built-in method torch._C._set_worker_pids}\n",
            "      160    0.000    0.000    0.000    0.000 {method 'random' of '_random.Random' objects}\n",
            "        8    0.000    0.000    0.000    0.000 threading.py:1183(daemon)\n",
            "      160    0.000    0.000    0.000    0.000 {built-in method math.floor}\n",
            "       49    0.000    0.000    0.000    0.000 util.py:48(debug)\n",
            "        4    0.000    0.000    0.000    0.000 {method 'copy' of 'dict' objects}\n",
            "        4    0.000    0.000    0.000    0.000 synchronize.py:327(is_set)\n",
            "        1    0.000    0.000    0.000    0.000 typing.py:267(_remove_dups_flatten)\n",
            "        8    0.000    0.000    0.000    0.000 typing.py:935(_is_dunder)\n",
            "        1    0.000    0.000    0.000    0.000 utils.py:213(__init__)\n",
            "        1    0.000    0.000    0.000    0.000 std.py:682(<setcomp>)\n",
            "        1    0.000    0.000    0.000    0.000 utils.py:347(<listcomp>)\n",
            "        1    0.000    0.000    0.000    0.000 synchronize.py:296(notify_all)\n",
            "        2    0.000    0.000    0.000    0.000 typing.py:1902(get_origin)\n",
            "        1    0.000    0.000    0.000    0.000 warnings.py:117(_formatwarnmsg)\n",
            "       13    0.000    0.000    0.000    0.000 typing.py:705(__eq__)\n",
            "        2    0.000    0.000    0.000    0.000 _weakrefset.py:27(__exit__)\n",
            "        4    0.000    0.000    0.000    0.000 range.py:892(__len__)\n",
            "       20    0.000    0.000    0.000    0.000 context.py:197(get_start_method)\n",
            "        1    0.000    0.000    0.000    0.000 warnings.py:35(_formatwarnmsg_impl)\n",
            "        5    0.000    0.000    0.000    0.000 synchronize.py:229(__enter__)\n",
            "        3    0.000    0.000    0.000    0.000 typing.py:515(<genexpr>)\n",
            "        4    0.000    0.000    0.000    0.000 process.py:153(is_alive)\n",
            "        7    0.000    0.000    0.000    0.000 threading.py:1198(daemon)\n",
            "        1    0.000    0.000    0.000    0.000 __init__.py:216(is_initialized)\n",
            "        4    0.000    0.000    0.000    0.000 selectors.py:210(__init__)\n",
            "        1    0.000    0.000    0.000    0.000 _weakrefset.py:111(remove)\n",
            "        4    0.000    0.000    0.000    0.000 selectors.py:216(_fileobj_lookup)\n",
            "        1    0.000    0.000    0.000    0.000 std.py:90(__init__)\n",
            "        4    0.000    0.000    0.000    0.000 process.py:189(name)\n",
            "        1    0.000    0.000    0.000    0.000 synchronize.py:270(notify)\n",
            "        1    0.000    0.000    0.000    0.000 dataloader.py:93(_get_distributed_settings)\n",
            "        3    0.000    0.000    0.000    0.000 {method 'remove' of 'set' objects}\n",
            "        5    0.000    0.000    0.000    0.000 synchronize.py:232(__exit__)\n",
            "        4    0.000    0.000    0.000    0.000 process.py:234(ident)\n",
            "        5    0.000    0.000    0.000    0.000 _weakrefset.py:39(_remove)\n",
            "       25    0.000    0.000    0.000    0.000 {built-in method _weakref._remove_dead_weakref}\n",
            "        2    0.000    0.000    0.000    0.000 typing_extensions.py:154(_should_collect_from_parameters)\n",
            "        1    0.000    0.000    0.000    0.000 signal_handling.py:47(_set_SIGCHLD_handler)\n",
            "        5    0.000    0.000    0.000    0.000 synchronize.py:94(__enter__)\n",
            "        2    0.000    0.000    0.000    0.000 _weakrefset.py:53(_commit_removals)\n",
            "        1    0.000    0.000    0.000    0.000 dataloader.py:513(_create_warning_msg)\n",
            "        1    0.000    0.000    0.000    0.000 threading.py:568(set)\n",
            "        2    0.000    0.000    0.000    0.000 threading.py:782(_newname)\n",
            "        9    0.000    0.000    0.000    0.000 util.py:44(sub_debug)\n",
            "        1    0.000    0.000    0.000    0.000 functools.py:393(__get__)\n",
            "        1    0.000    0.000    0.000    0.000 threading.py:1028(_stop)\n",
            "        4    0.000    0.000    0.000    0.000 __init__.py:219(_acquireLock)\n",
            "        4    0.000    0.000    0.000    0.000 <string>:1(<lambda>)\n",
            "       35    0.000    0.000    0.000    0.000 _collections_abc.py:262(__subclasshook__)\n",
            "       16    0.000    0.000    0.000    0.000 process.py:99(_check_closed)\n",
            "        4    0.000    0.000    0.000    0.000 selectors.py:21(_fileobj_to_fd)\n",
            "       21    0.000    0.000    0.000    0.000 context.py:187(get_context)\n",
            "        2    0.000    0.000    0.000    0.000 typing.py:714(__hash__)\n",
            "        5    0.000    0.000    0.000    0.000 synchronize.py:97(__exit__)\n",
            "        4    0.000    0.000    0.000    0.000 selectors.py:276(_key_from_fd)\n",
            "        1    0.000    0.000    0.000    0.000 queue.py:206(_init)\n",
            "        1    0.000    0.000    0.000    0.000 utils.py:266(_supports_unicode)\n",
            "       10    0.000    0.000    0.000    0.000 context.py:237(get_context)\n",
            "        8    0.000    0.000    0.000    0.000 process.py:94(<genexpr>)\n",
            "        1    0.000    0.000    0.000    0.000 dataloader.py:1103(<listcomp>)\n",
            "        1    0.000    0.000    0.000    0.000 {built-in method fcntl.ioctl}\n",
            "        1    0.000    0.000    0.000    0.000 distributed_c10d.py:973(is_initialized)\n",
            "        1    0.000    0.000    0.000    0.000 {built-in method fromtimestamp}\n",
            "        1    0.000    0.000    0.000    0.000 linecache.py:26(getline)\n",
            "        1    0.000    0.000    0.000    0.000 utils.py:125(__eq__)\n",
            "        1    0.000    0.000    0.000    0.000 warnings.py:403(__init__)\n",
            "        1    0.000    0.000    0.000    0.000 utils.py:156(__init__)\n",
            "        2    0.000    0.000    0.000    0.000 utils.py:187(disable_on_exception)\n",
            "        1    0.000    0.000    0.000    0.000 threading.py:389(notify_all)\n",
            "        1    0.000    0.000    0.000    0.000 {built-in method torch._C._remove_worker_pids}\n",
            "        4    0.000    0.000    0.000    0.000 connection.py:933(<listcomp>)\n",
            "        2    0.000    0.000    0.000    0.000 _weakrefset.py:21(__enter__)\n",
            "        1    0.000    0.000    0.000    0.000 dataloader.py:1478(__del__)\n",
            "        1    0.000    0.000    0.000    0.000 typing.py:253(_deduplicate)\n",
            "       10    0.000    0.000    0.000    0.000 connection.py:130(__del__)\n",
            "        5    0.000    0.000    0.000    0.000 {method '__enter__' of '_multiprocessing.SemLock' objects}\n",
            "        4    0.000    0.000    0.000    0.000 {built-in method select.poll}\n",
            "        2    0.000    0.000    0.000    0.000 std.py:1157(__hash__)\n",
            "        4    0.000    0.000    0.000    0.000 {method 'register' of 'select.poll' objects}\n",
            "        1    0.000    0.000    0.000    0.000 {method 'manual_seed' of 'torch._C.Generator' objects}\n",
            "        3    0.000    0.000    0.000    0.000 utils.py:152(wrapper_setattr)\n",
            "        1    0.000    0.000    0.000    0.000 {built-in method posix.sched_getaffinity}\n",
            "        2    0.000    0.000    0.000    0.000 utils.py:222(__eq__)\n",
            "        2    0.000    0.000    0.000    0.000 std.py:1153(_comparable)\n",
            "        4    0.000    0.000    0.000    0.000 selectors.py:64(__init__)\n",
            "        2    0.000    0.000    0.000    0.000 utils.py:139(__getattr__)\n",
            "        1    0.000    0.000    0.000    0.000 util.py:229(cancel)\n",
            "        2    0.000    0.000    0.000    0.000 dataloader.py:445(_index_sampler)\n",
            "        4    0.000    0.000    0.000    0.000 {built-in method math.ceil}\n",
            "        3    0.000    0.000    0.000    0.000 std.py:226(__init__)\n",
            "        9    0.000    0.000    0.000    0.000 {built-in method _thread.get_ident}\n",
            "        1    0.000    0.000    0.000    0.000 distributed_c10d.py:588(WORLD)\n",
            "        1    0.000    0.000    0.000    0.000 __init__.py:9(is_available)\n",
            "        2    0.000    0.000    0.000    0.000 _weakrefset.py:17(__init__)\n",
            "        4    0.000    0.000    0.000    0.000 process.py:205(daemon)\n",
            "        1    0.000    0.000    0.000    0.000 os.py:759(decode)\n",
            "        1    0.000    0.000    0.000    0.000 linecache.py:36(getlines)\n",
            "        7    0.000    0.000    0.000    0.000 {method '__exit__' of '_thread.RLock' objects}\n",
            "        2    0.000    0.000    0.000    0.000 {method 'pop' of 'list' objects}\n",
            "        4    0.000    0.000    0.000    0.000 {method 'clear' of 'dict' objects}\n",
            "        4    0.000    0.000    0.000    0.000 {built-in method posix.waitstatus_to_exitcode}\n",
            "        1    0.000    0.000    0.000    0.000 std.py:1147(__del__)\n",
            "        1    0.000    0.000    0.000    0.000 utils.py:252(_is_utf)\n",
            "        3    0.000    0.000    0.000    0.000 dataloader.py:441(_auto_collation)\n",
            "        1    0.000    0.000    0.000    0.000 std.py:116(create_mp_lock)\n",
            "        4    0.000    0.000    0.000    0.000 {method 'pop' of 'dict' objects}\n",
            "        5    0.000    0.000    0.000    0.000 {method 'clear' of 'collections.deque' objects}\n",
            "        3    0.000    0.000    0.000    0.000 typing.py:1022(<genexpr>)\n",
            "        1    0.000    0.000    0.000    0.000 std.py:98(<listcomp>)\n",
            "        1    0.000    0.000    0.000    0.000 typing.py:380(__repr__)\n",
            "        1    0.000    0.000    0.000    0.000 {built-in method torch._C._cuda_isInBadFork}\n",
            "        2    0.000    0.000    0.000    0.000 {built-in method _weakref.proxy}\n",
            "        4    0.000    0.000    0.000    0.000 selectors.py:200(__enter__)\n",
            "        1    0.000    0.000    0.000    0.000 synchronize.py:235(_make_methods)\n",
            "        1    0.000    0.000    0.000    0.000 utils.py:282(_screen_shape_wrapper)\n",
            "        5    0.000    0.000    0.000    0.000 {method '__exit__' of '_multiprocessing.SemLock' objects}\n",
            "        1    0.000    0.000    0.000    0.000 {method 'difference' of 'set' objects}\n",
            "        1    0.000    0.000    0.000    0.000 dataloader.py:389(multiprocessing_context)\n",
            "        1    0.000    0.000    0.000    0.000 distributed_c10d.py:460(default_pg)\n",
            "        1    0.000    0.000    0.000    0.000 {built-in method builtins.min}\n",
            "        1    0.000    0.000    0.000    0.000 {method 'locked' of '_thread.lock' objects}\n",
            "        1    0.000    0.000    0.000    0.000 {built-in method sys._getframe}\n",
            "        1    0.000    0.000    0.000    0.000 {method 'strip' of 'str' objects}\n",
            "        1    0.000    0.000    0.000    0.000 {method 'decode' of 'bytes' objects}\n",
            "        1    0.000    0.000    0.000    0.000 {built-in method atexit.register}\n",
            "        1    0.000    0.000    0.000    0.000 {method 'disable' of '_lsprof.Profiler' objects}\n",
            "        1    0.000    0.000    0.000    0.000 std.py:1301(<lambda>)\n",
            "        1    0.000    0.000    0.000    0.000 {method '_is_mine' of '_multiprocessing.SemLock' objects}\n",
            "\n",
            "\n"
          ]
        },
        {
          "name": "stderr",
          "output_type": "stream",
          "text": [
            "  0%|          | 2/2298 [00:01<29:05,  1.32it/s]  "
          ]
        },
        {
          "name": "stdout",
          "output_type": "stream",
          "text": [
            "Step 0, Loss: 2.0079240798950195, Elapsed Time: 1.60s\n"
          ]
        },
        {
          "name": "stderr",
          "output_type": "stream",
          "text": [
            "  4%|▍         | 102/2298 [00:17<06:24,  5.71it/s]"
          ]
        },
        {
          "name": "stdout",
          "output_type": "stream",
          "text": [
            "Step 100, Loss: 1.7206135693162974, Elapsed Time: 15.60s\n"
          ]
        },
        {
          "name": "stderr",
          "output_type": "stream",
          "text": [
            "  9%|▊         | 201/2298 [00:32<07:52,  4.44it/s]"
          ]
        },
        {
          "name": "stdout",
          "output_type": "stream",
          "text": [
            "Step 200, Loss: 1.7001143210562901, Elapsed Time: 15.34s\n"
          ]
        },
        {
          "name": "stderr",
          "output_type": "stream",
          "text": [
            " 13%|█▎        | 302/2298 [00:47<06:30,  5.11it/s]"
          ]
        },
        {
          "name": "stdout",
          "output_type": "stream",
          "text": [
            "Step 300, Loss: 1.6862120505583247, Elapsed Time: 15.15s\n"
          ]
        },
        {
          "name": "stderr",
          "output_type": "stream",
          "text": [
            " 17%|█▋        | 402/2298 [01:03<06:10,  5.12it/s]"
          ]
        },
        {
          "name": "stdout",
          "output_type": "stream",
          "text": [
            "Step 400, Loss: 1.6753196824815801, Elapsed Time: 15.41s\n"
          ]
        },
        {
          "name": "stderr",
          "output_type": "stream",
          "text": [
            " 22%|██▏       | 502/2298 [01:18<04:54,  6.10it/s]"
          ]
        },
        {
          "name": "stdout",
          "output_type": "stream",
          "text": [
            "Step 500, Loss: 1.6672513307687526, Elapsed Time: 15.31s\n"
          ]
        },
        {
          "name": "stderr",
          "output_type": "stream",
          "text": [
            " 26%|██▌       | 602/2298 [01:34<03:38,  7.76it/s]"
          ]
        },
        {
          "name": "stdout",
          "output_type": "stream",
          "text": [
            "Step 600, Loss: 1.6562005875511296, Elapsed Time: 15.72s\n"
          ]
        },
        {
          "name": "stderr",
          "output_type": "stream",
          "text": [
            " 31%|███       | 702/2298 [01:49<03:32,  7.51it/s]"
          ]
        },
        {
          "name": "stdout",
          "output_type": "stream",
          "text": [
            "Step 700, Loss: 1.6525410307457036, Elapsed Time: 15.62s\n"
          ]
        },
        {
          "name": "stderr",
          "output_type": "stream",
          "text": [
            " 35%|███▍      | 802/2298 [02:05<03:21,  7.41it/s]"
          ]
        },
        {
          "name": "stdout",
          "output_type": "stream",
          "text": [
            "Step 800, Loss: 1.650428781274255, Elapsed Time: 15.94s\n"
          ]
        },
        {
          "name": "stderr",
          "output_type": "stream",
          "text": [
            " 39%|███▉      | 902/2298 [02:21<03:02,  7.63it/s]"
          ]
        },
        {
          "name": "stdout",
          "output_type": "stream",
          "text": [
            "Step 900, Loss: 1.6472062817821227, Elapsed Time: 15.95s\n"
          ]
        },
        {
          "name": "stderr",
          "output_type": "stream",
          "text": [
            " 44%|████▎     | 1002/2298 [02:37<02:52,  7.53it/s]"
          ]
        },
        {
          "name": "stdout",
          "output_type": "stream",
          "text": [
            "Step 1000, Loss: 1.6396151264230687, Elapsed Time: 16.00s\n"
          ]
        },
        {
          "name": "stderr",
          "output_type": "stream",
          "text": [
            " 48%|████▊     | 1102/2298 [02:53<02:39,  7.50it/s]"
          ]
        },
        {
          "name": "stdout",
          "output_type": "stream",
          "text": [
            "Step 1100, Loss: 1.6334729048471686, Elapsed Time: 15.79s\n"
          ]
        },
        {
          "name": "stderr",
          "output_type": "stream",
          "text": [
            " 52%|█████▏    | 1202/2298 [03:09<02:26,  7.49it/s]"
          ]
        },
        {
          "name": "stdout",
          "output_type": "stream",
          "text": [
            "Step 1200, Loss: 1.6259443950990555, Elapsed Time: 15.82s\n"
          ]
        },
        {
          "name": "stderr",
          "output_type": "stream",
          "text": [
            " 57%|█████▋    | 1302/2298 [03:24<02:20,  7.08it/s]"
          ]
        },
        {
          "name": "stdout",
          "output_type": "stream",
          "text": [
            "Step 1300, Loss: 1.618705988617515, Elapsed Time: 15.61s\n"
          ]
        },
        {
          "name": "stderr",
          "output_type": "stream",
          "text": [
            " 61%|██████    | 1402/2298 [03:40<02:06,  7.09it/s]"
          ]
        },
        {
          "name": "stdout",
          "output_type": "stream",
          "text": [
            "Step 1400, Loss: 1.6132723024110978, Elapsed Time: 15.82s\n"
          ]
        },
        {
          "name": "stderr",
          "output_type": "stream",
          "text": [
            " 65%|██████▌   | 1502/2298 [03:59<02:06,  6.32it/s]"
          ]
        },
        {
          "name": "stdout",
          "output_type": "stream",
          "text": [
            "Step 1500, Loss: 1.6061620682894906, Elapsed Time: 18.98s\n"
          ]
        },
        {
          "name": "stderr",
          "output_type": "stream",
          "text": [
            " 70%|██████▉   | 1602/2298 [04:15<02:19,  4.99it/s]"
          ]
        },
        {
          "name": "stdout",
          "output_type": "stream",
          "text": [
            "Step 1600, Loss: 1.5985933258561773, Elapsed Time: 15.75s\n"
          ]
        },
        {
          "name": "stderr",
          "output_type": "stream",
          "text": [
            " 74%|███████▍  | 1702/2298 [04:30<02:00,  4.93it/s]"
          ]
        },
        {
          "name": "stdout",
          "output_type": "stream",
          "text": [
            "Step 1700, Loss: 1.5959981988627094, Elapsed Time: 15.27s\n"
          ]
        },
        {
          "name": "stderr",
          "output_type": "stream",
          "text": [
            " 78%|███████▊  | 1802/2298 [04:46<01:39,  4.99it/s]"
          ]
        },
        {
          "name": "stdout",
          "output_type": "stream",
          "text": [
            "Step 1800, Loss: 1.5919181639323428, Elapsed Time: 15.40s\n"
          ]
        },
        {
          "name": "stderr",
          "output_type": "stream",
          "text": [
            " 83%|████████▎ | 1901/2298 [05:01<01:18,  5.04it/s]"
          ]
        },
        {
          "name": "stdout",
          "output_type": "stream",
          "text": [
            "Step 1900, Loss: 1.585639072430253, Elapsed Time: 15.34s\n"
          ]
        },
        {
          "name": "stderr",
          "output_type": "stream",
          "text": [
            " 87%|████████▋ | 2002/2298 [05:16<00:54,  5.42it/s]"
          ]
        },
        {
          "name": "stdout",
          "output_type": "stream",
          "text": [
            "Step 2000, Loss: 1.583958387940839, Elapsed Time: 15.23s\n"
          ]
        },
        {
          "name": "stderr",
          "output_type": "stream",
          "text": [
            " 91%|█████████▏| 2102/2298 [05:32<00:34,  5.61it/s]"
          ]
        },
        {
          "name": "stdout",
          "output_type": "stream",
          "text": [
            "Step 2100, Loss: 1.5816019539149928, Elapsed Time: 15.55s\n"
          ]
        },
        {
          "name": "stderr",
          "output_type": "stream",
          "text": [
            " 96%|█████████▌| 2202/2298 [05:48<00:16,  5.99it/s]"
          ]
        },
        {
          "name": "stdout",
          "output_type": "stream",
          "text": [
            "Step 2200, Loss: 1.5802848130559337, Elapsed Time: 15.80s\n"
          ]
        },
        {
          "name": "stderr",
          "output_type": "stream",
          "text": [
            "100%|██████████| 2298/2298 [06:03<00:00,  6.33it/s]\n"
          ]
        },
        {
          "name": "stdout",
          "output_type": "stream",
          "text": [
            "Epoch 0, Loss: 1.5758657991056135\n"
          ]
        },
        {
          "name": "stderr",
          "output_type": "stream",
          "text": [
            "  0%|          | 2/2298 [00:00<08:28,  4.52it/s]"
          ]
        },
        {
          "name": "stdout",
          "output_type": "stream",
          "text": [
            "Step 0, Loss: 2.035775899887085, Elapsed Time: 0.35s\n"
          ]
        },
        {
          "name": "stderr",
          "output_type": "stream",
          "text": [
            "  4%|▍         | 102/2298 [00:16<04:50,  7.56it/s]"
          ]
        },
        {
          "name": "stdout",
          "output_type": "stream",
          "text": [
            "Step 100, Loss: 1.4724072253349985, Elapsed Time: 15.82s\n"
          ]
        },
        {
          "name": "stderr",
          "output_type": "stream",
          "text": [
            "  9%|▉         | 202/2298 [00:32<04:57,  7.05it/s]"
          ]
        },
        {
          "name": "stdout",
          "output_type": "stream",
          "text": [
            "Step 200, Loss: 1.4772048895038776, Elapsed Time: 15.85s\n"
          ]
        },
        {
          "name": "stderr",
          "output_type": "stream",
          "text": [
            " 13%|█▎        | 302/2298 [00:47<04:27,  7.46it/s]"
          ]
        },
        {
          "name": "stdout",
          "output_type": "stream",
          "text": [
            "Step 300, Loss: 1.5027970279570038, Elapsed Time: 15.65s\n"
          ]
        },
        {
          "name": "stderr",
          "output_type": "stream",
          "text": [
            " 17%|█▋        | 402/2298 [01:03<04:08,  7.64it/s]"
          ]
        },
        {
          "name": "stdout",
          "output_type": "stream",
          "text": [
            "Step 400, Loss: 1.4939074644126797, Elapsed Time: 15.70s\n"
          ]
        },
        {
          "name": "stderr",
          "output_type": "stream",
          "text": [
            " 22%|██▏       | 502/2298 [01:19<04:00,  7.46it/s]"
          ]
        },
        {
          "name": "stdout",
          "output_type": "stream",
          "text": [
            "Step 500, Loss: 1.4923339066153276, Elapsed Time: 15.79s\n"
          ]
        },
        {
          "name": "stderr",
          "output_type": "stream",
          "text": [
            " 26%|██▌       | 602/2298 [01:34<03:48,  7.43it/s]"
          ]
        },
        {
          "name": "stdout",
          "output_type": "stream",
          "text": [
            "Step 600, Loss: 1.4926734909836743, Elapsed Time: 15.66s\n"
          ]
        },
        {
          "name": "stderr",
          "output_type": "stream",
          "text": [
            " 31%|███       | 702/2298 [01:53<03:54,  6.81it/s]"
          ]
        },
        {
          "name": "stdout",
          "output_type": "stream",
          "text": [
            "Step 700, Loss: 1.4906157530663526, Elapsed Time: 18.18s\n"
          ]
        },
        {
          "name": "stderr",
          "output_type": "stream",
          "text": [
            " 35%|███▍      | 802/2298 [02:09<03:19,  7.49it/s]"
          ]
        },
        {
          "name": "stdout",
          "output_type": "stream",
          "text": [
            "Step 800, Loss: 1.4996553926581002, Elapsed Time: 15.96s\n"
          ]
        },
        {
          "name": "stderr",
          "output_type": "stream",
          "text": [
            " 39%|███▉      | 902/2298 [02:24<03:09,  7.38it/s]"
          ]
        },
        {
          "name": "stdout",
          "output_type": "stream",
          "text": [
            "Step 900, Loss: 1.4977920974928318, Elapsed Time: 15.79s\n"
          ]
        },
        {
          "name": "stderr",
          "output_type": "stream",
          "text": [
            " 44%|████▎     | 1002/2298 [02:40<02:52,  7.50it/s]"
          ]
        },
        {
          "name": "stdout",
          "output_type": "stream",
          "text": [
            "Step 1000, Loss: 1.494871477563898, Elapsed Time: 15.81s\n"
          ]
        },
        {
          "name": "stderr",
          "output_type": "stream",
          "text": [
            " 48%|████▊     | 1102/2298 [02:56<02:37,  7.61it/s]"
          ]
        },
        {
          "name": "stdout",
          "output_type": "stream",
          "text": [
            "Step 1100, Loss: 1.4887463724905527, Elapsed Time: 15.65s\n"
          ]
        },
        {
          "name": "stderr",
          "output_type": "stream",
          "text": [
            " 52%|█████▏    | 1202/2298 [03:12<02:30,  7.28it/s]"
          ]
        },
        {
          "name": "stdout",
          "output_type": "stream",
          "text": [
            "Step 1200, Loss: 1.4862211420573759, Elapsed Time: 16.35s\n"
          ]
        },
        {
          "name": "stderr",
          "output_type": "stream",
          "text": [
            " 57%|█████▋    | 1302/2298 [03:28<02:13,  7.46it/s]"
          ]
        },
        {
          "name": "stdout",
          "output_type": "stream",
          "text": [
            "Step 1300, Loss: 1.4813642632860482, Elapsed Time: 15.71s\n"
          ]
        },
        {
          "name": "stderr",
          "output_type": "stream",
          "text": [
            " 61%|██████    | 1402/2298 [03:44<02:01,  7.36it/s]"
          ]
        },
        {
          "name": "stdout",
          "output_type": "stream",
          "text": [
            "Step 1400, Loss: 1.4852469030828837, Elapsed Time: 15.81s\n"
          ]
        },
        {
          "name": "stderr",
          "output_type": "stream",
          "text": [
            " 65%|██████▌   | 1502/2298 [04:00<01:49,  7.26it/s]"
          ]
        },
        {
          "name": "stdout",
          "output_type": "stream",
          "text": [
            "Step 1500, Loss: 1.4809037383439778, Elapsed Time: 16.01s\n"
          ]
        },
        {
          "name": "stderr",
          "output_type": "stream",
          "text": [
            " 70%|██████▉   | 1602/2298 [04:16<01:37,  7.11it/s]"
          ]
        },
        {
          "name": "stdout",
          "output_type": "stream",
          "text": [
            "Step 1600, Loss: 1.481301188580622, Elapsed Time: 16.19s\n"
          ]
        },
        {
          "name": "stderr",
          "output_type": "stream",
          "text": [
            " 74%|███████▍  | 1701/2298 [04:32<02:09,  4.60it/s]"
          ]
        },
        {
          "name": "stdout",
          "output_type": "stream",
          "text": [
            "Step 1700, Loss: 1.4793330177288067, Elapsed Time: 16.09s\n"
          ]
        },
        {
          "name": "stderr",
          "output_type": "stream",
          "text": [
            " 78%|███████▊  | 1801/2298 [04:48<01:45,  4.73it/s]"
          ]
        },
        {
          "name": "stdout",
          "output_type": "stream",
          "text": [
            "Step 1800, Loss: 1.4774882801038434, Elapsed Time: 15.70s\n"
          ]
        },
        {
          "name": "stderr",
          "output_type": "stream",
          "text": [
            " 83%|████████▎ | 1902/2298 [05:04<01:19,  4.96it/s]"
          ]
        },
        {
          "name": "stdout",
          "output_type": "stream",
          "text": [
            "Step 1900, Loss: 1.4759392312863575, Elapsed Time: 15.83s\n"
          ]
        },
        {
          "name": "stderr",
          "output_type": "stream",
          "text": [
            " 87%|████████▋ | 2002/2298 [05:19<00:57,  5.12it/s]"
          ]
        },
        {
          "name": "stdout",
          "output_type": "stream",
          "text": [
            "Step 2000, Loss: 1.476575612992063, Elapsed Time: 15.30s\n"
          ]
        },
        {
          "name": "stderr",
          "output_type": "stream",
          "text": [
            " 91%|█████████▏| 2102/2298 [05:34<00:34,  5.64it/s]"
          ]
        },
        {
          "name": "stdout",
          "output_type": "stream",
          "text": [
            "Step 2100, Loss: 1.4772711747717369, Elapsed Time: 15.06s\n"
          ]
        },
        {
          "name": "stderr",
          "output_type": "stream",
          "text": [
            " 96%|█████████▌| 2202/2298 [05:53<00:20,  4.71it/s]"
          ]
        },
        {
          "name": "stdout",
          "output_type": "stream",
          "text": [
            "Step 2200, Loss: 1.4761750301357184, Elapsed Time: 18.68s\n"
          ]
        },
        {
          "name": "stderr",
          "output_type": "stream",
          "text": [
            "100%|██████████| 2298/2298 [06:08<00:00,  6.24it/s]\n"
          ]
        },
        {
          "name": "stdout",
          "output_type": "stream",
          "text": [
            "Epoch 1, Loss: 1.476756656761269\n"
          ]
        },
        {
          "name": "stderr",
          "output_type": "stream",
          "text": [
            "  0%|          | 2/2298 [00:00<14:00,  2.73it/s]"
          ]
        },
        {
          "name": "stdout",
          "output_type": "stream",
          "text": [
            "Step 0, Loss: 2.176831007003784, Elapsed Time: 0.63s\n"
          ]
        },
        {
          "name": "stderr",
          "output_type": "stream",
          "text": [
            "  4%|▍         | 101/2298 [00:16<07:48,  4.69it/s]"
          ]
        },
        {
          "name": "stdout",
          "output_type": "stream",
          "text": [
            "Step 100, Loss: 1.4550353265044713, Elapsed Time: 15.71s\n"
          ]
        },
        {
          "name": "stderr",
          "output_type": "stream",
          "text": [
            "  9%|▉         | 202/2298 [00:32<06:37,  5.28it/s]"
          ]
        },
        {
          "name": "stdout",
          "output_type": "stream",
          "text": [
            "Step 200, Loss: 1.446151908357345, Elapsed Time: 15.62s\n"
          ]
        },
        {
          "name": "stderr",
          "output_type": "stream",
          "text": [
            " 13%|█▎        | 302/2298 [00:47<06:26,  5.16it/s]"
          ]
        },
        {
          "name": "stdout",
          "output_type": "stream",
          "text": [
            "Step 300, Loss: 1.434476563898828, Elapsed Time: 15.73s\n"
          ]
        },
        {
          "name": "stderr",
          "output_type": "stream",
          "text": [
            " 17%|█▋        | 402/2298 [01:03<05:38,  5.61it/s]"
          ]
        },
        {
          "name": "stdout",
          "output_type": "stream",
          "text": [
            "Step 400, Loss: 1.4411966875009703, Elapsed Time: 15.68s\n"
          ]
        },
        {
          "name": "stderr",
          "output_type": "stream",
          "text": [
            " 22%|██▏       | 502/2298 [01:19<05:20,  5.61it/s]"
          ]
        },
        {
          "name": "stdout",
          "output_type": "stream",
          "text": [
            "Step 500, Loss: 1.4559928808145657, Elapsed Time: 15.69s\n"
          ]
        },
        {
          "name": "stderr",
          "output_type": "stream",
          "text": [
            " 26%|██▌       | 602/2298 [01:34<04:37,  6.11it/s]"
          ]
        },
        {
          "name": "stdout",
          "output_type": "stream",
          "text": [
            "Step 600, Loss: 1.4527172691215096, Elapsed Time: 15.72s\n"
          ]
        },
        {
          "name": "stderr",
          "output_type": "stream",
          "text": [
            " 31%|███       | 702/2298 [01:50<03:40,  7.25it/s]"
          ]
        },
        {
          "name": "stdout",
          "output_type": "stream",
          "text": [
            "Step 700, Loss: 1.4484060126942677, Elapsed Time: 15.77s\n"
          ]
        },
        {
          "name": "stderr",
          "output_type": "stream",
          "text": [
            " 35%|███▍      | 802/2298 [02:06<03:28,  7.17it/s]"
          ]
        },
        {
          "name": "stdout",
          "output_type": "stream",
          "text": [
            "Step 800, Loss: 1.4548150382833682, Elapsed Time: 16.08s\n"
          ]
        },
        {
          "name": "stderr",
          "output_type": "stream",
          "text": [
            " 39%|███▉      | 902/2298 [02:22<03:05,  7.52it/s]"
          ]
        },
        {
          "name": "stdout",
          "output_type": "stream",
          "text": [
            "Step 900, Loss: 1.4537219172312603, Elapsed Time: 16.15s\n"
          ]
        },
        {
          "name": "stderr",
          "output_type": "stream",
          "text": [
            " 44%|████▎     | 1002/2298 [02:38<02:54,  7.41it/s]"
          ]
        },
        {
          "name": "stdout",
          "output_type": "stream",
          "text": [
            "Step 1000, Loss: 1.450367507758317, Elapsed Time: 15.86s\n"
          ]
        },
        {
          "name": "stderr",
          "output_type": "stream",
          "text": [
            " 48%|████▊     | 1102/2298 [02:54<02:42,  7.37it/s]"
          ]
        },
        {
          "name": "stdout",
          "output_type": "stream",
          "text": [
            "Step 1100, Loss: 1.4503463654492141, Elapsed Time: 15.95s\n"
          ]
        },
        {
          "name": "stderr",
          "output_type": "stream",
          "text": [
            " 52%|█████▏    | 1202/2298 [03:10<02:30,  7.28it/s]"
          ]
        },
        {
          "name": "stdout",
          "output_type": "stream",
          "text": [
            "Step 1200, Loss: 1.4519553327937607, Elapsed Time: 15.98s\n"
          ]
        },
        {
          "name": "stderr",
          "output_type": "stream",
          "text": [
            " 57%|█████▋    | 1302/2298 [03:26<02:15,  7.34it/s]"
          ]
        },
        {
          "name": "stdout",
          "output_type": "stream",
          "text": [
            "Step 1300, Loss: 1.4522367823499611, Elapsed Time: 15.79s\n"
          ]
        },
        {
          "name": "stderr",
          "output_type": "stream",
          "text": [
            " 61%|██████    | 1402/2298 [03:44<02:16,  6.58it/s]"
          ]
        },
        {
          "name": "stdout",
          "output_type": "stream",
          "text": [
            "Step 1400, Loss: 1.4518307274277937, Elapsed Time: 18.33s\n"
          ]
        },
        {
          "name": "stderr",
          "output_type": "stream",
          "text": [
            " 65%|██████▌   | 1502/2298 [04:00<01:46,  7.46it/s]"
          ]
        },
        {
          "name": "stdout",
          "output_type": "stream",
          "text": [
            "Step 1500, Loss: 1.4462632418949553, Elapsed Time: 16.12s\n"
          ]
        },
        {
          "name": "stderr",
          "output_type": "stream",
          "text": [
            " 70%|██████▉   | 1602/2298 [04:16<01:36,  7.24it/s]"
          ]
        },
        {
          "name": "stdout",
          "output_type": "stream",
          "text": [
            "Step 1600, Loss: 1.4433864552776638, Elapsed Time: 15.96s\n"
          ]
        },
        {
          "name": "stderr",
          "output_type": "stream",
          "text": [
            " 74%|███████▍  | 1702/2298 [04:32<01:21,  7.36it/s]"
          ]
        },
        {
          "name": "stdout",
          "output_type": "stream",
          "text": [
            "Step 1700, Loss: 1.443713372031217, Elapsed Time: 16.07s\n"
          ]
        },
        {
          "name": "stderr",
          "output_type": "stream",
          "text": [
            " 78%|███████▊  | 1802/2298 [04:48<01:07,  7.36it/s]"
          ]
        },
        {
          "name": "stdout",
          "output_type": "stream",
          "text": [
            "Step 1800, Loss: 1.4446445990111814, Elapsed Time: 15.94s\n"
          ]
        },
        {
          "name": "stderr",
          "output_type": "stream",
          "text": [
            " 83%|████████▎ | 1902/2298 [05:04<00:52,  7.48it/s]"
          ]
        },
        {
          "name": "stdout",
          "output_type": "stream",
          "text": [
            "Step 1900, Loss: 1.4440972145640931, Elapsed Time: 16.09s\n"
          ]
        },
        {
          "name": "stderr",
          "output_type": "stream",
          "text": [
            " 87%|████████▋ | 2002/2298 [05:20<00:40,  7.32it/s]"
          ]
        },
        {
          "name": "stdout",
          "output_type": "stream",
          "text": [
            "Step 2000, Loss: 1.4428511878539776, Elapsed Time: 15.70s\n"
          ]
        },
        {
          "name": "stderr",
          "output_type": "stream",
          "text": [
            " 91%|█████████▏| 2102/2298 [05:36<00:26,  7.26it/s]"
          ]
        },
        {
          "name": "stdout",
          "output_type": "stream",
          "text": [
            "Step 2100, Loss: 1.441599176419116, Elapsed Time: 16.09s\n"
          ]
        },
        {
          "name": "stderr",
          "output_type": "stream",
          "text": [
            " 96%|█████████▌| 2202/2298 [05:52<00:13,  7.16it/s]"
          ]
        },
        {
          "name": "stdout",
          "output_type": "stream",
          "text": [
            "Step 2200, Loss: 1.4442218920416532, Elapsed Time: 15.87s\n"
          ]
        },
        {
          "name": "stderr",
          "output_type": "stream",
          "text": [
            "100%|██████████| 2298/2298 [06:07<00:00,  6.24it/s]"
          ]
        },
        {
          "name": "stdout",
          "output_type": "stream",
          "text": [
            "Epoch 2, Loss: 1.4446985777872765\n"
          ]
        },
        {
          "name": "stderr",
          "output_type": "stream",
          "text": [
            "\n"
          ]
        }
      ],
      "source": [
        "import pandas as pd\n",
        "import torch\n",
        "from torch.utils.data import Dataset, DataLoader\n",
        "from transformers import AutoTokenizer, AutoModelForSeq2SeqLM, AdamW\n",
        "from torch.cuda.amp import GradScaler, autocast\n",
        "from tqdm import tqdm\n",
        "import time\n",
        "import cProfile\n",
        "\n",
        "class CustomDataset(Dataset):\n",
        "    def __init__(self, dataframe, tokenizer, max_len_input, max_len_output):\n",
        "        self.data = dataframe\n",
        "        self.articles = self.data['article']\n",
        "        self.highlights = self.data['highlights']\n",
        "        self.tokenizer = tokenizer\n",
        "        self.max_len_input = max_len_input\n",
        "        self.max_len_output = max_len_output\n",
        "\n",
        "    def __len__(self):\n",
        "        return len(self.data)\n",
        "\n",
        "    def __getitem__(self, idx):\n",
        "        article = self.articles[idx]\n",
        "        highlights = self.highlights[idx]\n",
        "\n",
        "        input_encoding = self.tokenizer.encode_plus(\n",
        "            article,\n",
        "            add_special_tokens=True,\n",
        "            max_length=self.max_len_input,\n",
        "            padding='max_length',\n",
        "            return_attention_mask=True,\n",
        "            return_tensors='pt',\n",
        "            truncation=True\n",
        "        )\n",
        "\n",
        "        target_encoding = self.tokenizer.encode_plus(\n",
        "            highlights,\n",
        "            add_special_tokens=True,\n",
        "            max_length=self.max_len_output,\n",
        "            padding='max_length',\n",
        "            return_attention_mask=True,\n",
        "            return_tensors='pt',\n",
        "            truncation=True\n",
        "        )\n",
        "\n",
        "        return {\n",
        "            'input_ids': input_encoding['input_ids'].flatten(),\n",
        "            'attention_mask': input_encoding['attention_mask'].flatten(),\n",
        "            'target_ids': target_encoding['input_ids'].flatten(),\n",
        "            'target_attention_mask': target_encoding['attention_mask'].flatten()\n",
        "        }\n",
        "\n",
        "# Corrected file paths\n",
        "train_file = \"/content/output.csv.txttrain_bdf.csv\"\n",
        "test_file = \"/content/output.csv.txttest_bdf.csv\"\n",
        "\n",
        "train_df = pd.read_csv(train_file)\n",
        "test_df = pd.read_csv(test_file)\n",
        "\n",
        "# Reset indices\n",
        "train_df.reset_index(drop=True, inplace=True)\n",
        "test_df.reset_index(drop=True, inplace=True)\n",
        "\n",
        "# Constants\n",
        "TRAIN_BATCH_SIZE = 4  # Reduce batch size to avoid memory issues\n",
        "EPOCHS = 3\n",
        "LEARNING_RATE = 2e-5\n",
        "MAX_LEN_INPUT = 256\n",
        "MAX_LEN_OUTPUT = 128\n",
        "MODEL_NAME = 't5-small'\n",
        "GRADIENT_ACCUMULATION_STEPS = 4\n",
        "\n",
        "# Initialize tokenizer\n",
        "tokenizer = AutoTokenizer.from_pretrained(MODEL_NAME)\n",
        "\n",
        "# Define CustomDataset and DataLoader\n",
        "train_dataset = CustomDataset(train_df, tokenizer, MAX_LEN_INPUT, MAX_LEN_OUTPUT)\n",
        "train_loader = DataLoader(train_dataset, batch_size=TRAIN_BATCH_SIZE, shuffle=True, num_workers=4, pin_memory=True)\n",
        "\n",
        "# Verify DataLoader\n",
        "data_iter = iter(train_loader)\n",
        "batch = next(data_iter)\n",
        "print(batch)\n",
        "\n",
        "# Define the model\n",
        "model = AutoModelForSeq2SeqLM.from_pretrained(MODEL_NAME)\n",
        "device = 'cuda' if torch.cuda.is_available() else 'cpu'\n",
        "model.to(device)\n",
        "\n",
        "# Define optimizer and loss function\n",
        "optimizer = AdamW(model.parameters(), lr=LEARNING_RATE)\n",
        "scaler = GradScaler()\n",
        "\n",
        "# Define train function\n",
        "def train(epoch):\n",
        "    model.train()\n",
        "    tr_loss = 0\n",
        "    nb_tr_steps = 0\n",
        "    start_time = time.time()\n",
        "\n",
        "    for step, data in enumerate(tqdm(train_loader, 0)):\n",
        "        input_ids = data['input_ids'].to(device, dtype=torch.long)\n",
        "        attention_mask = data['attention_mask'].to(device, dtype=torch.long)\n",
        "        target_ids = data['target_ids'].to(device, dtype=torch.long)\n",
        "        target_attention_mask = data['target_attention_mask'].to(device, dtype=torch.long)\n",
        "\n",
        "        optimizer.zero_grad()\n",
        "\n",
        "        with autocast():\n",
        "            outputs = model(input_ids=input_ids, attention_mask=attention_mask, labels=target_ids)\n",
        "            loss = outputs.loss / GRADIENT_ACCUMULATION_STEPS\n",
        "\n",
        "        scaler.scale(loss).backward()\n",
        "\n",
        "        if (step + 1) % GRADIENT_ACCUMULATION_STEPS == 0:\n",
        "            scaler.step(optimizer)\n",
        "            scaler.update()\n",
        "\n",
        "        tr_loss += loss.item() * GRADIENT_ACCUMULATION_STEPS\n",
        "        nb_tr_steps += 1\n",
        "\n",
        "        if step % 100 == 0:\n",
        "            elapsed_time = time.time() - start_time\n",
        "            print(f\"Step {step}, Loss: {tr_loss / nb_tr_steps}, Elapsed Time: {elapsed_time:.2f}s\")\n",
        "            start_time = time.time()\n",
        "\n",
        "    print(f'Epoch {epoch}, Loss: {tr_loss / nb_tr_steps}')\n",
        "\n",
        "# Profile the training function\n",
        "cProfile.run('train(0)', sort='cumtime')\n",
        "\n",
        "# Train the model\n",
        "for epoch in range(EPOCHS):\n",
        "    train(epoch)\n"
      ]
    },
    {
      "cell_type": "code",
      "execution_count": null,
      "metadata": {
        "colab": {
          "base_uri": "https://localhost:8080/"
        },
        "id": "mpxAOk89JT6Y",
        "outputId": "0c520b29-8a49-496e-f57d-2c97cc52e012"
      },
      "outputs": [
        {
          "name": "stdout",
          "output_type": "stream",
          "text": [
            "                                            id  \\\n",
            "1085  b1585b611a9007d7b86851b6a5c9d32a47040aa8   \n",
            "2296  f7d9f33ac38ce839c81c7188d33c4e09ce11094e   \n",
            "208   da39f68c5d9a413e0759fc6bff8260f76ed1ac59   \n",
            "1178  84bdd724457a4c2161844fb4ff91fefa5465e9aa   \n",
            "282   b3a62e1415b13dfe0938e206d6353bc57dbd354a   \n",
            "\n",
            "                                                article  \\\n",
            "1085  It's truly squeaky bum time in the Premier Lea...   \n",
            "2296  Forget fetching sticks. This musically-minded ...   \n",
            "208   Martin 'Mad Dog' Allen returns with his latest...   \n",
            "1178  Jeremy Scott’s spring/summer 2015 collection f...   \n",
            "282   Joe beats Sachin to 2,000 . Joe Root became th...   \n",
            "\n",
            "                                             highlights  \n",
            "1085  Just nine points separates the bottom seven cl...  \n",
            "2296  Sadie the German Shepherd was filmed at home i...  \n",
            "208   Martin Allen believes it's a crucial time for ...  \n",
            "1178  Olivia Phillips, 30, rocked head-to-toe Moschi...  \n",
            "282   Ben Stokes' dad Gerard tweets his approval of ...  \n",
            "Length of test_dataset: 100\n"
          ]
        },
        {
          "name": "stderr",
          "output_type": "stream",
          "text": [
            "/usr/local/lib/python3.10/dist-packages/torch/utils/data/dataloader.py:558: UserWarning: This DataLoader will create 4 worker processes in total. Our suggested max number of worker in current system is 2, which is smaller than what this DataLoader is going to create. Please be aware that excessive worker creation might get DataLoader running slow or even freeze, lower the worker number to avoid potential slowness/freeze if necessary.\n",
            "  warnings.warn(_create_warning_msg(\n"
          ]
        },
        {
          "name": "stdout",
          "output_type": "stream",
          "text": [
            "{'input_ids': tensor([[   94,    31,     7,  1892,     3,     7,   835,     9,  3781,  8524,\n",
            "            51,    97,    16,     8,  6552,  3815,     3,    60,  5772,   257,\n",
            "          3392,    38,   131,  4169,   979,  2450,     7,     8,  2007,  2391,\n",
            "          2323,     5,  5716,  1963,   987,     7,   128,    13,     8,  5903,\n",
            "            16,    11,   859,     8,  1782,  2870,   125,    79,   473,    19,\n",
            "           831,    21,   135,    12,  1792,     8,  2328,    48,   774,     5,\n",
            "         11860,    10,     3,    31,  5680,    56,    34,   240,    21,    39,\n",
            "          1886,    12,  1049,    16,     8,  6552,  3815,    58,    31,  9302,\n",
            "         13431, 12118,  4132,   476,    41,  2247,  5554,    61,     3,    31,\n",
            "          5801,    62,  1369,   386,  1031,    27,   317,    62,    56,  1049,\n",
            "            95,     5,    94,   429,   240,   705,     5,    27,    31,    51,\n",
            "            59,  2145,    24,    31,     7,     8, 20374,   866,     3,    18,\n",
            "            68,    62,   310,   174,    12,   456,  3447,     1],\n",
            "        [  242,  2782, 27109,    53, 16752,     5,   100,  4183,   120,    18,\n",
            "         11644,  1782,   133,  1066,    36,  1556,  8355,   520,   144,     9,\n",
            "             7,     5,  1138,  2498,     8,  2968, 25721,    47,     3, 25403,\n",
            "            44,   234,    16, 19014,     6,  1894,     6, 14569,    30,    46,\n",
            "          2806,  3640,    28,   160,  8820,    11,  3823,   323,    12,   577,\n",
            "           128,  7368,     7,     5, 15213,   545,  1267,   160,  4752,   106,\n",
            "          1765,   160,   851,     3, 19589,     7,   323,   590,     8,  8680,\n",
            "             6,    38,   255,  2561,     7,    28,   160,   223,  6217,     3,\n",
            "         13449,    30,     8,  8355, 22429,     5,  3910,    13, 11702,   723,\n",
            "             6,  1138,  2498,  3475,    12,     3,    60,  8464,     3,     9,\n",
            "         19487,  1466,    28, 21500,    53,  3358,    11,   150,    97,  5483,\n",
            "             5,   621,     3,     9,  4881,   456,     6,     8, 18019,  1217,\n",
            "             3,     9,     3,  9033,    11,  1416,  1587,     1],\n",
            "        [ 3394,     3,    31,   329,     9,    26,  6751,    31, 10618,  5146,\n",
            "            28,   112,  1251,  6710,    21,  5716,  1963,     5,    37,  1386,\n",
            "          1582,  2743,  6927,    81,   149,   359,    34,    19,    21,     8,\n",
            "         12673,    12,  1130,   455,   383,    48,  4462,  1726,    13,     8,\n",
            "           774,     5,     3,  3221, 20961,  1853,   272,  4555,  5211,  3177,\n",
            "             3,     5,  1142,     3,     9,   360,   477,   977,    46,   625,\n",
            "          1565,    13,  2000, 16754, 17080,     6,     8,     3,  3108,    49,\n",
            "           113,  1944,    21,  4185, 10279,     6, 15131,    11, 22358,    59,\n",
            "             8,   837,  1661,     6,  5251,  1386,  1582,    11,   646,   140,\n",
            "             3,     9,  1245, 13531,    13,  3702,  3711, 18922,     7,    16,\n",
            "            82,   828,     5,   621,   761,     6,    12,   199,   140,   129,\n",
            "          5413,    13,   135,     6,    27,  1500,    12,   428,   128,    91,\n",
            "            12,    69,  1508,     5,    37,   166,  2391,     1],\n",
            "        [    3, 18540,  4972,    22,     7,  2141,    87, 23541,    52,  1230,\n",
            "          1232,    21,  6698,  5675,    32,  2953,    46,    86,  2427,    18,\n",
            "          2427, 18109,    15,     6,  2111,  7814,     8,  1396,   116,     3,\n",
            "            88,  1622,   936, 27945, 14295,     7,   323,     8,  1712, 12539,\n",
            "             5,    37,  1812,   819,     6,   113,    19, 10393,    26,    21,\n",
            "           492,  3650,   860,  1633,     6,  1622,   112,  2250,   323,     8,\n",
            "         22750,    16, 14556,    16, 27945, 14295,  3555, 12754,    12,     8,\n",
            "          1345,    13, 11154,    31,     7, 10331,  2777,     7,  1560,     6,\n",
            "            27,    31,    51,    71, 27945, 11874,     5,   282,     8,  5737,\n",
            "         25280,    13,  5001,     6,    34,  1330,    24,    62,   164,    66,\n",
            "            36,  5119,  2756,  5571,  4295,     7,    11,  1355,  3202,    63,\n",
            "         12754,    48,   774,     5,   299,   405,     8,   320,   161,    16,\n",
            "           490,   280,    58,   275,    56,    25, 22639,     1]]), 'attention_mask': tensor([[1, 1, 1, 1, 1, 1, 1, 1, 1, 1, 1, 1, 1, 1, 1, 1, 1, 1, 1, 1, 1, 1, 1, 1,\n",
            "         1, 1, 1, 1, 1, 1, 1, 1, 1, 1, 1, 1, 1, 1, 1, 1, 1, 1, 1, 1, 1, 1, 1, 1,\n",
            "         1, 1, 1, 1, 1, 1, 1, 1, 1, 1, 1, 1, 1, 1, 1, 1, 1, 1, 1, 1, 1, 1, 1, 1,\n",
            "         1, 1, 1, 1, 1, 1, 1, 1, 1, 1, 1, 1, 1, 1, 1, 1, 1, 1, 1, 1, 1, 1, 1, 1,\n",
            "         1, 1, 1, 1, 1, 1, 1, 1, 1, 1, 1, 1, 1, 1, 1, 1, 1, 1, 1, 1, 1, 1, 1, 1,\n",
            "         1, 1, 1, 1, 1, 1, 1, 1],\n",
            "        [1, 1, 1, 1, 1, 1, 1, 1, 1, 1, 1, 1, 1, 1, 1, 1, 1, 1, 1, 1, 1, 1, 1, 1,\n",
            "         1, 1, 1, 1, 1, 1, 1, 1, 1, 1, 1, 1, 1, 1, 1, 1, 1, 1, 1, 1, 1, 1, 1, 1,\n",
            "         1, 1, 1, 1, 1, 1, 1, 1, 1, 1, 1, 1, 1, 1, 1, 1, 1, 1, 1, 1, 1, 1, 1, 1,\n",
            "         1, 1, 1, 1, 1, 1, 1, 1, 1, 1, 1, 1, 1, 1, 1, 1, 1, 1, 1, 1, 1, 1, 1, 1,\n",
            "         1, 1, 1, 1, 1, 1, 1, 1, 1, 1, 1, 1, 1, 1, 1, 1, 1, 1, 1, 1, 1, 1, 1, 1,\n",
            "         1, 1, 1, 1, 1, 1, 1, 1],\n",
            "        [1, 1, 1, 1, 1, 1, 1, 1, 1, 1, 1, 1, 1, 1, 1, 1, 1, 1, 1, 1, 1, 1, 1, 1,\n",
            "         1, 1, 1, 1, 1, 1, 1, 1, 1, 1, 1, 1, 1, 1, 1, 1, 1, 1, 1, 1, 1, 1, 1, 1,\n",
            "         1, 1, 1, 1, 1, 1, 1, 1, 1, 1, 1, 1, 1, 1, 1, 1, 1, 1, 1, 1, 1, 1, 1, 1,\n",
            "         1, 1, 1, 1, 1, 1, 1, 1, 1, 1, 1, 1, 1, 1, 1, 1, 1, 1, 1, 1, 1, 1, 1, 1,\n",
            "         1, 1, 1, 1, 1, 1, 1, 1, 1, 1, 1, 1, 1, 1, 1, 1, 1, 1, 1, 1, 1, 1, 1, 1,\n",
            "         1, 1, 1, 1, 1, 1, 1, 1],\n",
            "        [1, 1, 1, 1, 1, 1, 1, 1, 1, 1, 1, 1, 1, 1, 1, 1, 1, 1, 1, 1, 1, 1, 1, 1,\n",
            "         1, 1, 1, 1, 1, 1, 1, 1, 1, 1, 1, 1, 1, 1, 1, 1, 1, 1, 1, 1, 1, 1, 1, 1,\n",
            "         1, 1, 1, 1, 1, 1, 1, 1, 1, 1, 1, 1, 1, 1, 1, 1, 1, 1, 1, 1, 1, 1, 1, 1,\n",
            "         1, 1, 1, 1, 1, 1, 1, 1, 1, 1, 1, 1, 1, 1, 1, 1, 1, 1, 1, 1, 1, 1, 1, 1,\n",
            "         1, 1, 1, 1, 1, 1, 1, 1, 1, 1, 1, 1, 1, 1, 1, 1, 1, 1, 1, 1, 1, 1, 1, 1,\n",
            "         1, 1, 1, 1, 1, 1, 1, 1]]), 'labels': tensor([[ 1142,  4169,   979,  2450,     7,     8,  2007,  2391,  8122,    16,\n",
            "             8,  6552,  3815,     3,     5,  1593,  5554,  7930,  4409, 31730,\n",
            "           845,    79,   174,   386,    72,  9204,    12,  7905,     3,     5,\n",
            "         10846,  1306,  2290,     3,    60,  5772,   257,  8374,     7, 26956,\n",
            "            16,     8,  5533,    30,  1856,     3,     5,     1,     0,     0,\n",
            "             0,     0,     0,     0,     0,     0,     0,     0,     0,     0,\n",
            "             0,     0,     0,     0],\n",
            "        [ 1138,  2498,     8,  2968, 25721,    47,     3, 25403,    44,   234,\n",
            "            16, 19014,     6,  1894,     6, 14569,    30,    46,  2806,  8680,\n",
            "            28,   160,  8820,    11,  3823,   323,    12,   577,     3,     5,\n",
            "          3910,    13, 11702,   723,     6,     8,  1977,  6322,  3475,    12,\n",
            "             3,    60,  8464,     3,     9, 19487,  1466,    28, 21500,    53,\n",
            "          3358,    11,   150,    97,  5483,     3,     5,   621,     3,     9,\n",
            "           460,    18, 12091,     1],\n",
            "        [ 3394, 10618,  7228,    34,    31,     7,     3,     9,  4462,    97,\n",
            "            21, 12673,    12,  1130,  5022,     3,     5, 18079,   114,  1079,\n",
            "         18163,   766,   829, 12025,    19, 12473,    16,   337,  2212,     3,\n",
            "             5,  1915,  7239,     7,    16,  3370,   174,    12,   483,    11,\n",
            "            79,   174,    12,   483,  1224,     3,     5, 15922,  7930,  3121,\n",
            "           651,  2158, 19322,    19,  6904,    66,     8,   194,    12,     8,\n",
            "           182,   420,     3,     1],\n",
            "        [25051, 16202,     7,     6, 11558,  2480,    15,    26,   819,    18,\n",
            "           235,    18,   235,    15,  6698,  5675,    32,     3,     5,   549,\n",
            "           295,    12,     8, 14427,    11,    46,   768,   605,     3,    18,\n",
            "            11,   530,  1995,    13,  1388,     3,     5,  2449,  8876,    26,\n",
            "             6,  2139,   160,    28,   160,  2309,    11,   243,   255,  2299,\n",
            "           114,     3,     9,  4340,     3,     5,     1,     0,     0,     0,\n",
            "             0,     0,     0,     0]]), 'highlight': ['Just nine points separates the bottom seven clubs in the Premier League .\\nQPR boss Chris Ramsey says they need three more wins to survive .\\nBurnley host\\xa0relegation\\xa0rivals Leicester in the league on Saturday .', \"Sadie the German Shepherd was filmed at home in Alberta, Canada, switching on an electric keyboard with her nose and sitting down to play .\\nInstead of classical music, the pooch appears to recite a minimalist piece with clashing notes and no time signature .\\nAfter a 20-second rendition, she decides she's had enough for one day and turns around to take a bow .\", \"Martin Allen\\xa0believes\\xa0it's a crucial time for troops to follow orders .\\nPlayers like John Terry ensure whole squad is pulling in same direction .\\nPerceptions in football need to change and they need to change quickly .\\nBirmingham boss Garry Rowett is heading all the way to the very top .\", 'Olivia Phillips, 30, rocked head-to-toe Moschino .\\nWent to the supermarket and an art event - and got lots of attention .\\nPeople stared, helped her with her shopping and said she looked like a cake .']}\n"
          ]
        },
        {
          "name": "stderr",
          "output_type": "stream",
          "text": [
            "Validating: 100%|██████████| 25/25 [00:38<00:00,  1.55s/it]"
          ]
        },
        {
          "name": "stdout",
          "output_type": "stream",
          "text": [
            "ROUGE scores on test data: {'rouge1': 0.3360403885630135, 'rouge2': 0.14025306216838215, 'rougeL': 0.23710997433023764}\n"
          ]
        },
        {
          "name": "stderr",
          "output_type": "stream",
          "text": [
            "\n"
          ]
        }
      ],
      "source": [
        "import os\n",
        "import torch\n",
        "import torch.nn.functional as F\n",
        "import pandas as pd\n",
        "from transformers import AutoTokenizer, AutoModelForSeq2SeqLM\n",
        "from torch.utils.data import Dataset, DataLoader, random_split\n",
        "from tqdm import tqdm\n",
        "from torch.cuda.amp import autocast, GradScaler\n",
        "from rouge_score import rouge_scorer\n",
        "\n",
        "class CustomTextDataset(Dataset):\n",
        "    def __init__(self, dataframe, tokenizer, max_length_input, max_length_output):\n",
        "        self.data = dataframe.reset_index(drop=True)  # Reset indices\n",
        "        self.articles = self.data['article']\n",
        "        self.highlights = self.data['highlights']\n",
        "        self.tokenizer = tokenizer\n",
        "        self.max_length_input = max_length_input\n",
        "        self.max_length_output = max_length_output\n",
        "\n",
        "    def __len__(self):\n",
        "        return len(self.data)\n",
        "\n",
        "    def __getitem__(self, idx):\n",
        "        article = str(self.articles[idx])\n",
        "        highlight = str(self.highlights[idx])\n",
        "\n",
        "        input_encoding = self.tokenizer.encode_plus(\n",
        "            article,\n",
        "            add_special_tokens=True,\n",
        "            max_length=self.max_length_input,\n",
        "            padding='max_length',\n",
        "            truncation=True,\n",
        "            return_tensors='pt'\n",
        "        )\n",
        "\n",
        "        target_encoding = self.tokenizer.encode_plus(\n",
        "            highlight,\n",
        "            add_special_tokens=True,\n",
        "            max_length=self.max_length_output,\n",
        "            padding='max_length',\n",
        "            truncation=True,\n",
        "            return_tensors='pt'\n",
        "        )\n",
        "\n",
        "        input_ids = input_encoding['input_ids'].flatten()\n",
        "        attention_mask = input_encoding['attention_mask'].flatten()\n",
        "        labels = target_encoding['input_ids'].flatten()\n",
        "\n",
        "        return {\n",
        "            'input_ids': input_ids,\n",
        "            'attention_mask': attention_mask,\n",
        "            'labels': labels,\n",
        "            'highlight': highlight  # Keep original highlight for evaluation\n",
        "        }\n",
        "\n",
        "def validate_model(model, dataloader, tokenizer, max_length_output):\n",
        "    model.eval()\n",
        "    scorer = rouge_scorer.RougeScorer(['rouge1', 'rouge2', 'rougeL'], use_stemmer=True)\n",
        "    all_scores = {'rouge1': [], 'rouge2': [], 'rougeL': []}\n",
        "\n",
        "    with torch.no_grad():\n",
        "        for batch in tqdm(dataloader, desc=\"Validating\"):\n",
        "            input_ids = batch['input_ids'].to(device)\n",
        "            attention_mask = batch['attention_mask'].to(device)\n",
        "            labels = batch['labels'].to(device)\n",
        "            highlights = batch['highlight']\n",
        "\n",
        "            with autocast():\n",
        "                outputs = model.generate(input_ids=input_ids, attention_mask=attention_mask, max_length=max_length_output)\n",
        "\n",
        "            # Decode the generated outputs and labels\n",
        "            generated_summaries = [tokenizer.decode(output, skip_special_tokens=True) for output in outputs]\n",
        "            reference_summaries = [highlight for highlight in highlights]\n",
        "\n",
        "            for gen_sum, ref_sum in zip(generated_summaries, reference_summaries):\n",
        "                scores = scorer.score(ref_sum, gen_sum)\n",
        "                for key in scores:\n",
        "                    all_scores[key].append(scores[key].fmeasure)\n",
        "\n",
        "    # Calculate average ROUGE scores\n",
        "    avg_scores = {key: sum(scores) / len(scores) for key, scores in all_scores.items()}\n",
        "    return avg_scores\n",
        "\n",
        "# Load your test dataset\n",
        "test_df = pd.read_csv(\"/content/output.csv.txttest_bdf.csv\")\n",
        "\n",
        "# Initialize the tokenizer\n",
        "tokenizer = AutoTokenizer.from_pretrained(\"t5-small\")\n",
        "\n",
        "# Use a smaller subset for quick testing\n",
        "test_subset_df = test_df.sample(n=100, random_state=42)\n",
        "\n",
        "# Debugging: Print the first few rows of the subset\n",
        "print(test_subset_df.head())\n",
        "\n",
        "# Initialize your dataset\n",
        "test_dataset = CustomTextDataset(test_subset_df, tokenizer, max_length_input=128, max_length_output=64)  # Reduced lengths\n",
        "\n",
        "# Debugging: Check the length of the dataset\n",
        "print(\"Length of test_dataset:\", len(test_dataset))\n",
        "\n",
        "# Create DataLoader for the test dataset\n",
        "testing_loader = DataLoader(test_dataset, batch_size=4, shuffle=False, num_workers=4)  # Adjusted parameters\n",
        "\n",
        "# Debugging: Check the first batch\n",
        "for batch in testing_loader:\n",
        "    print(batch)\n",
        "    break\n",
        "\n",
        "# Load pre-trained model\n",
        "model = AutoModelForSeq2SeqLM.from_pretrained(\"t5-small\")\n",
        "\n",
        "device = torch.device('cuda' if torch.cuda.is_available() else 'cpu')\n",
        "model.to(device)\n",
        "\n",
        "# Validate the model using the testing_loader\n",
        "rouge_scores = validate_model(model, testing_loader, tokenizer, max_length_output=64)  # Reduced max_length_output\n",
        "print(\"ROUGE scores on test data:\", rouge_scores)\n"
      ]
    },
    {
      "cell_type": "code",
      "execution_count": 1,
      "metadata": {
        "id": "g6veljscm_N7",
        "colab": {
          "base_uri": "https://localhost:8080/",
          "height": 237,
          "referenced_widgets": [
            "8314544b0bd842ac9f9f0c0513f454a1",
            "080a2e3a642548469d825b3b30bc3f47",
            "af8a57fc951c4362a80df3ddfa952943",
            "e30b443d3077447385ddfc1d9a9c68ad",
            "be9657a5392944e79078a27962218b26",
            "d3627d889cca496eae39d9c18374963d",
            "3c3db040690a41f7b660850041c4fdd3",
            "8bad4f74455e4a9d9f2cfa2acecab8dd",
            "2e5372872b494c9685992aa02240e325",
            "ae5e247689ca4e5d95543ca2036b7c08",
            "8e4e1829e42e4447a1401f5cef7aab66",
            "fc01b9ae068f46e59be91a022390e207",
            "6ea129f6b1024088affd133343788b2f",
            "6a71ddd149f745f8ac178deb953b38b0",
            "889d54feb63b41b7912403f6dae48f6a",
            "6dabd86567e445a59a3158bb21fc6a56",
            "97678188399a45508fbcab46e2e5a39b",
            "1090384118e843b9bcff1f6f777c4b05",
            "116cade13d264ece915ca6f6105d79de",
            "f80cfa612bfd473ba9cbfb97c6fcd86f",
            "1edc90e326304a028053d27fdee01a06",
            "33ef8d9ce42f4f58a83b3effb9d1f57f",
            "155bf1dd2c5d44d1a01d39cfd80a82e7",
            "47801dad53f34bd58fdb04115977e88f",
            "76eab09a7d504ca2b1c3a336c2e71727",
            "706e58da382649d18e96cefd9104613c",
            "38a0272a9fb74a4a8f0427558d8c87e4",
            "10ed3933504f4343864cebf8a83dd54d",
            "d7554b01e9d6433c93430cd80d6d50c9",
            "c810e18617dc47b7bcb70d638c10fed0",
            "7df4f64a5c6d43808c7e9ba2a2b689a8",
            "88b08d74d0ee4ec08b46a9d5d614d592",
            "255a2d8e59774fbebc7d884c19c63bbb"
          ]
        },
        "outputId": "865bbd28-1e20-48ff-8721-ffe3ea5f603d"
      },
      "outputs": [
        {
          "output_type": "stream",
          "name": "stderr",
          "text": [
            "/usr/local/lib/python3.10/dist-packages/huggingface_hub/utils/_token.py:89: UserWarning: \n",
            "The secret `HF_TOKEN` does not exist in your Colab secrets.\n",
            "To authenticate with the Hugging Face Hub, create a token in your settings tab (https://huggingface.co/settings/tokens), set it as secret in your Google Colab and restart your session.\n",
            "You will be able to reuse this secret in all of your notebooks.\n",
            "Please note that authentication is recommended but still optional to access public models or datasets.\n",
            "  warnings.warn(\n"
          ]
        },
        {
          "output_type": "display_data",
          "data": {
            "text/plain": [
              "config.json:   0%|          | 0.00/1.21k [00:00<?, ?B/s]"
            ],
            "application/vnd.jupyter.widget-view+json": {
              "version_major": 2,
              "version_minor": 0,
              "model_id": "8314544b0bd842ac9f9f0c0513f454a1"
            }
          },
          "metadata": {}
        },
        {
          "output_type": "display_data",
          "data": {
            "text/plain": [
              "model.safetensors:   0%|          | 0.00/242M [00:00<?, ?B/s]"
            ],
            "application/vnd.jupyter.widget-view+json": {
              "version_major": 2,
              "version_minor": 0,
              "model_id": "fc01b9ae068f46e59be91a022390e207"
            }
          },
          "metadata": {}
        },
        {
          "output_type": "display_data",
          "data": {
            "text/plain": [
              "generation_config.json:   0%|          | 0.00/147 [00:00<?, ?B/s]"
            ],
            "application/vnd.jupyter.widget-view+json": {
              "version_major": 2,
              "version_minor": 0,
              "model_id": "155bf1dd2c5d44d1a01d39cfd80a82e7"
            }
          },
          "metadata": {}
        }
      ],
      "source": [
        "import torch\n",
        "import torch.nn as nn\n",
        "from transformers import AutoTokenizer, AutoModelForSeq2SeqLM\n",
        "\n",
        "# Assume you have a trained model\n",
        "model = AutoModelForSeq2SeqLM.from_pretrained(\"t5-small\")\n",
        "\n",
        "# Define training function (example)\n",
        "def train_model(model, train_loader):\n",
        "    # Training loop here\n",
        "    pass\n",
        "\n",
        "# Train your model (example)\n",
        "# train_model(model, train_loader)\n",
        "\n",
        "# Save the model\n",
        "model_save_path = \"/content/minilm_bal_exsum.pth\"\n",
        "torch.save(model.state_dict(), model_save_path)\n"
      ]
    },
    {
      "cell_type": "code",
      "execution_count": 2,
      "metadata": {
        "colab": {
          "base_uri": "https://localhost:8080/"
        },
        "id": "lUdpOF9US2vb",
        "outputId": "3b99b32a-5a56-4198-8b84-a8ee1b70a2b7"
      },
      "outputs": [
        {
          "output_type": "stream",
          "name": "stdout",
          "text": [
            "\u001b[K\u001b[?25h/tools/node/bin/lt -> /tools/node/lib/node_modules/localtunnel/bin/lt.js\n",
            "\u001b[K\u001b[?25h+ localtunnel@2.0.2\n",
            "added 22 packages from 22 contributors in 2.112s\n"
          ]
        }
      ],
      "source": [
        "!npm install -g localtunnel"
      ]
    },
    {
      "cell_type": "code",
      "execution_count": 3,
      "metadata": {
        "colab": {
          "base_uri": "https://localhost:8080/"
        },
        "id": "gxBP_tq9dhlS",
        "outputId": "e11e4744-6744-49c5-fab5-34d909a71f2c"
      },
      "outputs": [
        {
          "output_type": "stream",
          "name": "stdout",
          "text": [
            "Collecting streamlit\n",
            "  Downloading streamlit-1.36.0-py2.py3-none-any.whl (8.6 MB)\n",
            "\u001b[2K     \u001b[90m━━━━━━━━━━━━━━━━━━━━━━━━━━━━━━━━━━━━━━━━\u001b[0m \u001b[32m8.6/8.6 MB\u001b[0m \u001b[31m20.0 MB/s\u001b[0m eta \u001b[36m0:00:00\u001b[0m\n",
            "\u001b[?25hRequirement already satisfied: transformers in /usr/local/lib/python3.10/dist-packages (4.41.2)\n",
            "Requirement already satisfied: torch in /usr/local/lib/python3.10/dist-packages (2.3.0+cu121)\n",
            "Collecting newspaper3k\n",
            "  Downloading newspaper3k-0.2.8-py3-none-any.whl (211 kB)\n",
            "\u001b[2K     \u001b[90m━━━━━━━━━━━━━━━━━━━━━━━━━━━━━━━━━━━━━━━━\u001b[0m \u001b[32m211.1/211.1 kB\u001b[0m \u001b[31m25.2 MB/s\u001b[0m eta \u001b[36m0:00:00\u001b[0m\n",
            "\u001b[?25hCollecting sumy\n",
            "  Downloading sumy-0.11.0-py2.py3-none-any.whl (97 kB)\n",
            "\u001b[2K     \u001b[90m━━━━━━━━━━━━━━━━━━━━━━━━━━━━━━━━━━━━━━━━\u001b[0m \u001b[32m97.3/97.3 kB\u001b[0m \u001b[31m12.8 MB/s\u001b[0m eta \u001b[36m0:00:00\u001b[0m\n",
            "\u001b[?25hRequirement already satisfied: altair<6,>=4.0 in /usr/local/lib/python3.10/dist-packages (from streamlit) (4.2.2)\n",
            "Requirement already satisfied: blinker<2,>=1.0.0 in /usr/lib/python3/dist-packages (from streamlit) (1.4)\n",
            "Requirement already satisfied: cachetools<6,>=4.0 in /usr/local/lib/python3.10/dist-packages (from streamlit) (5.3.3)\n",
            "Requirement already satisfied: click<9,>=7.0 in /usr/local/lib/python3.10/dist-packages (from streamlit) (8.1.7)\n",
            "Requirement already satisfied: numpy<3,>=1.20 in /usr/local/lib/python3.10/dist-packages (from streamlit) (1.25.2)\n",
            "Requirement already satisfied: packaging<25,>=20 in /usr/local/lib/python3.10/dist-packages (from streamlit) (24.1)\n",
            "Requirement already satisfied: pandas<3,>=1.3.0 in /usr/local/lib/python3.10/dist-packages (from streamlit) (2.0.3)\n",
            "Requirement already satisfied: pillow<11,>=7.1.0 in /usr/local/lib/python3.10/dist-packages (from streamlit) (9.4.0)\n",
            "Requirement already satisfied: protobuf<6,>=3.20 in /usr/local/lib/python3.10/dist-packages (from streamlit) (3.20.3)\n",
            "Requirement already satisfied: pyarrow>=7.0 in /usr/local/lib/python3.10/dist-packages (from streamlit) (14.0.2)\n",
            "Requirement already satisfied: requests<3,>=2.27 in /usr/local/lib/python3.10/dist-packages (from streamlit) (2.31.0)\n",
            "Requirement already satisfied: rich<14,>=10.14.0 in /usr/local/lib/python3.10/dist-packages (from streamlit) (13.7.1)\n",
            "Requirement already satisfied: tenacity<9,>=8.1.0 in /usr/local/lib/python3.10/dist-packages (from streamlit) (8.4.1)\n",
            "Requirement already satisfied: toml<2,>=0.10.1 in /usr/local/lib/python3.10/dist-packages (from streamlit) (0.10.2)\n",
            "Requirement already satisfied: typing-extensions<5,>=4.3.0 in /usr/local/lib/python3.10/dist-packages (from streamlit) (4.12.2)\n",
            "Collecting gitpython!=3.1.19,<4,>=3.0.7 (from streamlit)\n",
            "  Downloading GitPython-3.1.43-py3-none-any.whl (207 kB)\n",
            "\u001b[2K     \u001b[90m━━━━━━━━━━━━━━━━━━━━━━━━━━━━━━━━━━━━━━━━\u001b[0m \u001b[32m207.3/207.3 kB\u001b[0m \u001b[31m24.7 MB/s\u001b[0m eta \u001b[36m0:00:00\u001b[0m\n",
            "\u001b[?25hCollecting pydeck<1,>=0.8.0b4 (from streamlit)\n",
            "  Downloading pydeck-0.9.1-py2.py3-none-any.whl (6.9 MB)\n",
            "\u001b[2K     \u001b[90m━━━━━━━━━━━━━━━━━━━━━━━━━━━━━━━━━━━━━━━━\u001b[0m \u001b[32m6.9/6.9 MB\u001b[0m \u001b[31m53.4 MB/s\u001b[0m eta \u001b[36m0:00:00\u001b[0m\n",
            "\u001b[?25hRequirement already satisfied: tornado<7,>=6.0.3 in /usr/local/lib/python3.10/dist-packages (from streamlit) (6.3.3)\n",
            "Collecting watchdog<5,>=2.1.5 (from streamlit)\n",
            "  Downloading watchdog-4.0.1-py3-none-manylinux2014_x86_64.whl (83 kB)\n",
            "\u001b[2K     \u001b[90m━━━━━━━━━━━━━━━━━━━━━━━━━━━━━━━━━━━━━━━━\u001b[0m \u001b[32m83.0/83.0 kB\u001b[0m \u001b[31m11.8 MB/s\u001b[0m eta \u001b[36m0:00:00\u001b[0m\n",
            "\u001b[?25hRequirement already satisfied: filelock in /usr/local/lib/python3.10/dist-packages (from transformers) (3.15.3)\n",
            "Requirement already satisfied: huggingface-hub<1.0,>=0.23.0 in /usr/local/lib/python3.10/dist-packages (from transformers) (0.23.4)\n",
            "Requirement already satisfied: pyyaml>=5.1 in /usr/local/lib/python3.10/dist-packages (from transformers) (6.0.1)\n",
            "Requirement already satisfied: regex!=2019.12.17 in /usr/local/lib/python3.10/dist-packages (from transformers) (2024.5.15)\n",
            "Requirement already satisfied: tokenizers<0.20,>=0.19 in /usr/local/lib/python3.10/dist-packages (from transformers) (0.19.1)\n",
            "Requirement already satisfied: safetensors>=0.4.1 in /usr/local/lib/python3.10/dist-packages (from transformers) (0.4.3)\n",
            "Requirement already satisfied: tqdm>=4.27 in /usr/local/lib/python3.10/dist-packages (from transformers) (4.66.4)\n",
            "Requirement already satisfied: sympy in /usr/local/lib/python3.10/dist-packages (from torch) (1.12.1)\n",
            "Requirement already satisfied: networkx in /usr/local/lib/python3.10/dist-packages (from torch) (3.3)\n",
            "Requirement already satisfied: jinja2 in /usr/local/lib/python3.10/dist-packages (from torch) (3.1.4)\n",
            "Requirement already satisfied: fsspec in /usr/local/lib/python3.10/dist-packages (from torch) (2023.6.0)\n",
            "Collecting nvidia-cuda-nvrtc-cu12==12.1.105 (from torch)\n",
            "  Using cached nvidia_cuda_nvrtc_cu12-12.1.105-py3-none-manylinux1_x86_64.whl (23.7 MB)\n",
            "Collecting nvidia-cuda-runtime-cu12==12.1.105 (from torch)\n",
            "  Using cached nvidia_cuda_runtime_cu12-12.1.105-py3-none-manylinux1_x86_64.whl (823 kB)\n",
            "Collecting nvidia-cuda-cupti-cu12==12.1.105 (from torch)\n",
            "  Using cached nvidia_cuda_cupti_cu12-12.1.105-py3-none-manylinux1_x86_64.whl (14.1 MB)\n",
            "Collecting nvidia-cudnn-cu12==8.9.2.26 (from torch)\n",
            "  Using cached nvidia_cudnn_cu12-8.9.2.26-py3-none-manylinux1_x86_64.whl (731.7 MB)\n",
            "Collecting nvidia-cublas-cu12==12.1.3.1 (from torch)\n",
            "  Using cached nvidia_cublas_cu12-12.1.3.1-py3-none-manylinux1_x86_64.whl (410.6 MB)\n",
            "Collecting nvidia-cufft-cu12==11.0.2.54 (from torch)\n",
            "  Using cached nvidia_cufft_cu12-11.0.2.54-py3-none-manylinux1_x86_64.whl (121.6 MB)\n",
            "Collecting nvidia-curand-cu12==10.3.2.106 (from torch)\n",
            "  Using cached nvidia_curand_cu12-10.3.2.106-py3-none-manylinux1_x86_64.whl (56.5 MB)\n",
            "Collecting nvidia-cusolver-cu12==11.4.5.107 (from torch)\n",
            "  Using cached nvidia_cusolver_cu12-11.4.5.107-py3-none-manylinux1_x86_64.whl (124.2 MB)\n",
            "Collecting nvidia-cusparse-cu12==12.1.0.106 (from torch)\n",
            "  Using cached nvidia_cusparse_cu12-12.1.0.106-py3-none-manylinux1_x86_64.whl (196.0 MB)\n",
            "Collecting nvidia-nccl-cu12==2.20.5 (from torch)\n",
            "  Using cached nvidia_nccl_cu12-2.20.5-py3-none-manylinux2014_x86_64.whl (176.2 MB)\n",
            "Collecting nvidia-nvtx-cu12==12.1.105 (from torch)\n",
            "  Using cached nvidia_nvtx_cu12-12.1.105-py3-none-manylinux1_x86_64.whl (99 kB)\n",
            "Requirement already satisfied: triton==2.3.0 in /usr/local/lib/python3.10/dist-packages (from torch) (2.3.0)\n",
            "Collecting nvidia-nvjitlink-cu12 (from nvidia-cusolver-cu12==11.4.5.107->torch)\n",
            "  Downloading nvidia_nvjitlink_cu12-12.5.40-py3-none-manylinux2014_x86_64.whl (21.3 MB)\n",
            "\u001b[2K     \u001b[90m━━━━━━━━━━━━━━━━━━━━━━━━━━━━━━━━━━━━━━━━\u001b[0m \u001b[32m21.3/21.3 MB\u001b[0m \u001b[31m70.0 MB/s\u001b[0m eta \u001b[36m0:00:00\u001b[0m\n",
            "\u001b[?25hRequirement already satisfied: beautifulsoup4>=4.4.1 in /usr/local/lib/python3.10/dist-packages (from newspaper3k) (4.12.3)\n",
            "Collecting cssselect>=0.9.2 (from newspaper3k)\n",
            "  Downloading cssselect-1.2.0-py2.py3-none-any.whl (18 kB)\n",
            "Requirement already satisfied: lxml>=3.6.0 in /usr/local/lib/python3.10/dist-packages (from newspaper3k) (4.9.4)\n",
            "Requirement already satisfied: nltk>=3.2.1 in /usr/local/lib/python3.10/dist-packages (from newspaper3k) (3.8.1)\n",
            "Collecting feedparser>=5.2.1 (from newspaper3k)\n",
            "  Downloading feedparser-6.0.11-py3-none-any.whl (81 kB)\n",
            "\u001b[2K     \u001b[90m━━━━━━━━━━━━━━━━━━━━━━━━━━━━━━━━━━━━━━━━\u001b[0m \u001b[32m81.3/81.3 kB\u001b[0m \u001b[31m13.3 MB/s\u001b[0m eta \u001b[36m0:00:00\u001b[0m\n",
            "\u001b[?25hCollecting tldextract>=2.0.1 (from newspaper3k)\n",
            "  Downloading tldextract-5.1.2-py3-none-any.whl (97 kB)\n",
            "\u001b[2K     \u001b[90m━━━━━━━━━━━━━━━━━━━━━━━━━━━━━━━━━━━━━━━━\u001b[0m \u001b[32m97.6/97.6 kB\u001b[0m \u001b[31m15.0 MB/s\u001b[0m eta \u001b[36m0:00:00\u001b[0m\n",
            "\u001b[?25hCollecting feedfinder2>=0.0.4 (from newspaper3k)\n",
            "  Downloading feedfinder2-0.0.4.tar.gz (3.3 kB)\n",
            "  Preparing metadata (setup.py) ... \u001b[?25l\u001b[?25hdone\n",
            "Collecting jieba3k>=0.35.1 (from newspaper3k)\n",
            "  Downloading jieba3k-0.35.1.zip (7.4 MB)\n",
            "\u001b[2K     \u001b[90m━━━━━━━━━━━━━━━━━━━━━━━━━━━━━━━━━━━━━━━━\u001b[0m \u001b[32m7.4/7.4 MB\u001b[0m \u001b[31m111.1 MB/s\u001b[0m eta \u001b[36m0:00:00\u001b[0m\n",
            "\u001b[?25h  Preparing metadata (setup.py) ... \u001b[?25l\u001b[?25hdone\n",
            "Requirement already satisfied: python-dateutil>=2.5.3 in /usr/local/lib/python3.10/dist-packages (from newspaper3k) (2.8.2)\n",
            "Collecting tinysegmenter==0.3 (from newspaper3k)\n",
            "  Downloading tinysegmenter-0.3.tar.gz (16 kB)\n",
            "  Preparing metadata (setup.py) ... \u001b[?25l\u001b[?25hdone\n",
            "Collecting docopt<0.7,>=0.6.1 (from sumy)\n",
            "  Downloading docopt-0.6.2.tar.gz (25 kB)\n",
            "  Preparing metadata (setup.py) ... \u001b[?25l\u001b[?25hdone\n",
            "Collecting breadability>=0.1.20 (from sumy)\n",
            "  Downloading breadability-0.1.20.tar.gz (32 kB)\n",
            "  Preparing metadata (setup.py) ... \u001b[?25l\u001b[?25hdone\n",
            "Collecting pycountry>=18.2.23 (from sumy)\n",
            "  Downloading pycountry-24.6.1-py3-none-any.whl (6.3 MB)\n",
            "\u001b[2K     \u001b[90m━━━━━━━━━━━━━━━━━━━━━━━━━━━━━━━━━━━━━━━━\u001b[0m \u001b[32m6.3/6.3 MB\u001b[0m \u001b[31m103.9 MB/s\u001b[0m eta \u001b[36m0:00:00\u001b[0m\n",
            "\u001b[?25hRequirement already satisfied: entrypoints in /usr/local/lib/python3.10/dist-packages (from altair<6,>=4.0->streamlit) (0.4)\n",
            "Requirement already satisfied: jsonschema>=3.0 in /usr/local/lib/python3.10/dist-packages (from altair<6,>=4.0->streamlit) (4.19.2)\n",
            "Requirement already satisfied: toolz in /usr/local/lib/python3.10/dist-packages (from altair<6,>=4.0->streamlit) (0.12.1)\n",
            "Requirement already satisfied: soupsieve>1.2 in /usr/local/lib/python3.10/dist-packages (from beautifulsoup4>=4.4.1->newspaper3k) (2.5)\n",
            "Requirement already satisfied: chardet in /usr/local/lib/python3.10/dist-packages (from breadability>=0.1.20->sumy) (5.2.0)\n",
            "Requirement already satisfied: six in /usr/local/lib/python3.10/dist-packages (from feedfinder2>=0.0.4->newspaper3k) (1.16.0)\n",
            "Collecting sgmllib3k (from feedparser>=5.2.1->newspaper3k)\n",
            "  Downloading sgmllib3k-1.0.0.tar.gz (5.8 kB)\n",
            "  Preparing metadata (setup.py) ... \u001b[?25l\u001b[?25hdone\n",
            "Collecting gitdb<5,>=4.0.1 (from gitpython!=3.1.19,<4,>=3.0.7->streamlit)\n",
            "  Downloading gitdb-4.0.11-py3-none-any.whl (62 kB)\n",
            "\u001b[2K     \u001b[90m━━━━━━━━━━━━━━━━━━━━━━━━━━━━━━━━━━━━━━━━\u001b[0m \u001b[32m62.7/62.7 kB\u001b[0m \u001b[31m9.4 MB/s\u001b[0m eta \u001b[36m0:00:00\u001b[0m\n",
            "\u001b[?25hRequirement already satisfied: joblib in /usr/local/lib/python3.10/dist-packages (from nltk>=3.2.1->newspaper3k) (1.4.2)\n",
            "Requirement already satisfied: pytz>=2020.1 in /usr/local/lib/python3.10/dist-packages (from pandas<3,>=1.3.0->streamlit) (2023.4)\n",
            "Requirement already satisfied: tzdata>=2022.1 in /usr/local/lib/python3.10/dist-packages (from pandas<3,>=1.3.0->streamlit) (2024.1)\n",
            "Requirement already satisfied: MarkupSafe>=2.0 in /usr/local/lib/python3.10/dist-packages (from jinja2->torch) (2.1.5)\n",
            "Requirement already satisfied: charset-normalizer<4,>=2 in /usr/local/lib/python3.10/dist-packages (from requests<3,>=2.27->streamlit) (3.3.2)\n",
            "Requirement already satisfied: idna<4,>=2.5 in /usr/local/lib/python3.10/dist-packages (from requests<3,>=2.27->streamlit) (3.7)\n",
            "Requirement already satisfied: urllib3<3,>=1.21.1 in /usr/local/lib/python3.10/dist-packages (from requests<3,>=2.27->streamlit) (2.0.7)\n",
            "Requirement already satisfied: certifi>=2017.4.17 in /usr/local/lib/python3.10/dist-packages (from requests<3,>=2.27->streamlit) (2024.6.2)\n",
            "Requirement already satisfied: markdown-it-py>=2.2.0 in /usr/local/lib/python3.10/dist-packages (from rich<14,>=10.14.0->streamlit) (3.0.0)\n",
            "Requirement already satisfied: pygments<3.0.0,>=2.13.0 in /usr/local/lib/python3.10/dist-packages (from rich<14,>=10.14.0->streamlit) (2.16.1)\n",
            "Collecting requests-file>=1.4 (from tldextract>=2.0.1->newspaper3k)\n",
            "  Downloading requests_file-2.1.0-py2.py3-none-any.whl (4.2 kB)\n",
            "Requirement already satisfied: mpmath<1.4.0,>=1.1.0 in /usr/local/lib/python3.10/dist-packages (from sympy->torch) (1.3.0)\n",
            "Collecting smmap<6,>=3.0.1 (from gitdb<5,>=4.0.1->gitpython!=3.1.19,<4,>=3.0.7->streamlit)\n",
            "  Downloading smmap-5.0.1-py3-none-any.whl (24 kB)\n",
            "Requirement already satisfied: attrs>=22.2.0 in /usr/local/lib/python3.10/dist-packages (from jsonschema>=3.0->altair<6,>=4.0->streamlit) (23.2.0)\n",
            "Requirement already satisfied: jsonschema-specifications>=2023.03.6 in /usr/local/lib/python3.10/dist-packages (from jsonschema>=3.0->altair<6,>=4.0->streamlit) (2023.12.1)\n",
            "Requirement already satisfied: referencing>=0.28.4 in /usr/local/lib/python3.10/dist-packages (from jsonschema>=3.0->altair<6,>=4.0->streamlit) (0.35.1)\n",
            "Requirement already satisfied: rpds-py>=0.7.1 in /usr/local/lib/python3.10/dist-packages (from jsonschema>=3.0->altair<6,>=4.0->streamlit) (0.18.1)\n",
            "Requirement already satisfied: mdurl~=0.1 in /usr/local/lib/python3.10/dist-packages (from markdown-it-py>=2.2.0->rich<14,>=10.14.0->streamlit) (0.1.2)\n",
            "Building wheels for collected packages: tinysegmenter, breadability, docopt, feedfinder2, jieba3k, sgmllib3k\n",
            "  Building wheel for tinysegmenter (setup.py) ... \u001b[?25l\u001b[?25hdone\n",
            "  Created wheel for tinysegmenter: filename=tinysegmenter-0.3-py3-none-any.whl size=13538 sha256=756415b8d44c46be49bcf0c647d91e8fd6ae9127f8bcaa9780865cbbf202f162\n",
            "  Stored in directory: /root/.cache/pip/wheels/c8/d6/6c/384f58df48c00b9a31d638005143b5b3ac62c3d25fb1447f23\n",
            "  Building wheel for breadability (setup.py) ... \u001b[?25l\u001b[?25hdone\n",
            "  Created wheel for breadability: filename=breadability-0.1.20-py2.py3-none-any.whl size=21693 sha256=f2afff5bec84f2d5ec19a47497404619c3a0076ecbf9a37a9dd67eaf44cba018\n",
            "  Stored in directory: /root/.cache/pip/wheels/64/22/90/b84fcc30e16598db20a0d41340616dbf9b1e82bbcc627b0b33\n",
            "  Building wheel for docopt (setup.py) ... \u001b[?25l\u001b[?25hdone\n",
            "  Created wheel for docopt: filename=docopt-0.6.2-py2.py3-none-any.whl size=13706 sha256=e2c2ef4a1d6dc9fd72704d479ecddfc6551b5e33fb6942a053da762f03cab28b\n",
            "  Stored in directory: /root/.cache/pip/wheels/fc/ab/d4/5da2067ac95b36618c629a5f93f809425700506f72c9732fac\n",
            "  Building wheel for feedfinder2 (setup.py) ... \u001b[?25l\u001b[?25hdone\n",
            "  Created wheel for feedfinder2: filename=feedfinder2-0.0.4-py3-none-any.whl size=3340 sha256=47c470c5188fb3cd7bec26a55f552cdeecc521eeff97a3a90492eb58ec1ae18d\n",
            "  Stored in directory: /root/.cache/pip/wheels/97/02/e7/a1ff1760e12bdbaab0ac824fae5c1bc933e41c4ccd6a8f8edb\n",
            "  Building wheel for jieba3k (setup.py) ... \u001b[?25l\u001b[?25hdone\n",
            "  Created wheel for jieba3k: filename=jieba3k-0.35.1-py3-none-any.whl size=7398382 sha256=f92e51afa4a5155f97ab27c7f58a863b69b20bb28311be49109b675b74f4efc0\n",
            "  Stored in directory: /root/.cache/pip/wheels/7a/c4/0c/12a9a314ecac499456c4c3b2fcc2f635a3b45a39dfbd240299\n",
            "  Building wheel for sgmllib3k (setup.py) ... \u001b[?25l\u001b[?25hdone\n",
            "  Created wheel for sgmllib3k: filename=sgmllib3k-1.0.0-py3-none-any.whl size=6049 sha256=57d7405b9b61a1c1329d327c5cae423e0ed5a129e63a4ce64159888411c08ffe\n",
            "  Stored in directory: /root/.cache/pip/wheels/f0/69/93/a47e9d621be168e9e33c7ce60524393c0b92ae83cf6c6e89c5\n",
            "Successfully built tinysegmenter breadability docopt feedfinder2 jieba3k sgmllib3k\n",
            "Installing collected packages: tinysegmenter, sgmllib3k, jieba3k, docopt, watchdog, smmap, pycountry, nvidia-nvtx-cu12, nvidia-nvjitlink-cu12, nvidia-nccl-cu12, nvidia-curand-cu12, nvidia-cufft-cu12, nvidia-cuda-runtime-cu12, nvidia-cuda-nvrtc-cu12, nvidia-cuda-cupti-cu12, nvidia-cublas-cu12, feedparser, cssselect, breadability, sumy, requests-file, pydeck, nvidia-cusparse-cu12, nvidia-cudnn-cu12, gitdb, feedfinder2, tldextract, nvidia-cusolver-cu12, gitpython, newspaper3k, streamlit\n",
            "Successfully installed breadability-0.1.20 cssselect-1.2.0 docopt-0.6.2 feedfinder2-0.0.4 feedparser-6.0.11 gitdb-4.0.11 gitpython-3.1.43 jieba3k-0.35.1 newspaper3k-0.2.8 nvidia-cublas-cu12-12.1.3.1 nvidia-cuda-cupti-cu12-12.1.105 nvidia-cuda-nvrtc-cu12-12.1.105 nvidia-cuda-runtime-cu12-12.1.105 nvidia-cudnn-cu12-8.9.2.26 nvidia-cufft-cu12-11.0.2.54 nvidia-curand-cu12-10.3.2.106 nvidia-cusolver-cu12-11.4.5.107 nvidia-cusparse-cu12-12.1.0.106 nvidia-nccl-cu12-2.20.5 nvidia-nvjitlink-cu12-12.5.40 nvidia-nvtx-cu12-12.1.105 pycountry-24.6.1 pydeck-0.9.1 requests-file-2.1.0 sgmllib3k-1.0.0 smmap-5.0.1 streamlit-1.36.0 sumy-0.11.0 tinysegmenter-0.3 tldextract-5.1.2 watchdog-4.0.1\n"
          ]
        }
      ],
      "source": [
        "! pip install streamlit transformers torch newspaper3k sumy\n",
        "\n"
      ]
    },
    {
      "cell_type": "code",
      "execution_count": 4,
      "metadata": {
        "colab": {
          "base_uri": "https://localhost:8080/"
        },
        "id": "vSJENrUc8Rpf",
        "outputId": "e8cfd4d5-9f72-4d16-f7cb-d5b6e164b937"
      },
      "outputs": [
        {
          "output_type": "stream",
          "name": "stdout",
          "text": [
            "Requirement already satisfied: streamlit in /usr/local/lib/python3.10/dist-packages (1.36.0)\n",
            "Requirement already satisfied: altair<6,>=4.0 in /usr/local/lib/python3.10/dist-packages (from streamlit) (4.2.2)\n",
            "Requirement already satisfied: blinker<2,>=1.0.0 in /usr/lib/python3/dist-packages (from streamlit) (1.4)\n",
            "Requirement already satisfied: cachetools<6,>=4.0 in /usr/local/lib/python3.10/dist-packages (from streamlit) (5.3.3)\n",
            "Requirement already satisfied: click<9,>=7.0 in /usr/local/lib/python3.10/dist-packages (from streamlit) (8.1.7)\n",
            "Requirement already satisfied: numpy<3,>=1.20 in /usr/local/lib/python3.10/dist-packages (from streamlit) (1.25.2)\n",
            "Requirement already satisfied: packaging<25,>=20 in /usr/local/lib/python3.10/dist-packages (from streamlit) (24.1)\n",
            "Requirement already satisfied: pandas<3,>=1.3.0 in /usr/local/lib/python3.10/dist-packages (from streamlit) (2.0.3)\n",
            "Requirement already satisfied: pillow<11,>=7.1.0 in /usr/local/lib/python3.10/dist-packages (from streamlit) (9.4.0)\n",
            "Requirement already satisfied: protobuf<6,>=3.20 in /usr/local/lib/python3.10/dist-packages (from streamlit) (3.20.3)\n",
            "Requirement already satisfied: pyarrow>=7.0 in /usr/local/lib/python3.10/dist-packages (from streamlit) (14.0.2)\n",
            "Requirement already satisfied: requests<3,>=2.27 in /usr/local/lib/python3.10/dist-packages (from streamlit) (2.31.0)\n",
            "Requirement already satisfied: rich<14,>=10.14.0 in /usr/local/lib/python3.10/dist-packages (from streamlit) (13.7.1)\n",
            "Requirement already satisfied: tenacity<9,>=8.1.0 in /usr/local/lib/python3.10/dist-packages (from streamlit) (8.4.1)\n",
            "Requirement already satisfied: toml<2,>=0.10.1 in /usr/local/lib/python3.10/dist-packages (from streamlit) (0.10.2)\n",
            "Requirement already satisfied: typing-extensions<5,>=4.3.0 in /usr/local/lib/python3.10/dist-packages (from streamlit) (4.12.2)\n",
            "Requirement already satisfied: gitpython!=3.1.19,<4,>=3.0.7 in /usr/local/lib/python3.10/dist-packages (from streamlit) (3.1.43)\n",
            "Requirement already satisfied: pydeck<1,>=0.8.0b4 in /usr/local/lib/python3.10/dist-packages (from streamlit) (0.9.1)\n",
            "Requirement already satisfied: tornado<7,>=6.0.3 in /usr/local/lib/python3.10/dist-packages (from streamlit) (6.3.3)\n",
            "Requirement already satisfied: watchdog<5,>=2.1.5 in /usr/local/lib/python3.10/dist-packages (from streamlit) (4.0.1)\n",
            "Requirement already satisfied: entrypoints in /usr/local/lib/python3.10/dist-packages (from altair<6,>=4.0->streamlit) (0.4)\n",
            "Requirement already satisfied: jinja2 in /usr/local/lib/python3.10/dist-packages (from altair<6,>=4.0->streamlit) (3.1.4)\n",
            "Requirement already satisfied: jsonschema>=3.0 in /usr/local/lib/python3.10/dist-packages (from altair<6,>=4.0->streamlit) (4.19.2)\n",
            "Requirement already satisfied: toolz in /usr/local/lib/python3.10/dist-packages (from altair<6,>=4.0->streamlit) (0.12.1)\n",
            "Requirement already satisfied: gitdb<5,>=4.0.1 in /usr/local/lib/python3.10/dist-packages (from gitpython!=3.1.19,<4,>=3.0.7->streamlit) (4.0.11)\n",
            "Requirement already satisfied: python-dateutil>=2.8.2 in /usr/local/lib/python3.10/dist-packages (from pandas<3,>=1.3.0->streamlit) (2.8.2)\n",
            "Requirement already satisfied: pytz>=2020.1 in /usr/local/lib/python3.10/dist-packages (from pandas<3,>=1.3.0->streamlit) (2023.4)\n",
            "Requirement already satisfied: tzdata>=2022.1 in /usr/local/lib/python3.10/dist-packages (from pandas<3,>=1.3.0->streamlit) (2024.1)\n",
            "Requirement already satisfied: charset-normalizer<4,>=2 in /usr/local/lib/python3.10/dist-packages (from requests<3,>=2.27->streamlit) (3.3.2)\n",
            "Requirement already satisfied: idna<4,>=2.5 in /usr/local/lib/python3.10/dist-packages (from requests<3,>=2.27->streamlit) (3.7)\n",
            "Requirement already satisfied: urllib3<3,>=1.21.1 in /usr/local/lib/python3.10/dist-packages (from requests<3,>=2.27->streamlit) (2.0.7)\n",
            "Requirement already satisfied: certifi>=2017.4.17 in /usr/local/lib/python3.10/dist-packages (from requests<3,>=2.27->streamlit) (2024.6.2)\n",
            "Requirement already satisfied: markdown-it-py>=2.2.0 in /usr/local/lib/python3.10/dist-packages (from rich<14,>=10.14.0->streamlit) (3.0.0)\n",
            "Requirement already satisfied: pygments<3.0.0,>=2.13.0 in /usr/local/lib/python3.10/dist-packages (from rich<14,>=10.14.0->streamlit) (2.16.1)\n",
            "Requirement already satisfied: smmap<6,>=3.0.1 in /usr/local/lib/python3.10/dist-packages (from gitdb<5,>=4.0.1->gitpython!=3.1.19,<4,>=3.0.7->streamlit) (5.0.1)\n",
            "Requirement already satisfied: MarkupSafe>=2.0 in /usr/local/lib/python3.10/dist-packages (from jinja2->altair<6,>=4.0->streamlit) (2.1.5)\n",
            "Requirement already satisfied: attrs>=22.2.0 in /usr/local/lib/python3.10/dist-packages (from jsonschema>=3.0->altair<6,>=4.0->streamlit) (23.2.0)\n",
            "Requirement already satisfied: jsonschema-specifications>=2023.03.6 in /usr/local/lib/python3.10/dist-packages (from jsonschema>=3.0->altair<6,>=4.0->streamlit) (2023.12.1)\n",
            "Requirement already satisfied: referencing>=0.28.4 in /usr/local/lib/python3.10/dist-packages (from jsonschema>=3.0->altair<6,>=4.0->streamlit) (0.35.1)\n",
            "Requirement already satisfied: rpds-py>=0.7.1 in /usr/local/lib/python3.10/dist-packages (from jsonschema>=3.0->altair<6,>=4.0->streamlit) (0.18.1)\n",
            "Requirement already satisfied: mdurl~=0.1 in /usr/local/lib/python3.10/dist-packages (from markdown-it-py>=2.2.0->rich<14,>=10.14.0->streamlit) (0.1.2)\n",
            "Requirement already satisfied: six>=1.5 in /usr/local/lib/python3.10/dist-packages (from python-dateutil>=2.8.2->pandas<3,>=1.3.0->streamlit) (1.16.0)\n"
          ]
        }
      ],
      "source": [
        "!pip install streamlit\n"
      ]
    },
    {
      "cell_type": "code",
      "execution_count": 5,
      "metadata": {
        "colab": {
          "base_uri": "https://localhost:8080/"
        },
        "id": "NPxdq9g98e39",
        "outputId": "be1dc9aa-13e0-4ecb-eae1-9b1eb01f8168"
      },
      "outputs": [
        {
          "output_type": "stream",
          "name": "stdout",
          "text": [
            "Requirement already satisfied: sumy in /usr/local/lib/python3.10/dist-packages (0.11.0)\n",
            "Requirement already satisfied: docopt<0.7,>=0.6.1 in /usr/local/lib/python3.10/dist-packages (from sumy) (0.6.2)\n",
            "Requirement already satisfied: breadability>=0.1.20 in /usr/local/lib/python3.10/dist-packages (from sumy) (0.1.20)\n",
            "Requirement already satisfied: requests>=2.7.0 in /usr/local/lib/python3.10/dist-packages (from sumy) (2.31.0)\n",
            "Requirement already satisfied: pycountry>=18.2.23 in /usr/local/lib/python3.10/dist-packages (from sumy) (24.6.1)\n",
            "Requirement already satisfied: nltk>=3.0.2 in /usr/local/lib/python3.10/dist-packages (from sumy) (3.8.1)\n",
            "Requirement already satisfied: chardet in /usr/local/lib/python3.10/dist-packages (from breadability>=0.1.20->sumy) (5.2.0)\n",
            "Requirement already satisfied: lxml>=2.0 in /usr/local/lib/python3.10/dist-packages (from breadability>=0.1.20->sumy) (4.9.4)\n",
            "Requirement already satisfied: click in /usr/local/lib/python3.10/dist-packages (from nltk>=3.0.2->sumy) (8.1.7)\n",
            "Requirement already satisfied: joblib in /usr/local/lib/python3.10/dist-packages (from nltk>=3.0.2->sumy) (1.4.2)\n",
            "Requirement already satisfied: regex>=2021.8.3 in /usr/local/lib/python3.10/dist-packages (from nltk>=3.0.2->sumy) (2024.5.15)\n",
            "Requirement already satisfied: tqdm in /usr/local/lib/python3.10/dist-packages (from nltk>=3.0.2->sumy) (4.66.4)\n",
            "Requirement already satisfied: charset-normalizer<4,>=2 in /usr/local/lib/python3.10/dist-packages (from requests>=2.7.0->sumy) (3.3.2)\n",
            "Requirement already satisfied: idna<4,>=2.5 in /usr/local/lib/python3.10/dist-packages (from requests>=2.7.0->sumy) (3.7)\n",
            "Requirement already satisfied: urllib3<3,>=1.21.1 in /usr/local/lib/python3.10/dist-packages (from requests>=2.7.0->sumy) (2.0.7)\n",
            "Requirement already satisfied: certifi>=2017.4.17 in /usr/local/lib/python3.10/dist-packages (from requests>=2.7.0->sumy) (2024.6.2)\n"
          ]
        }
      ],
      "source": [
        "!pip install sumy\n"
      ]
    },
    {
      "cell_type": "code",
      "execution_count": 6,
      "metadata": {
        "colab": {
          "base_uri": "https://localhost:8080/"
        },
        "id": "pcTrJmSr8thH",
        "outputId": "658d1292-eddc-4089-caf6-dd40b739289b"
      },
      "outputs": [
        {
          "output_type": "stream",
          "name": "stdout",
          "text": [
            "Requirement already satisfied: newspaper3k in /usr/local/lib/python3.10/dist-packages (0.2.8)\n",
            "Requirement already satisfied: beautifulsoup4>=4.4.1 in /usr/local/lib/python3.10/dist-packages (from newspaper3k) (4.12.3)\n",
            "Requirement already satisfied: Pillow>=3.3.0 in /usr/local/lib/python3.10/dist-packages (from newspaper3k) (9.4.0)\n",
            "Requirement already satisfied: PyYAML>=3.11 in /usr/local/lib/python3.10/dist-packages (from newspaper3k) (6.0.1)\n",
            "Requirement already satisfied: cssselect>=0.9.2 in /usr/local/lib/python3.10/dist-packages (from newspaper3k) (1.2.0)\n",
            "Requirement already satisfied: lxml>=3.6.0 in /usr/local/lib/python3.10/dist-packages (from newspaper3k) (4.9.4)\n",
            "Requirement already satisfied: nltk>=3.2.1 in /usr/local/lib/python3.10/dist-packages (from newspaper3k) (3.8.1)\n",
            "Requirement already satisfied: requests>=2.10.0 in /usr/local/lib/python3.10/dist-packages (from newspaper3k) (2.31.0)\n",
            "Requirement already satisfied: feedparser>=5.2.1 in /usr/local/lib/python3.10/dist-packages (from newspaper3k) (6.0.11)\n",
            "Requirement already satisfied: tldextract>=2.0.1 in /usr/local/lib/python3.10/dist-packages (from newspaper3k) (5.1.2)\n",
            "Requirement already satisfied: feedfinder2>=0.0.4 in /usr/local/lib/python3.10/dist-packages (from newspaper3k) (0.0.4)\n",
            "Requirement already satisfied: jieba3k>=0.35.1 in /usr/local/lib/python3.10/dist-packages (from newspaper3k) (0.35.1)\n",
            "Requirement already satisfied: python-dateutil>=2.5.3 in /usr/local/lib/python3.10/dist-packages (from newspaper3k) (2.8.2)\n",
            "Requirement already satisfied: tinysegmenter==0.3 in /usr/local/lib/python3.10/dist-packages (from newspaper3k) (0.3)\n",
            "Requirement already satisfied: soupsieve>1.2 in /usr/local/lib/python3.10/dist-packages (from beautifulsoup4>=4.4.1->newspaper3k) (2.5)\n",
            "Requirement already satisfied: six in /usr/local/lib/python3.10/dist-packages (from feedfinder2>=0.0.4->newspaper3k) (1.16.0)\n",
            "Requirement already satisfied: sgmllib3k in /usr/local/lib/python3.10/dist-packages (from feedparser>=5.2.1->newspaper3k) (1.0.0)\n",
            "Requirement already satisfied: click in /usr/local/lib/python3.10/dist-packages (from nltk>=3.2.1->newspaper3k) (8.1.7)\n",
            "Requirement already satisfied: joblib in /usr/local/lib/python3.10/dist-packages (from nltk>=3.2.1->newspaper3k) (1.4.2)\n",
            "Requirement already satisfied: regex>=2021.8.3 in /usr/local/lib/python3.10/dist-packages (from nltk>=3.2.1->newspaper3k) (2024.5.15)\n",
            "Requirement already satisfied: tqdm in /usr/local/lib/python3.10/dist-packages (from nltk>=3.2.1->newspaper3k) (4.66.4)\n",
            "Requirement already satisfied: charset-normalizer<4,>=2 in /usr/local/lib/python3.10/dist-packages (from requests>=2.10.0->newspaper3k) (3.3.2)\n",
            "Requirement already satisfied: idna<4,>=2.5 in /usr/local/lib/python3.10/dist-packages (from requests>=2.10.0->newspaper3k) (3.7)\n",
            "Requirement already satisfied: urllib3<3,>=1.21.1 in /usr/local/lib/python3.10/dist-packages (from requests>=2.10.0->newspaper3k) (2.0.7)\n",
            "Requirement already satisfied: certifi>=2017.4.17 in /usr/local/lib/python3.10/dist-packages (from requests>=2.10.0->newspaper3k) (2024.6.2)\n",
            "Requirement already satisfied: requests-file>=1.4 in /usr/local/lib/python3.10/dist-packages (from tldextract>=2.0.1->newspaper3k) (2.1.0)\n",
            "Requirement already satisfied: filelock>=3.0.8 in /usr/local/lib/python3.10/dist-packages (from tldextract>=2.0.1->newspaper3k) (3.15.3)\n"
          ]
        }
      ],
      "source": [
        "!pip install newspaper3k\n"
      ]
    },
    {
      "cell_type": "code",
      "execution_count": 7,
      "metadata": {
        "colab": {
          "base_uri": "https://localhost:8080/"
        },
        "id": "ngkcKe68_sFT",
        "outputId": "25c06e19-99af-4506-dc57-0d849996b5bf"
      },
      "outputs": [
        {
          "output_type": "stream",
          "name": "stdout",
          "text": [
            "Requirement already satisfied: transformers in /usr/local/lib/python3.10/dist-packages (4.41.2)\n",
            "Requirement already satisfied: torch in /usr/local/lib/python3.10/dist-packages (2.3.0+cu121)\n",
            "Requirement already satisfied: filelock in /usr/local/lib/python3.10/dist-packages (from transformers) (3.15.3)\n",
            "Requirement already satisfied: huggingface-hub<1.0,>=0.23.0 in /usr/local/lib/python3.10/dist-packages (from transformers) (0.23.4)\n",
            "Requirement already satisfied: numpy>=1.17 in /usr/local/lib/python3.10/dist-packages (from transformers) (1.25.2)\n",
            "Requirement already satisfied: packaging>=20.0 in /usr/local/lib/python3.10/dist-packages (from transformers) (24.1)\n",
            "Requirement already satisfied: pyyaml>=5.1 in /usr/local/lib/python3.10/dist-packages (from transformers) (6.0.1)\n",
            "Requirement already satisfied: regex!=2019.12.17 in /usr/local/lib/python3.10/dist-packages (from transformers) (2024.5.15)\n",
            "Requirement already satisfied: requests in /usr/local/lib/python3.10/dist-packages (from transformers) (2.31.0)\n",
            "Requirement already satisfied: tokenizers<0.20,>=0.19 in /usr/local/lib/python3.10/dist-packages (from transformers) (0.19.1)\n",
            "Requirement already satisfied: safetensors>=0.4.1 in /usr/local/lib/python3.10/dist-packages (from transformers) (0.4.3)\n",
            "Requirement already satisfied: tqdm>=4.27 in /usr/local/lib/python3.10/dist-packages (from transformers) (4.66.4)\n",
            "Requirement already satisfied: typing-extensions>=4.8.0 in /usr/local/lib/python3.10/dist-packages (from torch) (4.12.2)\n",
            "Requirement already satisfied: sympy in /usr/local/lib/python3.10/dist-packages (from torch) (1.12.1)\n",
            "Requirement already satisfied: networkx in /usr/local/lib/python3.10/dist-packages (from torch) (3.3)\n",
            "Requirement already satisfied: jinja2 in /usr/local/lib/python3.10/dist-packages (from torch) (3.1.4)\n",
            "Requirement already satisfied: fsspec in /usr/local/lib/python3.10/dist-packages (from torch) (2023.6.0)\n",
            "Requirement already satisfied: nvidia-cuda-nvrtc-cu12==12.1.105 in /usr/local/lib/python3.10/dist-packages (from torch) (12.1.105)\n",
            "Requirement already satisfied: nvidia-cuda-runtime-cu12==12.1.105 in /usr/local/lib/python3.10/dist-packages (from torch) (12.1.105)\n",
            "Requirement already satisfied: nvidia-cuda-cupti-cu12==12.1.105 in /usr/local/lib/python3.10/dist-packages (from torch) (12.1.105)\n",
            "Requirement already satisfied: nvidia-cudnn-cu12==8.9.2.26 in /usr/local/lib/python3.10/dist-packages (from torch) (8.9.2.26)\n",
            "Requirement already satisfied: nvidia-cublas-cu12==12.1.3.1 in /usr/local/lib/python3.10/dist-packages (from torch) (12.1.3.1)\n",
            "Requirement already satisfied: nvidia-cufft-cu12==11.0.2.54 in /usr/local/lib/python3.10/dist-packages (from torch) (11.0.2.54)\n",
            "Requirement already satisfied: nvidia-curand-cu12==10.3.2.106 in /usr/local/lib/python3.10/dist-packages (from torch) (10.3.2.106)\n",
            "Requirement already satisfied: nvidia-cusolver-cu12==11.4.5.107 in /usr/local/lib/python3.10/dist-packages (from torch) (11.4.5.107)\n",
            "Requirement already satisfied: nvidia-cusparse-cu12==12.1.0.106 in /usr/local/lib/python3.10/dist-packages (from torch) (12.1.0.106)\n",
            "Requirement already satisfied: nvidia-nccl-cu12==2.20.5 in /usr/local/lib/python3.10/dist-packages (from torch) (2.20.5)\n",
            "Requirement already satisfied: nvidia-nvtx-cu12==12.1.105 in /usr/local/lib/python3.10/dist-packages (from torch) (12.1.105)\n",
            "Requirement already satisfied: triton==2.3.0 in /usr/local/lib/python3.10/dist-packages (from torch) (2.3.0)\n",
            "Requirement already satisfied: nvidia-nvjitlink-cu12 in /usr/local/lib/python3.10/dist-packages (from nvidia-cusolver-cu12==11.4.5.107->torch) (12.5.40)\n",
            "Requirement already satisfied: MarkupSafe>=2.0 in /usr/local/lib/python3.10/dist-packages (from jinja2->torch) (2.1.5)\n",
            "Requirement already satisfied: charset-normalizer<4,>=2 in /usr/local/lib/python3.10/dist-packages (from requests->transformers) (3.3.2)\n",
            "Requirement already satisfied: idna<4,>=2.5 in /usr/local/lib/python3.10/dist-packages (from requests->transformers) (3.7)\n",
            "Requirement already satisfied: urllib3<3,>=1.21.1 in /usr/local/lib/python3.10/dist-packages (from requests->transformers) (2.0.7)\n",
            "Requirement already satisfied: certifi>=2017.4.17 in /usr/local/lib/python3.10/dist-packages (from requests->transformers) (2024.6.2)\n",
            "Requirement already satisfied: mpmath<1.4.0,>=1.1.0 in /usr/local/lib/python3.10/dist-packages (from sympy->torch) (1.3.0)\n"
          ]
        }
      ],
      "source": [
        "!pip install transformers torch\n"
      ]
    },
    {
      "cell_type": "code",
      "execution_count": 8,
      "metadata": {
        "id": "AOir1uDdVhx3"
      },
      "outputs": [],
      "source": [
        "! pip install streamlit -q"
      ]
    },
    {
      "cell_type": "code",
      "source": [
        "!npm install -g localtunnel"
      ],
      "metadata": {
        "colab": {
          "base_uri": "https://localhost:8080/"
        },
        "id": "UnBHNz_Jt4z5",
        "outputId": "307dda2b-31ce-4a8c-a5f6-d5e882df2585"
      },
      "execution_count": 9,
      "outputs": [
        {
          "output_type": "stream",
          "name": "stdout",
          "text": [
            "\u001b[K\u001b[?25h/tools/node/bin/lt -> /tools/node/lib/node_modules/localtunnel/bin/lt.js\n",
            "+ localtunnel@2.0.2\n",
            "updated 1 package in 1.218s\n",
            "\n",
            "\u001b[33m\u001b[39m\n",
            "\u001b[33m   ╭────────────────────────────────────────────────────────────────╮\u001b[39m\n",
            "   \u001b[33m│\u001b[39m                                                                \u001b[33m│\u001b[39m\n",
            "   \u001b[33m│\u001b[39m      New \u001b[31mmajor\u001b[39m version of npm available! \u001b[31m6.14.8\u001b[39m → \u001b[32m10.8.1\u001b[39m       \u001b[33m│\u001b[39m\n",
            "   \u001b[33m│\u001b[39m   \u001b[33mChangelog:\u001b[39m \u001b[36mhttps://github.com/npm/cli/releases/tag/v10.8.1\u001b[39m   \u001b[33m│\u001b[39m\n",
            "   \u001b[33m│\u001b[39m               Run \u001b[32mnpm install -g npm\u001b[39m to update!                \u001b[33m│\u001b[39m\n",
            "   \u001b[33m│\u001b[39m                                                                \u001b[33m│\u001b[39m\n",
            "\u001b[33m   ╰────────────────────────────────────────────────────────────────╯\u001b[39m\n",
            "\u001b[33m\u001b[39m\n"
          ]
        }
      ]
    },
    {
      "cell_type": "code",
      "execution_count": 10,
      "metadata": {
        "id": "3chxMXa3VtUJ",
        "colab": {
          "base_uri": "https://localhost:8080/"
        },
        "outputId": "eec749a1-5760-49eb-c2a7-1ed49f682bf9"
      },
      "outputs": [
        {
          "output_type": "stream",
          "name": "stdout",
          "text": [
            "34.105.16.144\n"
          ]
        }
      ],
      "source": [
        "!wget -q -O - ipv4.icanhazip.com"
      ]
    },
    {
      "cell_type": "code",
      "execution_count": 11,
      "metadata": {
        "id": "YrJUPisxVxVf",
        "colab": {
          "base_uri": "https://localhost:8080/"
        },
        "outputId": "bae36f66-e5a8-4cca-f64e-0506c1b3de2b"
      },
      "outputs": [
        {
          "output_type": "stream",
          "name": "stdout",
          "text": [
            "Requirement already satisfied: nltk in /usr/local/lib/python3.10/dist-packages (3.8.1)\n",
            "Requirement already satisfied: click in /usr/local/lib/python3.10/dist-packages (from nltk) (8.1.7)\n",
            "Requirement already satisfied: joblib in /usr/local/lib/python3.10/dist-packages (from nltk) (1.4.2)\n",
            "Requirement already satisfied: regex>=2021.8.3 in /usr/local/lib/python3.10/dist-packages (from nltk) (2024.5.15)\n",
            "Requirement already satisfied: tqdm in /usr/local/lib/python3.10/dist-packages (from nltk) (4.66.4)\n"
          ]
        }
      ],
      "source": [
        "!pip install nltk"
      ]
    },
    {
      "cell_type": "code",
      "execution_count": 14,
      "metadata": {
        "id": "HW6wLmsuut3M",
        "colab": {
          "base_uri": "https://localhost:8080/"
        },
        "outputId": "d1a4c093-9715-422f-a667-24efa8e237ef"
      },
      "outputs": [
        {
          "output_type": "stream",
          "name": "stdout",
          "text": [
            "Overwriting app.py\n"
          ]
        }
      ],
      "source": [
        "%%writefile app.py\n",
        "import streamlit as st\n",
        "import torch\n",
        "from transformers import AutoTokenizer, AutoModelForSeq2SeqLM\n",
        "import newspaper\n",
        "import nltk\n",
        "nltk.download('punkt')\n",
        "\n",
        "\n",
        "model_name = \"t5-small\"\n",
        "tokenizer = AutoTokenizer.from_pretrained(model_name)\n",
        "model = AutoModelForSeq2SeqLM.from_pretrained(model_name)\n",
        "model.load_state_dict(torch.load(\"minilm_bal_exsum.pth\"))\n",
        "model.eval()\n",
        "\n",
        "def summarize_news(text, num_sentences=2):\n",
        "    inputs = tokenizer.encode(\"summarize: \" + text, return_tensors=\"pt\", max_length=512, truncation=True)\n",
        "    summary_ids = model.generate(inputs, max_length=num_sentences*20, min_length=num_sentences*10, length_penalty=2.0, num_beams=4, early_stopping=True)\n",
        "    summarized_news = tokenizer.decode(summary_ids[0], skip_special_tokens=True)\n",
        "    return summarized_news\n",
        "\n",
        "def scrape_and_summarize(url, num_sentences=2):\n",
        "    article = newspaper.Article(url)\n",
        "    article.download()\n",
        "    article.parse()\n",
        "    text = article.text\n",
        "    summarized_news = summarize_news(text, num_sentences)\n",
        "    return summarized_news\n",
        "\n",
        "def main():\n",
        "    st.title(\"NEWS SUMMARIZATION APP\")\n",
        "    choice = st.radio(\"Choose Input Type\", (\"Enter News\", \"Enter URL\"))\n",
        "    num_sentences = st.slider(\"Number of Sentences in Summary:\", min_value=1, max_value=3, value=2)\n",
        "\n",
        "    if choice == \"Enter News\":\n",
        "        text = st.text_area(\"Enter News:\")\n",
        "        if st.button(\"Summarize News\"):\n",
        "            if text:\n",
        "                summarized_news = summarize_news(text, num_sentences)\n",
        "                st.subheader(\"Summary:\")\n",
        "                st.write(summarized_news)\n",
        "            else:\n",
        "                st.warning(\"Please enter the news to summarize.\")\n",
        "\n",
        "    elif choice == \"Enter URL\":\n",
        "        url = st.text_input(\"Enter URL of the News Article:\")\n",
        "        if st.button(\"Summarize URL\"):\n",
        "            if url:\n",
        "                summarized_news = scrape_and_summarize(url, num_sentences)\n",
        "                st.subheader(\"Summary:\")\n",
        "                st.write(summarized_news)\n",
        "            else:\n",
        "                st.warning(\"Please enter the URL of the news article.\")\n",
        "\n",
        "if __name__ == \"__main__\":\n",
        "    main()\n"
      ]
    },
    {
      "cell_type": "code",
      "execution_count": 15,
      "metadata": {
        "id": "Df3qhGlPX51r",
        "colab": {
          "base_uri": "https://localhost:8080/"
        },
        "outputId": "0499a5c1-5230-4b45-ffd9-ad1dd4284ec6"
      },
      "outputs": [
        {
          "output_type": "stream",
          "name": "stdout",
          "text": [
            "\n",
            "Collecting usage statistics. To deactivate, set browser.gatherUsageStats to false.\n",
            "\u001b[0m\n",
            "\u001b[0m\n",
            "\u001b[34m\u001b[1m  You can now view your Streamlit app in your browser.\u001b[0m\n",
            "\u001b[0m\n",
            "\u001b[34m  Local URL: \u001b[0m\u001b[1mhttp://localhost:8501\u001b[0m\n",
            "\u001b[34m  Network URL: \u001b[0m\u001b[1mhttp://172.28.0.12:8501\u001b[0m\n",
            "\u001b[34m  External URL: \u001b[0m\u001b[1mhttp://34.105.16.144:8501\u001b[0m\n",
            "\u001b[0m\n",
            "\u001b[K\u001b[?25hnpx: installed 22 in 1.557s\n",
            "your url is: https://blue-ads-find.loca.lt\n",
            "[nltk_data] Downloading package punkt to /root/nltk_data...\n",
            "[nltk_data]   Unzipping tokenizers/punkt.zip.\n",
            "tokenizer_config.json: 100% 2.32k/2.32k [00:00<00:00, 13.2MB/s]\n",
            "spiece.model: 100% 792k/792k [00:00<00:00, 22.1MB/s]\n",
            "tokenizer.json: 100% 1.39M/1.39M [00:00<00:00, 4.34MB/s]\n",
            "[nltk_data] Downloading package punkt to /root/nltk_data...\n",
            "[nltk_data]   Package punkt is already up-to-date!\n",
            "[nltk_data] Downloading package punkt to /root/nltk_data...\n",
            "[nltk_data]   Package punkt is already up-to-date!\n",
            "[nltk_data] Downloading package punkt to /root/nltk_data...\n",
            "[nltk_data]   Package punkt is already up-to-date!\n",
            "[nltk_data] Downloading package punkt to /root/nltk_data...\n",
            "[nltk_data]   Package punkt is already up-to-date!\n",
            "[nltk_data] Downloading package punkt to /root/nltk_data...\n",
            "[nltk_data]   Package punkt is already up-to-date!\n",
            "[nltk_data] Downloading package punkt to /root/nltk_data...\n",
            "[nltk_data]   Package punkt is already up-to-date!\n",
            "[nltk_data] Downloading package punkt to /root/nltk_data...\n",
            "[nltk_data]   Package punkt is already up-to-date!\n",
            "[nltk_data] Downloading package punkt to /root/nltk_data...\n",
            "[nltk_data]   Package punkt is already up-to-date!\n",
            "[nltk_data] Downloading package punkt to /root/nltk_data...\n",
            "[nltk_data]   Package punkt is already up-to-date!\n",
            "[nltk_data] Downloading package punkt to /root/nltk_data...\n",
            "[nltk_data]   Package punkt is already up-to-date!\n",
            "[nltk_data] Downloading package punkt to /root/nltk_data...\n",
            "[nltk_data]   Package punkt is already up-to-date!\n",
            "[nltk_data] Downloading package punkt to /root/nltk_data...\n",
            "[nltk_data]   Package punkt is already up-to-date!\n",
            "[nltk_data] Downloading package punkt to /root/nltk_data...\n",
            "[nltk_data]   Package punkt is already up-to-date!\n",
            "[nltk_data] Downloading package punkt to /root/nltk_data...\n",
            "[nltk_data]   Package punkt is already up-to-date!\n",
            "[nltk_data] Downloading package punkt to /root/nltk_data...\n",
            "[nltk_data]   Package punkt is already up-to-date!\n",
            "[nltk_data] Downloading package punkt to /root/nltk_data...\n",
            "[nltk_data]   Package punkt is already up-to-date!\n",
            "[nltk_data] Downloading package punkt to /root/nltk_data...\n",
            "[nltk_data]   Package punkt is already up-to-date!\n",
            "[nltk_data] Downloading package punkt to /root/nltk_data...\n",
            "[nltk_data]   Package punkt is already up-to-date!\n",
            "\u001b[34m  Stopping...\u001b[0m\n",
            "^C\n"
          ]
        }
      ],
      "source": [
        "!streamlit run app.py & npx localtunnel --port 8501"
      ]
    }
  ],
  "metadata": {
    "accelerator": "GPU",
    "colab": {
      "gpuType": "T4",
      "provenance": [],
      "include_colab_link": true
    },
    "kernelspec": {
      "display_name": "Python 3",
      "name": "python3"
    },
    "language_info": {
      "codemirror_mode": {
        "name": "ipython",
        "version": 3
      },
      "file_extension": ".py",
      "mimetype": "text/x-python",
      "name": "python",
      "nbconvert_exporter": "python",
      "pygments_lexer": "ipython3",
      "version": "3.12.3"
    },
    "widgets": {
      "application/vnd.jupyter.widget-state+json": {
        "06028210ddc143b995a9efd2bddb7b3f": {
          "model_module": "@jupyter-widgets/base",
          "model_module_version": "1.2.0",
          "model_name": "LayoutModel",
          "state": {
            "_model_module": "@jupyter-widgets/base",
            "_model_module_version": "1.2.0",
            "_model_name": "LayoutModel",
            "_view_count": null,
            "_view_module": "@jupyter-widgets/base",
            "_view_module_version": "1.2.0",
            "_view_name": "LayoutView",
            "align_content": null,
            "align_items": null,
            "align_self": null,
            "border": null,
            "bottom": null,
            "display": null,
            "flex": null,
            "flex_flow": null,
            "grid_area": null,
            "grid_auto_columns": null,
            "grid_auto_flow": null,
            "grid_auto_rows": null,
            "grid_column": null,
            "grid_gap": null,
            "grid_row": null,
            "grid_template_areas": null,
            "grid_template_columns": null,
            "grid_template_rows": null,
            "height": null,
            "justify_content": null,
            "justify_items": null,
            "left": null,
            "margin": null,
            "max_height": null,
            "max_width": null,
            "min_height": null,
            "min_width": null,
            "object_fit": null,
            "object_position": null,
            "order": null,
            "overflow": null,
            "overflow_x": null,
            "overflow_y": null,
            "padding": null,
            "right": null,
            "top": null,
            "visibility": null,
            "width": null
          }
        },
        "0670682d1d4a4c48bb1dcd80cfb17a75": {
          "model_module": "@jupyter-widgets/controls",
          "model_module_version": "1.5.0",
          "model_name": "DescriptionStyleModel",
          "state": {
            "_model_module": "@jupyter-widgets/controls",
            "_model_module_version": "1.5.0",
            "_model_name": "DescriptionStyleModel",
            "_view_count": null,
            "_view_module": "@jupyter-widgets/base",
            "_view_module_version": "1.2.0",
            "_view_name": "StyleView",
            "description_width": ""
          }
        },
        "09a1dfd057c04270b7bc316f292bc8e2": {
          "model_module": "@jupyter-widgets/controls",
          "model_module_version": "1.5.0",
          "model_name": "HTMLModel",
          "state": {
            "_dom_classes": [],
            "_model_module": "@jupyter-widgets/controls",
            "_model_module_version": "1.5.0",
            "_model_name": "HTMLModel",
            "_view_count": null,
            "_view_module": "@jupyter-widgets/controls",
            "_view_module_version": "1.5.0",
            "_view_name": "HTMLView",
            "description": "",
            "description_tooltip": null,
            "layout": "IPY_MODEL_4d28d8b123f648e0af0a33136a32d044",
            "placeholder": "​",
            "style": "IPY_MODEL_494dd4dc181e4f13b05ec7409b7145ac",
            "value": " 1.39M/1.39M [00:00&lt;00:00, 4.33MB/s]"
          }
        },
        "10e2612379bd4000aeacb89886876e02": {
          "model_module": "@jupyter-widgets/controls",
          "model_module_version": "1.5.0",
          "model_name": "HBoxModel",
          "state": {
            "_dom_classes": [],
            "_model_module": "@jupyter-widgets/controls",
            "_model_module_version": "1.5.0",
            "_model_name": "HBoxModel",
            "_view_count": null,
            "_view_module": "@jupyter-widgets/controls",
            "_view_module_version": "1.5.0",
            "_view_name": "HBoxView",
            "box_style": "",
            "children": [
              "IPY_MODEL_90f2508c1ea14d708471d3a2514200ab",
              "IPY_MODEL_fa468af6f281495584dd2622a4634028",
              "IPY_MODEL_68d51f160f094bb094ccb0b28e90402e"
            ],
            "layout": "IPY_MODEL_90bcaf7feb334a6faf0cdc1efd0ff9c6"
          }
        },
        "2845df918fe94ed990b4cad0daface02": {
          "model_module": "@jupyter-widgets/controls",
          "model_module_version": "1.5.0",
          "model_name": "ProgressStyleModel",
          "state": {
            "_model_module": "@jupyter-widgets/controls",
            "_model_module_version": "1.5.0",
            "_model_name": "ProgressStyleModel",
            "_view_count": null,
            "_view_module": "@jupyter-widgets/base",
            "_view_module_version": "1.2.0",
            "_view_name": "StyleView",
            "bar_color": null,
            "description_width": ""
          }
        },
        "3a8eb3e6c2fd4ac6bc24caa28a8c7a1d": {
          "model_module": "@jupyter-widgets/controls",
          "model_module_version": "1.5.0",
          "model_name": "HBoxModel",
          "state": {
            "_dom_classes": [],
            "_model_module": "@jupyter-widgets/controls",
            "_model_module_version": "1.5.0",
            "_model_name": "HBoxModel",
            "_view_count": null,
            "_view_module": "@jupyter-widgets/controls",
            "_view_module_version": "1.5.0",
            "_view_name": "HBoxView",
            "box_style": "",
            "children": [
              "IPY_MODEL_5af94014b84e45dcb199a1479fb9ff02",
              "IPY_MODEL_d76bb04d614046a699e4c86fe6ec7d6d",
              "IPY_MODEL_09a1dfd057c04270b7bc316f292bc8e2"
            ],
            "layout": "IPY_MODEL_46e27c8566b940099c611f1c09f78af1"
          }
        },
        "45a4abeefad044b38262bcb308dc1482": {
          "model_module": "@jupyter-widgets/base",
          "model_module_version": "1.2.0",
          "model_name": "LayoutModel",
          "state": {
            "_model_module": "@jupyter-widgets/base",
            "_model_module_version": "1.2.0",
            "_model_name": "LayoutModel",
            "_view_count": null,
            "_view_module": "@jupyter-widgets/base",
            "_view_module_version": "1.2.0",
            "_view_name": "LayoutView",
            "align_content": null,
            "align_items": null,
            "align_self": null,
            "border": null,
            "bottom": null,
            "display": null,
            "flex": null,
            "flex_flow": null,
            "grid_area": null,
            "grid_auto_columns": null,
            "grid_auto_flow": null,
            "grid_auto_rows": null,
            "grid_column": null,
            "grid_gap": null,
            "grid_row": null,
            "grid_template_areas": null,
            "grid_template_columns": null,
            "grid_template_rows": null,
            "height": null,
            "justify_content": null,
            "justify_items": null,
            "left": null,
            "margin": null,
            "max_height": null,
            "max_width": null,
            "min_height": null,
            "min_width": null,
            "object_fit": null,
            "object_position": null,
            "order": null,
            "overflow": null,
            "overflow_x": null,
            "overflow_y": null,
            "padding": null,
            "right": null,
            "top": null,
            "visibility": null,
            "width": null
          }
        },
        "46e27c8566b940099c611f1c09f78af1": {
          "model_module": "@jupyter-widgets/base",
          "model_module_version": "1.2.0",
          "model_name": "LayoutModel",
          "state": {
            "_model_module": "@jupyter-widgets/base",
            "_model_module_version": "1.2.0",
            "_model_name": "LayoutModel",
            "_view_count": null,
            "_view_module": "@jupyter-widgets/base",
            "_view_module_version": "1.2.0",
            "_view_name": "LayoutView",
            "align_content": null,
            "align_items": null,
            "align_self": null,
            "border": null,
            "bottom": null,
            "display": null,
            "flex": null,
            "flex_flow": null,
            "grid_area": null,
            "grid_auto_columns": null,
            "grid_auto_flow": null,
            "grid_auto_rows": null,
            "grid_column": null,
            "grid_gap": null,
            "grid_row": null,
            "grid_template_areas": null,
            "grid_template_columns": null,
            "grid_template_rows": null,
            "height": null,
            "justify_content": null,
            "justify_items": null,
            "left": null,
            "margin": null,
            "max_height": null,
            "max_width": null,
            "min_height": null,
            "min_width": null,
            "object_fit": null,
            "object_position": null,
            "order": null,
            "overflow": null,
            "overflow_x": null,
            "overflow_y": null,
            "padding": null,
            "right": null,
            "top": null,
            "visibility": null,
            "width": null
          }
        },
        "494dd4dc181e4f13b05ec7409b7145ac": {
          "model_module": "@jupyter-widgets/controls",
          "model_module_version": "1.5.0",
          "model_name": "DescriptionStyleModel",
          "state": {
            "_model_module": "@jupyter-widgets/controls",
            "_model_module_version": "1.5.0",
            "_model_name": "DescriptionStyleModel",
            "_view_count": null,
            "_view_module": "@jupyter-widgets/base",
            "_view_module_version": "1.2.0",
            "_view_name": "StyleView",
            "description_width": ""
          }
        },
        "4d28d8b123f648e0af0a33136a32d044": {
          "model_module": "@jupyter-widgets/base",
          "model_module_version": "1.2.0",
          "model_name": "LayoutModel",
          "state": {
            "_model_module": "@jupyter-widgets/base",
            "_model_module_version": "1.2.0",
            "_model_name": "LayoutModel",
            "_view_count": null,
            "_view_module": "@jupyter-widgets/base",
            "_view_module_version": "1.2.0",
            "_view_name": "LayoutView",
            "align_content": null,
            "align_items": null,
            "align_self": null,
            "border": null,
            "bottom": null,
            "display": null,
            "flex": null,
            "flex_flow": null,
            "grid_area": null,
            "grid_auto_columns": null,
            "grid_auto_flow": null,
            "grid_auto_rows": null,
            "grid_column": null,
            "grid_gap": null,
            "grid_row": null,
            "grid_template_areas": null,
            "grid_template_columns": null,
            "grid_template_rows": null,
            "height": null,
            "justify_content": null,
            "justify_items": null,
            "left": null,
            "margin": null,
            "max_height": null,
            "max_width": null,
            "min_height": null,
            "min_width": null,
            "object_fit": null,
            "object_position": null,
            "order": null,
            "overflow": null,
            "overflow_x": null,
            "overflow_y": null,
            "padding": null,
            "right": null,
            "top": null,
            "visibility": null,
            "width": null
          }
        },
        "5040dacac203430fb64e7e3b0f193fd9": {
          "model_module": "@jupyter-widgets/base",
          "model_module_version": "1.2.0",
          "model_name": "LayoutModel",
          "state": {
            "_model_module": "@jupyter-widgets/base",
            "_model_module_version": "1.2.0",
            "_model_name": "LayoutModel",
            "_view_count": null,
            "_view_module": "@jupyter-widgets/base",
            "_view_module_version": "1.2.0",
            "_view_name": "LayoutView",
            "align_content": null,
            "align_items": null,
            "align_self": null,
            "border": null,
            "bottom": null,
            "display": null,
            "flex": null,
            "flex_flow": null,
            "grid_area": null,
            "grid_auto_columns": null,
            "grid_auto_flow": null,
            "grid_auto_rows": null,
            "grid_column": null,
            "grid_gap": null,
            "grid_row": null,
            "grid_template_areas": null,
            "grid_template_columns": null,
            "grid_template_rows": null,
            "height": null,
            "justify_content": null,
            "justify_items": null,
            "left": null,
            "margin": null,
            "max_height": null,
            "max_width": null,
            "min_height": null,
            "min_width": null,
            "object_fit": null,
            "object_position": null,
            "order": null,
            "overflow": null,
            "overflow_x": null,
            "overflow_y": null,
            "padding": null,
            "right": null,
            "top": null,
            "visibility": null,
            "width": null
          }
        },
        "5743455cfa3d488383bc316d3be6c754": {
          "model_module": "@jupyter-widgets/base",
          "model_module_version": "1.2.0",
          "model_name": "LayoutModel",
          "state": {
            "_model_module": "@jupyter-widgets/base",
            "_model_module_version": "1.2.0",
            "_model_name": "LayoutModel",
            "_view_count": null,
            "_view_module": "@jupyter-widgets/base",
            "_view_module_version": "1.2.0",
            "_view_name": "LayoutView",
            "align_content": null,
            "align_items": null,
            "align_self": null,
            "border": null,
            "bottom": null,
            "display": null,
            "flex": null,
            "flex_flow": null,
            "grid_area": null,
            "grid_auto_columns": null,
            "grid_auto_flow": null,
            "grid_auto_rows": null,
            "grid_column": null,
            "grid_gap": null,
            "grid_row": null,
            "grid_template_areas": null,
            "grid_template_columns": null,
            "grid_template_rows": null,
            "height": null,
            "justify_content": null,
            "justify_items": null,
            "left": null,
            "margin": null,
            "max_height": null,
            "max_width": null,
            "min_height": null,
            "min_width": null,
            "object_fit": null,
            "object_position": null,
            "order": null,
            "overflow": null,
            "overflow_x": null,
            "overflow_y": null,
            "padding": null,
            "right": null,
            "top": null,
            "visibility": null,
            "width": null
          }
        },
        "59d3ef8493a14e5f9e184af5c615376a": {
          "model_module": "@jupyter-widgets/controls",
          "model_module_version": "1.5.0",
          "model_name": "ProgressStyleModel",
          "state": {
            "_model_module": "@jupyter-widgets/controls",
            "_model_module_version": "1.5.0",
            "_model_name": "ProgressStyleModel",
            "_view_count": null,
            "_view_module": "@jupyter-widgets/base",
            "_view_module_version": "1.2.0",
            "_view_name": "StyleView",
            "bar_color": null,
            "description_width": ""
          }
        },
        "5af94014b84e45dcb199a1479fb9ff02": {
          "model_module": "@jupyter-widgets/controls",
          "model_module_version": "1.5.0",
          "model_name": "HTMLModel",
          "state": {
            "_dom_classes": [],
            "_model_module": "@jupyter-widgets/controls",
            "_model_module_version": "1.5.0",
            "_model_name": "HTMLModel",
            "_view_count": null,
            "_view_module": "@jupyter-widgets/controls",
            "_view_module_version": "1.5.0",
            "_view_name": "HTMLView",
            "description": "",
            "description_tooltip": null,
            "layout": "IPY_MODEL_6cc26db058924cf18cb83594f7b4ee59",
            "placeholder": "​",
            "style": "IPY_MODEL_ab3893c7ab384bcfba6b8178af391820",
            "value": "tokenizer.json: 100%"
          }
        },
        "68d51f160f094bb094ccb0b28e90402e": {
          "model_module": "@jupyter-widgets/controls",
          "model_module_version": "1.5.0",
          "model_name": "HTMLModel",
          "state": {
            "_dom_classes": [],
            "_model_module": "@jupyter-widgets/controls",
            "_model_module_version": "1.5.0",
            "_model_name": "HTMLModel",
            "_view_count": null,
            "_view_module": "@jupyter-widgets/controls",
            "_view_module_version": "1.5.0",
            "_view_name": "HTMLView",
            "description": "",
            "description_tooltip": null,
            "layout": "IPY_MODEL_06028210ddc143b995a9efd2bddb7b3f",
            "placeholder": "​",
            "style": "IPY_MODEL_0670682d1d4a4c48bb1dcd80cfb17a75",
            "value": " 792k/792k [00:00&lt;00:00, 7.73MB/s]"
          }
        },
        "6b40d1641638475db955942d0dbd1ee7": {
          "model_module": "@jupyter-widgets/controls",
          "model_module_version": "1.5.0",
          "model_name": "DescriptionStyleModel",
          "state": {
            "_model_module": "@jupyter-widgets/controls",
            "_model_module_version": "1.5.0",
            "_model_name": "DescriptionStyleModel",
            "_view_count": null,
            "_view_module": "@jupyter-widgets/base",
            "_view_module_version": "1.2.0",
            "_view_name": "StyleView",
            "description_width": ""
          }
        },
        "6cc26db058924cf18cb83594f7b4ee59": {
          "model_module": "@jupyter-widgets/base",
          "model_module_version": "1.2.0",
          "model_name": "LayoutModel",
          "state": {
            "_model_module": "@jupyter-widgets/base",
            "_model_module_version": "1.2.0",
            "_model_name": "LayoutModel",
            "_view_count": null,
            "_view_module": "@jupyter-widgets/base",
            "_view_module_version": "1.2.0",
            "_view_name": "LayoutView",
            "align_content": null,
            "align_items": null,
            "align_self": null,
            "border": null,
            "bottom": null,
            "display": null,
            "flex": null,
            "flex_flow": null,
            "grid_area": null,
            "grid_auto_columns": null,
            "grid_auto_flow": null,
            "grid_auto_rows": null,
            "grid_column": null,
            "grid_gap": null,
            "grid_row": null,
            "grid_template_areas": null,
            "grid_template_columns": null,
            "grid_template_rows": null,
            "height": null,
            "justify_content": null,
            "justify_items": null,
            "left": null,
            "margin": null,
            "max_height": null,
            "max_width": null,
            "min_height": null,
            "min_width": null,
            "object_fit": null,
            "object_position": null,
            "order": null,
            "overflow": null,
            "overflow_x": null,
            "overflow_y": null,
            "padding": null,
            "right": null,
            "top": null,
            "visibility": null,
            "width": null
          }
        },
        "71fa261176fa43bfa0c9844d45eacf82": {
          "model_module": "@jupyter-widgets/controls",
          "model_module_version": "1.5.0",
          "model_name": "ProgressStyleModel",
          "state": {
            "_model_module": "@jupyter-widgets/controls",
            "_model_module_version": "1.5.0",
            "_model_name": "ProgressStyleModel",
            "_view_count": null,
            "_view_module": "@jupyter-widgets/base",
            "_view_module_version": "1.2.0",
            "_view_name": "StyleView",
            "bar_color": null,
            "description_width": ""
          }
        },
        "7eea3dfbbf8c49a0bc7ccb9aa441a9b7": {
          "model_module": "@jupyter-widgets/controls",
          "model_module_version": "1.5.0",
          "model_name": "DescriptionStyleModel",
          "state": {
            "_model_module": "@jupyter-widgets/controls",
            "_model_module_version": "1.5.0",
            "_model_name": "DescriptionStyleModel",
            "_view_count": null,
            "_view_module": "@jupyter-widgets/base",
            "_view_module_version": "1.2.0",
            "_view_name": "StyleView",
            "description_width": ""
          }
        },
        "8c260b15f07a45379e5af082f2947aaf": {
          "model_module": "@jupyter-widgets/controls",
          "model_module_version": "1.5.0",
          "model_name": "FloatProgressModel",
          "state": {
            "_dom_classes": [],
            "_model_module": "@jupyter-widgets/controls",
            "_model_module_version": "1.5.0",
            "_model_name": "FloatProgressModel",
            "_view_count": null,
            "_view_module": "@jupyter-widgets/controls",
            "_view_module_version": "1.5.0",
            "_view_name": "ProgressView",
            "bar_style": "success",
            "description": "",
            "description_tooltip": null,
            "layout": "IPY_MODEL_a3a543daf0044d7ebede3398eb19d80e",
            "max": 2324,
            "min": 0,
            "orientation": "horizontal",
            "style": "IPY_MODEL_2845df918fe94ed990b4cad0daface02",
            "value": 2324
          }
        },
        "90bcaf7feb334a6faf0cdc1efd0ff9c6": {
          "model_module": "@jupyter-widgets/base",
          "model_module_version": "1.2.0",
          "model_name": "LayoutModel",
          "state": {
            "_model_module": "@jupyter-widgets/base",
            "_model_module_version": "1.2.0",
            "_model_name": "LayoutModel",
            "_view_count": null,
            "_view_module": "@jupyter-widgets/base",
            "_view_module_version": "1.2.0",
            "_view_name": "LayoutView",
            "align_content": null,
            "align_items": null,
            "align_self": null,
            "border": null,
            "bottom": null,
            "display": null,
            "flex": null,
            "flex_flow": null,
            "grid_area": null,
            "grid_auto_columns": null,
            "grid_auto_flow": null,
            "grid_auto_rows": null,
            "grid_column": null,
            "grid_gap": null,
            "grid_row": null,
            "grid_template_areas": null,
            "grid_template_columns": null,
            "grid_template_rows": null,
            "height": null,
            "justify_content": null,
            "justify_items": null,
            "left": null,
            "margin": null,
            "max_height": null,
            "max_width": null,
            "min_height": null,
            "min_width": null,
            "object_fit": null,
            "object_position": null,
            "order": null,
            "overflow": null,
            "overflow_x": null,
            "overflow_y": null,
            "padding": null,
            "right": null,
            "top": null,
            "visibility": null,
            "width": null
          }
        },
        "90f2508c1ea14d708471d3a2514200ab": {
          "model_module": "@jupyter-widgets/controls",
          "model_module_version": "1.5.0",
          "model_name": "HTMLModel",
          "state": {
            "_dom_classes": [],
            "_model_module": "@jupyter-widgets/controls",
            "_model_module_version": "1.5.0",
            "_model_name": "HTMLModel",
            "_view_count": null,
            "_view_module": "@jupyter-widgets/controls",
            "_view_module_version": "1.5.0",
            "_view_name": "HTMLView",
            "description": "",
            "description_tooltip": null,
            "layout": "IPY_MODEL_45a4abeefad044b38262bcb308dc1482",
            "placeholder": "​",
            "style": "IPY_MODEL_6b40d1641638475db955942d0dbd1ee7",
            "value": "spiece.model: 100%"
          }
        },
        "a117fd4a5c504a6a967bc8de2fc25597": {
          "model_module": "@jupyter-widgets/controls",
          "model_module_version": "1.5.0",
          "model_name": "DescriptionStyleModel",
          "state": {
            "_model_module": "@jupyter-widgets/controls",
            "_model_module_version": "1.5.0",
            "_model_name": "DescriptionStyleModel",
            "_view_count": null,
            "_view_module": "@jupyter-widgets/base",
            "_view_module_version": "1.2.0",
            "_view_name": "StyleView",
            "description_width": ""
          }
        },
        "a3a543daf0044d7ebede3398eb19d80e": {
          "model_module": "@jupyter-widgets/base",
          "model_module_version": "1.2.0",
          "model_name": "LayoutModel",
          "state": {
            "_model_module": "@jupyter-widgets/base",
            "_model_module_version": "1.2.0",
            "_model_name": "LayoutModel",
            "_view_count": null,
            "_view_module": "@jupyter-widgets/base",
            "_view_module_version": "1.2.0",
            "_view_name": "LayoutView",
            "align_content": null,
            "align_items": null,
            "align_self": null,
            "border": null,
            "bottom": null,
            "display": null,
            "flex": null,
            "flex_flow": null,
            "grid_area": null,
            "grid_auto_columns": null,
            "grid_auto_flow": null,
            "grid_auto_rows": null,
            "grid_column": null,
            "grid_gap": null,
            "grid_row": null,
            "grid_template_areas": null,
            "grid_template_columns": null,
            "grid_template_rows": null,
            "height": null,
            "justify_content": null,
            "justify_items": null,
            "left": null,
            "margin": null,
            "max_height": null,
            "max_width": null,
            "min_height": null,
            "min_width": null,
            "object_fit": null,
            "object_position": null,
            "order": null,
            "overflow": null,
            "overflow_x": null,
            "overflow_y": null,
            "padding": null,
            "right": null,
            "top": null,
            "visibility": null,
            "width": null
          }
        },
        "a4805949c1654244923e45eb8c8cde59": {
          "model_module": "@jupyter-widgets/base",
          "model_module_version": "1.2.0",
          "model_name": "LayoutModel",
          "state": {
            "_model_module": "@jupyter-widgets/base",
            "_model_module_version": "1.2.0",
            "_model_name": "LayoutModel",
            "_view_count": null,
            "_view_module": "@jupyter-widgets/base",
            "_view_module_version": "1.2.0",
            "_view_name": "LayoutView",
            "align_content": null,
            "align_items": null,
            "align_self": null,
            "border": null,
            "bottom": null,
            "display": null,
            "flex": null,
            "flex_flow": null,
            "grid_area": null,
            "grid_auto_columns": null,
            "grid_auto_flow": null,
            "grid_auto_rows": null,
            "grid_column": null,
            "grid_gap": null,
            "grid_row": null,
            "grid_template_areas": null,
            "grid_template_columns": null,
            "grid_template_rows": null,
            "height": null,
            "justify_content": null,
            "justify_items": null,
            "left": null,
            "margin": null,
            "max_height": null,
            "max_width": null,
            "min_height": null,
            "min_width": null,
            "object_fit": null,
            "object_position": null,
            "order": null,
            "overflow": null,
            "overflow_x": null,
            "overflow_y": null,
            "padding": null,
            "right": null,
            "top": null,
            "visibility": null,
            "width": null
          }
        },
        "ab3893c7ab384bcfba6b8178af391820": {
          "model_module": "@jupyter-widgets/controls",
          "model_module_version": "1.5.0",
          "model_name": "DescriptionStyleModel",
          "state": {
            "_model_module": "@jupyter-widgets/controls",
            "_model_module_version": "1.5.0",
            "_model_name": "DescriptionStyleModel",
            "_view_count": null,
            "_view_module": "@jupyter-widgets/base",
            "_view_module_version": "1.2.0",
            "_view_name": "StyleView",
            "description_width": ""
          }
        },
        "b3fd101c46674be0a354ffd0c31fbcfc": {
          "model_module": "@jupyter-widgets/base",
          "model_module_version": "1.2.0",
          "model_name": "LayoutModel",
          "state": {
            "_model_module": "@jupyter-widgets/base",
            "_model_module_version": "1.2.0",
            "_model_name": "LayoutModel",
            "_view_count": null,
            "_view_module": "@jupyter-widgets/base",
            "_view_module_version": "1.2.0",
            "_view_name": "LayoutView",
            "align_content": null,
            "align_items": null,
            "align_self": null,
            "border": null,
            "bottom": null,
            "display": null,
            "flex": null,
            "flex_flow": null,
            "grid_area": null,
            "grid_auto_columns": null,
            "grid_auto_flow": null,
            "grid_auto_rows": null,
            "grid_column": null,
            "grid_gap": null,
            "grid_row": null,
            "grid_template_areas": null,
            "grid_template_columns": null,
            "grid_template_rows": null,
            "height": null,
            "justify_content": null,
            "justify_items": null,
            "left": null,
            "margin": null,
            "max_height": null,
            "max_width": null,
            "min_height": null,
            "min_width": null,
            "object_fit": null,
            "object_position": null,
            "order": null,
            "overflow": null,
            "overflow_x": null,
            "overflow_y": null,
            "padding": null,
            "right": null,
            "top": null,
            "visibility": null,
            "width": null
          }
        },
        "b52606869cc2438a9f664df9a7872966": {
          "model_module": "@jupyter-widgets/controls",
          "model_module_version": "1.5.0",
          "model_name": "HTMLModel",
          "state": {
            "_dom_classes": [],
            "_model_module": "@jupyter-widgets/controls",
            "_model_module_version": "1.5.0",
            "_model_name": "HTMLModel",
            "_view_count": null,
            "_view_module": "@jupyter-widgets/controls",
            "_view_module_version": "1.5.0",
            "_view_name": "HTMLView",
            "description": "",
            "description_tooltip": null,
            "layout": "IPY_MODEL_a4805949c1654244923e45eb8c8cde59",
            "placeholder": "​",
            "style": "IPY_MODEL_7eea3dfbbf8c49a0bc7ccb9aa441a9b7",
            "value": "tokenizer_config.json: 100%"
          }
        },
        "d0c0a66736494458839beb6867369440": {
          "model_module": "@jupyter-widgets/controls",
          "model_module_version": "1.5.0",
          "model_name": "HBoxModel",
          "state": {
            "_dom_classes": [],
            "_model_module": "@jupyter-widgets/controls",
            "_model_module_version": "1.5.0",
            "_model_name": "HBoxModel",
            "_view_count": null,
            "_view_module": "@jupyter-widgets/controls",
            "_view_module_version": "1.5.0",
            "_view_name": "HBoxView",
            "box_style": "",
            "children": [
              "IPY_MODEL_b52606869cc2438a9f664df9a7872966",
              "IPY_MODEL_8c260b15f07a45379e5af082f2947aaf",
              "IPY_MODEL_eef5f3565f3f4ba8ae7bcca81280e045"
            ],
            "layout": "IPY_MODEL_5040dacac203430fb64e7e3b0f193fd9"
          }
        },
        "d76bb04d614046a699e4c86fe6ec7d6d": {
          "model_module": "@jupyter-widgets/controls",
          "model_module_version": "1.5.0",
          "model_name": "FloatProgressModel",
          "state": {
            "_dom_classes": [],
            "_model_module": "@jupyter-widgets/controls",
            "_model_module_version": "1.5.0",
            "_model_name": "FloatProgressModel",
            "_view_count": null,
            "_view_module": "@jupyter-widgets/controls",
            "_view_module_version": "1.5.0",
            "_view_name": "ProgressView",
            "bar_style": "success",
            "description": "",
            "description_tooltip": null,
            "layout": "IPY_MODEL_5743455cfa3d488383bc316d3be6c754",
            "max": 1389353,
            "min": 0,
            "orientation": "horizontal",
            "style": "IPY_MODEL_59d3ef8493a14e5f9e184af5c615376a",
            "value": 1389353
          }
        },
        "ec642fed5e994933a4c552eaf7f02279": {
          "model_module": "@jupyter-widgets/base",
          "model_module_version": "1.2.0",
          "model_name": "LayoutModel",
          "state": {
            "_model_module": "@jupyter-widgets/base",
            "_model_module_version": "1.2.0",
            "_model_name": "LayoutModel",
            "_view_count": null,
            "_view_module": "@jupyter-widgets/base",
            "_view_module_version": "1.2.0",
            "_view_name": "LayoutView",
            "align_content": null,
            "align_items": null,
            "align_self": null,
            "border": null,
            "bottom": null,
            "display": null,
            "flex": null,
            "flex_flow": null,
            "grid_area": null,
            "grid_auto_columns": null,
            "grid_auto_flow": null,
            "grid_auto_rows": null,
            "grid_column": null,
            "grid_gap": null,
            "grid_row": null,
            "grid_template_areas": null,
            "grid_template_columns": null,
            "grid_template_rows": null,
            "height": null,
            "justify_content": null,
            "justify_items": null,
            "left": null,
            "margin": null,
            "max_height": null,
            "max_width": null,
            "min_height": null,
            "min_width": null,
            "object_fit": null,
            "object_position": null,
            "order": null,
            "overflow": null,
            "overflow_x": null,
            "overflow_y": null,
            "padding": null,
            "right": null,
            "top": null,
            "visibility": null,
            "width": null
          }
        },
        "eef5f3565f3f4ba8ae7bcca81280e045": {
          "model_module": "@jupyter-widgets/controls",
          "model_module_version": "1.5.0",
          "model_name": "HTMLModel",
          "state": {
            "_dom_classes": [],
            "_model_module": "@jupyter-widgets/controls",
            "_model_module_version": "1.5.0",
            "_model_name": "HTMLModel",
            "_view_count": null,
            "_view_module": "@jupyter-widgets/controls",
            "_view_module_version": "1.5.0",
            "_view_name": "HTMLView",
            "description": "",
            "description_tooltip": null,
            "layout": "IPY_MODEL_ec642fed5e994933a4c552eaf7f02279",
            "placeholder": "​",
            "style": "IPY_MODEL_a117fd4a5c504a6a967bc8de2fc25597",
            "value": " 2.32k/2.32k [00:00&lt;00:00, 89.6kB/s]"
          }
        },
        "fa468af6f281495584dd2622a4634028": {
          "model_module": "@jupyter-widgets/controls",
          "model_module_version": "1.5.0",
          "model_name": "FloatProgressModel",
          "state": {
            "_dom_classes": [],
            "_model_module": "@jupyter-widgets/controls",
            "_model_module_version": "1.5.0",
            "_model_name": "FloatProgressModel",
            "_view_count": null,
            "_view_module": "@jupyter-widgets/controls",
            "_view_module_version": "1.5.0",
            "_view_name": "ProgressView",
            "bar_style": "success",
            "description": "",
            "description_tooltip": null,
            "layout": "IPY_MODEL_b3fd101c46674be0a354ffd0c31fbcfc",
            "max": 791656,
            "min": 0,
            "orientation": "horizontal",
            "style": "IPY_MODEL_71fa261176fa43bfa0c9844d45eacf82",
            "value": 791656
          }
        },
        "8314544b0bd842ac9f9f0c0513f454a1": {
          "model_module": "@jupyter-widgets/controls",
          "model_name": "HBoxModel",
          "model_module_version": "1.5.0",
          "state": {
            "_dom_classes": [],
            "_model_module": "@jupyter-widgets/controls",
            "_model_module_version": "1.5.0",
            "_model_name": "HBoxModel",
            "_view_count": null,
            "_view_module": "@jupyter-widgets/controls",
            "_view_module_version": "1.5.0",
            "_view_name": "HBoxView",
            "box_style": "",
            "children": [
              "IPY_MODEL_080a2e3a642548469d825b3b30bc3f47",
              "IPY_MODEL_af8a57fc951c4362a80df3ddfa952943",
              "IPY_MODEL_e30b443d3077447385ddfc1d9a9c68ad"
            ],
            "layout": "IPY_MODEL_be9657a5392944e79078a27962218b26"
          }
        },
        "080a2e3a642548469d825b3b30bc3f47": {
          "model_module": "@jupyter-widgets/controls",
          "model_name": "HTMLModel",
          "model_module_version": "1.5.0",
          "state": {
            "_dom_classes": [],
            "_model_module": "@jupyter-widgets/controls",
            "_model_module_version": "1.5.0",
            "_model_name": "HTMLModel",
            "_view_count": null,
            "_view_module": "@jupyter-widgets/controls",
            "_view_module_version": "1.5.0",
            "_view_name": "HTMLView",
            "description": "",
            "description_tooltip": null,
            "layout": "IPY_MODEL_d3627d889cca496eae39d9c18374963d",
            "placeholder": "​",
            "style": "IPY_MODEL_3c3db040690a41f7b660850041c4fdd3",
            "value": "config.json: 100%"
          }
        },
        "af8a57fc951c4362a80df3ddfa952943": {
          "model_module": "@jupyter-widgets/controls",
          "model_name": "FloatProgressModel",
          "model_module_version": "1.5.0",
          "state": {
            "_dom_classes": [],
            "_model_module": "@jupyter-widgets/controls",
            "_model_module_version": "1.5.0",
            "_model_name": "FloatProgressModel",
            "_view_count": null,
            "_view_module": "@jupyter-widgets/controls",
            "_view_module_version": "1.5.0",
            "_view_name": "ProgressView",
            "bar_style": "success",
            "description": "",
            "description_tooltip": null,
            "layout": "IPY_MODEL_8bad4f74455e4a9d9f2cfa2acecab8dd",
            "max": 1206,
            "min": 0,
            "orientation": "horizontal",
            "style": "IPY_MODEL_2e5372872b494c9685992aa02240e325",
            "value": 1206
          }
        },
        "e30b443d3077447385ddfc1d9a9c68ad": {
          "model_module": "@jupyter-widgets/controls",
          "model_name": "HTMLModel",
          "model_module_version": "1.5.0",
          "state": {
            "_dom_classes": [],
            "_model_module": "@jupyter-widgets/controls",
            "_model_module_version": "1.5.0",
            "_model_name": "HTMLModel",
            "_view_count": null,
            "_view_module": "@jupyter-widgets/controls",
            "_view_module_version": "1.5.0",
            "_view_name": "HTMLView",
            "description": "",
            "description_tooltip": null,
            "layout": "IPY_MODEL_ae5e247689ca4e5d95543ca2036b7c08",
            "placeholder": "​",
            "style": "IPY_MODEL_8e4e1829e42e4447a1401f5cef7aab66",
            "value": " 1.21k/1.21k [00:00&lt;00:00, 14.5kB/s]"
          }
        },
        "be9657a5392944e79078a27962218b26": {
          "model_module": "@jupyter-widgets/base",
          "model_name": "LayoutModel",
          "model_module_version": "1.2.0",
          "state": {
            "_model_module": "@jupyter-widgets/base",
            "_model_module_version": "1.2.0",
            "_model_name": "LayoutModel",
            "_view_count": null,
            "_view_module": "@jupyter-widgets/base",
            "_view_module_version": "1.2.0",
            "_view_name": "LayoutView",
            "align_content": null,
            "align_items": null,
            "align_self": null,
            "border": null,
            "bottom": null,
            "display": null,
            "flex": null,
            "flex_flow": null,
            "grid_area": null,
            "grid_auto_columns": null,
            "grid_auto_flow": null,
            "grid_auto_rows": null,
            "grid_column": null,
            "grid_gap": null,
            "grid_row": null,
            "grid_template_areas": null,
            "grid_template_columns": null,
            "grid_template_rows": null,
            "height": null,
            "justify_content": null,
            "justify_items": null,
            "left": null,
            "margin": null,
            "max_height": null,
            "max_width": null,
            "min_height": null,
            "min_width": null,
            "object_fit": null,
            "object_position": null,
            "order": null,
            "overflow": null,
            "overflow_x": null,
            "overflow_y": null,
            "padding": null,
            "right": null,
            "top": null,
            "visibility": null,
            "width": null
          }
        },
        "d3627d889cca496eae39d9c18374963d": {
          "model_module": "@jupyter-widgets/base",
          "model_name": "LayoutModel",
          "model_module_version": "1.2.0",
          "state": {
            "_model_module": "@jupyter-widgets/base",
            "_model_module_version": "1.2.0",
            "_model_name": "LayoutModel",
            "_view_count": null,
            "_view_module": "@jupyter-widgets/base",
            "_view_module_version": "1.2.0",
            "_view_name": "LayoutView",
            "align_content": null,
            "align_items": null,
            "align_self": null,
            "border": null,
            "bottom": null,
            "display": null,
            "flex": null,
            "flex_flow": null,
            "grid_area": null,
            "grid_auto_columns": null,
            "grid_auto_flow": null,
            "grid_auto_rows": null,
            "grid_column": null,
            "grid_gap": null,
            "grid_row": null,
            "grid_template_areas": null,
            "grid_template_columns": null,
            "grid_template_rows": null,
            "height": null,
            "justify_content": null,
            "justify_items": null,
            "left": null,
            "margin": null,
            "max_height": null,
            "max_width": null,
            "min_height": null,
            "min_width": null,
            "object_fit": null,
            "object_position": null,
            "order": null,
            "overflow": null,
            "overflow_x": null,
            "overflow_y": null,
            "padding": null,
            "right": null,
            "top": null,
            "visibility": null,
            "width": null
          }
        },
        "3c3db040690a41f7b660850041c4fdd3": {
          "model_module": "@jupyter-widgets/controls",
          "model_name": "DescriptionStyleModel",
          "model_module_version": "1.5.0",
          "state": {
            "_model_module": "@jupyter-widgets/controls",
            "_model_module_version": "1.5.0",
            "_model_name": "DescriptionStyleModel",
            "_view_count": null,
            "_view_module": "@jupyter-widgets/base",
            "_view_module_version": "1.2.0",
            "_view_name": "StyleView",
            "description_width": ""
          }
        },
        "8bad4f74455e4a9d9f2cfa2acecab8dd": {
          "model_module": "@jupyter-widgets/base",
          "model_name": "LayoutModel",
          "model_module_version": "1.2.0",
          "state": {
            "_model_module": "@jupyter-widgets/base",
            "_model_module_version": "1.2.0",
            "_model_name": "LayoutModel",
            "_view_count": null,
            "_view_module": "@jupyter-widgets/base",
            "_view_module_version": "1.2.0",
            "_view_name": "LayoutView",
            "align_content": null,
            "align_items": null,
            "align_self": null,
            "border": null,
            "bottom": null,
            "display": null,
            "flex": null,
            "flex_flow": null,
            "grid_area": null,
            "grid_auto_columns": null,
            "grid_auto_flow": null,
            "grid_auto_rows": null,
            "grid_column": null,
            "grid_gap": null,
            "grid_row": null,
            "grid_template_areas": null,
            "grid_template_columns": null,
            "grid_template_rows": null,
            "height": null,
            "justify_content": null,
            "justify_items": null,
            "left": null,
            "margin": null,
            "max_height": null,
            "max_width": null,
            "min_height": null,
            "min_width": null,
            "object_fit": null,
            "object_position": null,
            "order": null,
            "overflow": null,
            "overflow_x": null,
            "overflow_y": null,
            "padding": null,
            "right": null,
            "top": null,
            "visibility": null,
            "width": null
          }
        },
        "2e5372872b494c9685992aa02240e325": {
          "model_module": "@jupyter-widgets/controls",
          "model_name": "ProgressStyleModel",
          "model_module_version": "1.5.0",
          "state": {
            "_model_module": "@jupyter-widgets/controls",
            "_model_module_version": "1.5.0",
            "_model_name": "ProgressStyleModel",
            "_view_count": null,
            "_view_module": "@jupyter-widgets/base",
            "_view_module_version": "1.2.0",
            "_view_name": "StyleView",
            "bar_color": null,
            "description_width": ""
          }
        },
        "ae5e247689ca4e5d95543ca2036b7c08": {
          "model_module": "@jupyter-widgets/base",
          "model_name": "LayoutModel",
          "model_module_version": "1.2.0",
          "state": {
            "_model_module": "@jupyter-widgets/base",
            "_model_module_version": "1.2.0",
            "_model_name": "LayoutModel",
            "_view_count": null,
            "_view_module": "@jupyter-widgets/base",
            "_view_module_version": "1.2.0",
            "_view_name": "LayoutView",
            "align_content": null,
            "align_items": null,
            "align_self": null,
            "border": null,
            "bottom": null,
            "display": null,
            "flex": null,
            "flex_flow": null,
            "grid_area": null,
            "grid_auto_columns": null,
            "grid_auto_flow": null,
            "grid_auto_rows": null,
            "grid_column": null,
            "grid_gap": null,
            "grid_row": null,
            "grid_template_areas": null,
            "grid_template_columns": null,
            "grid_template_rows": null,
            "height": null,
            "justify_content": null,
            "justify_items": null,
            "left": null,
            "margin": null,
            "max_height": null,
            "max_width": null,
            "min_height": null,
            "min_width": null,
            "object_fit": null,
            "object_position": null,
            "order": null,
            "overflow": null,
            "overflow_x": null,
            "overflow_y": null,
            "padding": null,
            "right": null,
            "top": null,
            "visibility": null,
            "width": null
          }
        },
        "8e4e1829e42e4447a1401f5cef7aab66": {
          "model_module": "@jupyter-widgets/controls",
          "model_name": "DescriptionStyleModel",
          "model_module_version": "1.5.0",
          "state": {
            "_model_module": "@jupyter-widgets/controls",
            "_model_module_version": "1.5.0",
            "_model_name": "DescriptionStyleModel",
            "_view_count": null,
            "_view_module": "@jupyter-widgets/base",
            "_view_module_version": "1.2.0",
            "_view_name": "StyleView",
            "description_width": ""
          }
        },
        "fc01b9ae068f46e59be91a022390e207": {
          "model_module": "@jupyter-widgets/controls",
          "model_name": "HBoxModel",
          "model_module_version": "1.5.0",
          "state": {
            "_dom_classes": [],
            "_model_module": "@jupyter-widgets/controls",
            "_model_module_version": "1.5.0",
            "_model_name": "HBoxModel",
            "_view_count": null,
            "_view_module": "@jupyter-widgets/controls",
            "_view_module_version": "1.5.0",
            "_view_name": "HBoxView",
            "box_style": "",
            "children": [
              "IPY_MODEL_6ea129f6b1024088affd133343788b2f",
              "IPY_MODEL_6a71ddd149f745f8ac178deb953b38b0",
              "IPY_MODEL_889d54feb63b41b7912403f6dae48f6a"
            ],
            "layout": "IPY_MODEL_6dabd86567e445a59a3158bb21fc6a56"
          }
        },
        "6ea129f6b1024088affd133343788b2f": {
          "model_module": "@jupyter-widgets/controls",
          "model_name": "HTMLModel",
          "model_module_version": "1.5.0",
          "state": {
            "_dom_classes": [],
            "_model_module": "@jupyter-widgets/controls",
            "_model_module_version": "1.5.0",
            "_model_name": "HTMLModel",
            "_view_count": null,
            "_view_module": "@jupyter-widgets/controls",
            "_view_module_version": "1.5.0",
            "_view_name": "HTMLView",
            "description": "",
            "description_tooltip": null,
            "layout": "IPY_MODEL_97678188399a45508fbcab46e2e5a39b",
            "placeholder": "​",
            "style": "IPY_MODEL_1090384118e843b9bcff1f6f777c4b05",
            "value": "model.safetensors: 100%"
          }
        },
        "6a71ddd149f745f8ac178deb953b38b0": {
          "model_module": "@jupyter-widgets/controls",
          "model_name": "FloatProgressModel",
          "model_module_version": "1.5.0",
          "state": {
            "_dom_classes": [],
            "_model_module": "@jupyter-widgets/controls",
            "_model_module_version": "1.5.0",
            "_model_name": "FloatProgressModel",
            "_view_count": null,
            "_view_module": "@jupyter-widgets/controls",
            "_view_module_version": "1.5.0",
            "_view_name": "ProgressView",
            "bar_style": "success",
            "description": "",
            "description_tooltip": null,
            "layout": "IPY_MODEL_116cade13d264ece915ca6f6105d79de",
            "max": 242043056,
            "min": 0,
            "orientation": "horizontal",
            "style": "IPY_MODEL_f80cfa612bfd473ba9cbfb97c6fcd86f",
            "value": 242043056
          }
        },
        "889d54feb63b41b7912403f6dae48f6a": {
          "model_module": "@jupyter-widgets/controls",
          "model_name": "HTMLModel",
          "model_module_version": "1.5.0",
          "state": {
            "_dom_classes": [],
            "_model_module": "@jupyter-widgets/controls",
            "_model_module_version": "1.5.0",
            "_model_name": "HTMLModel",
            "_view_count": null,
            "_view_module": "@jupyter-widgets/controls",
            "_view_module_version": "1.5.0",
            "_view_name": "HTMLView",
            "description": "",
            "description_tooltip": null,
            "layout": "IPY_MODEL_1edc90e326304a028053d27fdee01a06",
            "placeholder": "​",
            "style": "IPY_MODEL_33ef8d9ce42f4f58a83b3effb9d1f57f",
            "value": " 242M/242M [00:03&lt;00:00, 64.6MB/s]"
          }
        },
        "6dabd86567e445a59a3158bb21fc6a56": {
          "model_module": "@jupyter-widgets/base",
          "model_name": "LayoutModel",
          "model_module_version": "1.2.0",
          "state": {
            "_model_module": "@jupyter-widgets/base",
            "_model_module_version": "1.2.0",
            "_model_name": "LayoutModel",
            "_view_count": null,
            "_view_module": "@jupyter-widgets/base",
            "_view_module_version": "1.2.0",
            "_view_name": "LayoutView",
            "align_content": null,
            "align_items": null,
            "align_self": null,
            "border": null,
            "bottom": null,
            "display": null,
            "flex": null,
            "flex_flow": null,
            "grid_area": null,
            "grid_auto_columns": null,
            "grid_auto_flow": null,
            "grid_auto_rows": null,
            "grid_column": null,
            "grid_gap": null,
            "grid_row": null,
            "grid_template_areas": null,
            "grid_template_columns": null,
            "grid_template_rows": null,
            "height": null,
            "justify_content": null,
            "justify_items": null,
            "left": null,
            "margin": null,
            "max_height": null,
            "max_width": null,
            "min_height": null,
            "min_width": null,
            "object_fit": null,
            "object_position": null,
            "order": null,
            "overflow": null,
            "overflow_x": null,
            "overflow_y": null,
            "padding": null,
            "right": null,
            "top": null,
            "visibility": null,
            "width": null
          }
        },
        "97678188399a45508fbcab46e2e5a39b": {
          "model_module": "@jupyter-widgets/base",
          "model_name": "LayoutModel",
          "model_module_version": "1.2.0",
          "state": {
            "_model_module": "@jupyter-widgets/base",
            "_model_module_version": "1.2.0",
            "_model_name": "LayoutModel",
            "_view_count": null,
            "_view_module": "@jupyter-widgets/base",
            "_view_module_version": "1.2.0",
            "_view_name": "LayoutView",
            "align_content": null,
            "align_items": null,
            "align_self": null,
            "border": null,
            "bottom": null,
            "display": null,
            "flex": null,
            "flex_flow": null,
            "grid_area": null,
            "grid_auto_columns": null,
            "grid_auto_flow": null,
            "grid_auto_rows": null,
            "grid_column": null,
            "grid_gap": null,
            "grid_row": null,
            "grid_template_areas": null,
            "grid_template_columns": null,
            "grid_template_rows": null,
            "height": null,
            "justify_content": null,
            "justify_items": null,
            "left": null,
            "margin": null,
            "max_height": null,
            "max_width": null,
            "min_height": null,
            "min_width": null,
            "object_fit": null,
            "object_position": null,
            "order": null,
            "overflow": null,
            "overflow_x": null,
            "overflow_y": null,
            "padding": null,
            "right": null,
            "top": null,
            "visibility": null,
            "width": null
          }
        },
        "1090384118e843b9bcff1f6f777c4b05": {
          "model_module": "@jupyter-widgets/controls",
          "model_name": "DescriptionStyleModel",
          "model_module_version": "1.5.0",
          "state": {
            "_model_module": "@jupyter-widgets/controls",
            "_model_module_version": "1.5.0",
            "_model_name": "DescriptionStyleModel",
            "_view_count": null,
            "_view_module": "@jupyter-widgets/base",
            "_view_module_version": "1.2.0",
            "_view_name": "StyleView",
            "description_width": ""
          }
        },
        "116cade13d264ece915ca6f6105d79de": {
          "model_module": "@jupyter-widgets/base",
          "model_name": "LayoutModel",
          "model_module_version": "1.2.0",
          "state": {
            "_model_module": "@jupyter-widgets/base",
            "_model_module_version": "1.2.0",
            "_model_name": "LayoutModel",
            "_view_count": null,
            "_view_module": "@jupyter-widgets/base",
            "_view_module_version": "1.2.0",
            "_view_name": "LayoutView",
            "align_content": null,
            "align_items": null,
            "align_self": null,
            "border": null,
            "bottom": null,
            "display": null,
            "flex": null,
            "flex_flow": null,
            "grid_area": null,
            "grid_auto_columns": null,
            "grid_auto_flow": null,
            "grid_auto_rows": null,
            "grid_column": null,
            "grid_gap": null,
            "grid_row": null,
            "grid_template_areas": null,
            "grid_template_columns": null,
            "grid_template_rows": null,
            "height": null,
            "justify_content": null,
            "justify_items": null,
            "left": null,
            "margin": null,
            "max_height": null,
            "max_width": null,
            "min_height": null,
            "min_width": null,
            "object_fit": null,
            "object_position": null,
            "order": null,
            "overflow": null,
            "overflow_x": null,
            "overflow_y": null,
            "padding": null,
            "right": null,
            "top": null,
            "visibility": null,
            "width": null
          }
        },
        "f80cfa612bfd473ba9cbfb97c6fcd86f": {
          "model_module": "@jupyter-widgets/controls",
          "model_name": "ProgressStyleModel",
          "model_module_version": "1.5.0",
          "state": {
            "_model_module": "@jupyter-widgets/controls",
            "_model_module_version": "1.5.0",
            "_model_name": "ProgressStyleModel",
            "_view_count": null,
            "_view_module": "@jupyter-widgets/base",
            "_view_module_version": "1.2.0",
            "_view_name": "StyleView",
            "bar_color": null,
            "description_width": ""
          }
        },
        "1edc90e326304a028053d27fdee01a06": {
          "model_module": "@jupyter-widgets/base",
          "model_name": "LayoutModel",
          "model_module_version": "1.2.0",
          "state": {
            "_model_module": "@jupyter-widgets/base",
            "_model_module_version": "1.2.0",
            "_model_name": "LayoutModel",
            "_view_count": null,
            "_view_module": "@jupyter-widgets/base",
            "_view_module_version": "1.2.0",
            "_view_name": "LayoutView",
            "align_content": null,
            "align_items": null,
            "align_self": null,
            "border": null,
            "bottom": null,
            "display": null,
            "flex": null,
            "flex_flow": null,
            "grid_area": null,
            "grid_auto_columns": null,
            "grid_auto_flow": null,
            "grid_auto_rows": null,
            "grid_column": null,
            "grid_gap": null,
            "grid_row": null,
            "grid_template_areas": null,
            "grid_template_columns": null,
            "grid_template_rows": null,
            "height": null,
            "justify_content": null,
            "justify_items": null,
            "left": null,
            "margin": null,
            "max_height": null,
            "max_width": null,
            "min_height": null,
            "min_width": null,
            "object_fit": null,
            "object_position": null,
            "order": null,
            "overflow": null,
            "overflow_x": null,
            "overflow_y": null,
            "padding": null,
            "right": null,
            "top": null,
            "visibility": null,
            "width": null
          }
        },
        "33ef8d9ce42f4f58a83b3effb9d1f57f": {
          "model_module": "@jupyter-widgets/controls",
          "model_name": "DescriptionStyleModel",
          "model_module_version": "1.5.0",
          "state": {
            "_model_module": "@jupyter-widgets/controls",
            "_model_module_version": "1.5.0",
            "_model_name": "DescriptionStyleModel",
            "_view_count": null,
            "_view_module": "@jupyter-widgets/base",
            "_view_module_version": "1.2.0",
            "_view_name": "StyleView",
            "description_width": ""
          }
        },
        "155bf1dd2c5d44d1a01d39cfd80a82e7": {
          "model_module": "@jupyter-widgets/controls",
          "model_name": "HBoxModel",
          "model_module_version": "1.5.0",
          "state": {
            "_dom_classes": [],
            "_model_module": "@jupyter-widgets/controls",
            "_model_module_version": "1.5.0",
            "_model_name": "HBoxModel",
            "_view_count": null,
            "_view_module": "@jupyter-widgets/controls",
            "_view_module_version": "1.5.0",
            "_view_name": "HBoxView",
            "box_style": "",
            "children": [
              "IPY_MODEL_47801dad53f34bd58fdb04115977e88f",
              "IPY_MODEL_76eab09a7d504ca2b1c3a336c2e71727",
              "IPY_MODEL_706e58da382649d18e96cefd9104613c"
            ],
            "layout": "IPY_MODEL_38a0272a9fb74a4a8f0427558d8c87e4"
          }
        },
        "47801dad53f34bd58fdb04115977e88f": {
          "model_module": "@jupyter-widgets/controls",
          "model_name": "HTMLModel",
          "model_module_version": "1.5.0",
          "state": {
            "_dom_classes": [],
            "_model_module": "@jupyter-widgets/controls",
            "_model_module_version": "1.5.0",
            "_model_name": "HTMLModel",
            "_view_count": null,
            "_view_module": "@jupyter-widgets/controls",
            "_view_module_version": "1.5.0",
            "_view_name": "HTMLView",
            "description": "",
            "description_tooltip": null,
            "layout": "IPY_MODEL_10ed3933504f4343864cebf8a83dd54d",
            "placeholder": "​",
            "style": "IPY_MODEL_d7554b01e9d6433c93430cd80d6d50c9",
            "value": "generation_config.json: 100%"
          }
        },
        "76eab09a7d504ca2b1c3a336c2e71727": {
          "model_module": "@jupyter-widgets/controls",
          "model_name": "FloatProgressModel",
          "model_module_version": "1.5.0",
          "state": {
            "_dom_classes": [],
            "_model_module": "@jupyter-widgets/controls",
            "_model_module_version": "1.5.0",
            "_model_name": "FloatProgressModel",
            "_view_count": null,
            "_view_module": "@jupyter-widgets/controls",
            "_view_module_version": "1.5.0",
            "_view_name": "ProgressView",
            "bar_style": "success",
            "description": "",
            "description_tooltip": null,
            "layout": "IPY_MODEL_c810e18617dc47b7bcb70d638c10fed0",
            "max": 147,
            "min": 0,
            "orientation": "horizontal",
            "style": "IPY_MODEL_7df4f64a5c6d43808c7e9ba2a2b689a8",
            "value": 147
          }
        },
        "706e58da382649d18e96cefd9104613c": {
          "model_module": "@jupyter-widgets/controls",
          "model_name": "HTMLModel",
          "model_module_version": "1.5.0",
          "state": {
            "_dom_classes": [],
            "_model_module": "@jupyter-widgets/controls",
            "_model_module_version": "1.5.0",
            "_model_name": "HTMLModel",
            "_view_count": null,
            "_view_module": "@jupyter-widgets/controls",
            "_view_module_version": "1.5.0",
            "_view_name": "HTMLView",
            "description": "",
            "description_tooltip": null,
            "layout": "IPY_MODEL_88b08d74d0ee4ec08b46a9d5d614d592",
            "placeholder": "​",
            "style": "IPY_MODEL_255a2d8e59774fbebc7d884c19c63bbb",
            "value": " 147/147 [00:00&lt;00:00, 5.96kB/s]"
          }
        },
        "38a0272a9fb74a4a8f0427558d8c87e4": {
          "model_module": "@jupyter-widgets/base",
          "model_name": "LayoutModel",
          "model_module_version": "1.2.0",
          "state": {
            "_model_module": "@jupyter-widgets/base",
            "_model_module_version": "1.2.0",
            "_model_name": "LayoutModel",
            "_view_count": null,
            "_view_module": "@jupyter-widgets/base",
            "_view_module_version": "1.2.0",
            "_view_name": "LayoutView",
            "align_content": null,
            "align_items": null,
            "align_self": null,
            "border": null,
            "bottom": null,
            "display": null,
            "flex": null,
            "flex_flow": null,
            "grid_area": null,
            "grid_auto_columns": null,
            "grid_auto_flow": null,
            "grid_auto_rows": null,
            "grid_column": null,
            "grid_gap": null,
            "grid_row": null,
            "grid_template_areas": null,
            "grid_template_columns": null,
            "grid_template_rows": null,
            "height": null,
            "justify_content": null,
            "justify_items": null,
            "left": null,
            "margin": null,
            "max_height": null,
            "max_width": null,
            "min_height": null,
            "min_width": null,
            "object_fit": null,
            "object_position": null,
            "order": null,
            "overflow": null,
            "overflow_x": null,
            "overflow_y": null,
            "padding": null,
            "right": null,
            "top": null,
            "visibility": null,
            "width": null
          }
        },
        "10ed3933504f4343864cebf8a83dd54d": {
          "model_module": "@jupyter-widgets/base",
          "model_name": "LayoutModel",
          "model_module_version": "1.2.0",
          "state": {
            "_model_module": "@jupyter-widgets/base",
            "_model_module_version": "1.2.0",
            "_model_name": "LayoutModel",
            "_view_count": null,
            "_view_module": "@jupyter-widgets/base",
            "_view_module_version": "1.2.0",
            "_view_name": "LayoutView",
            "align_content": null,
            "align_items": null,
            "align_self": null,
            "border": null,
            "bottom": null,
            "display": null,
            "flex": null,
            "flex_flow": null,
            "grid_area": null,
            "grid_auto_columns": null,
            "grid_auto_flow": null,
            "grid_auto_rows": null,
            "grid_column": null,
            "grid_gap": null,
            "grid_row": null,
            "grid_template_areas": null,
            "grid_template_columns": null,
            "grid_template_rows": null,
            "height": null,
            "justify_content": null,
            "justify_items": null,
            "left": null,
            "margin": null,
            "max_height": null,
            "max_width": null,
            "min_height": null,
            "min_width": null,
            "object_fit": null,
            "object_position": null,
            "order": null,
            "overflow": null,
            "overflow_x": null,
            "overflow_y": null,
            "padding": null,
            "right": null,
            "top": null,
            "visibility": null,
            "width": null
          }
        },
        "d7554b01e9d6433c93430cd80d6d50c9": {
          "model_module": "@jupyter-widgets/controls",
          "model_name": "DescriptionStyleModel",
          "model_module_version": "1.5.0",
          "state": {
            "_model_module": "@jupyter-widgets/controls",
            "_model_module_version": "1.5.0",
            "_model_name": "DescriptionStyleModel",
            "_view_count": null,
            "_view_module": "@jupyter-widgets/base",
            "_view_module_version": "1.2.0",
            "_view_name": "StyleView",
            "description_width": ""
          }
        },
        "c810e18617dc47b7bcb70d638c10fed0": {
          "model_module": "@jupyter-widgets/base",
          "model_name": "LayoutModel",
          "model_module_version": "1.2.0",
          "state": {
            "_model_module": "@jupyter-widgets/base",
            "_model_module_version": "1.2.0",
            "_model_name": "LayoutModel",
            "_view_count": null,
            "_view_module": "@jupyter-widgets/base",
            "_view_module_version": "1.2.0",
            "_view_name": "LayoutView",
            "align_content": null,
            "align_items": null,
            "align_self": null,
            "border": null,
            "bottom": null,
            "display": null,
            "flex": null,
            "flex_flow": null,
            "grid_area": null,
            "grid_auto_columns": null,
            "grid_auto_flow": null,
            "grid_auto_rows": null,
            "grid_column": null,
            "grid_gap": null,
            "grid_row": null,
            "grid_template_areas": null,
            "grid_template_columns": null,
            "grid_template_rows": null,
            "height": null,
            "justify_content": null,
            "justify_items": null,
            "left": null,
            "margin": null,
            "max_height": null,
            "max_width": null,
            "min_height": null,
            "min_width": null,
            "object_fit": null,
            "object_position": null,
            "order": null,
            "overflow": null,
            "overflow_x": null,
            "overflow_y": null,
            "padding": null,
            "right": null,
            "top": null,
            "visibility": null,
            "width": null
          }
        },
        "7df4f64a5c6d43808c7e9ba2a2b689a8": {
          "model_module": "@jupyter-widgets/controls",
          "model_name": "ProgressStyleModel",
          "model_module_version": "1.5.0",
          "state": {
            "_model_module": "@jupyter-widgets/controls",
            "_model_module_version": "1.5.0",
            "_model_name": "ProgressStyleModel",
            "_view_count": null,
            "_view_module": "@jupyter-widgets/base",
            "_view_module_version": "1.2.0",
            "_view_name": "StyleView",
            "bar_color": null,
            "description_width": ""
          }
        },
        "88b08d74d0ee4ec08b46a9d5d614d592": {
          "model_module": "@jupyter-widgets/base",
          "model_name": "LayoutModel",
          "model_module_version": "1.2.0",
          "state": {
            "_model_module": "@jupyter-widgets/base",
            "_model_module_version": "1.2.0",
            "_model_name": "LayoutModel",
            "_view_count": null,
            "_view_module": "@jupyter-widgets/base",
            "_view_module_version": "1.2.0",
            "_view_name": "LayoutView",
            "align_content": null,
            "align_items": null,
            "align_self": null,
            "border": null,
            "bottom": null,
            "display": null,
            "flex": null,
            "flex_flow": null,
            "grid_area": null,
            "grid_auto_columns": null,
            "grid_auto_flow": null,
            "grid_auto_rows": null,
            "grid_column": null,
            "grid_gap": null,
            "grid_row": null,
            "grid_template_areas": null,
            "grid_template_columns": null,
            "grid_template_rows": null,
            "height": null,
            "justify_content": null,
            "justify_items": null,
            "left": null,
            "margin": null,
            "max_height": null,
            "max_width": null,
            "min_height": null,
            "min_width": null,
            "object_fit": null,
            "object_position": null,
            "order": null,
            "overflow": null,
            "overflow_x": null,
            "overflow_y": null,
            "padding": null,
            "right": null,
            "top": null,
            "visibility": null,
            "width": null
          }
        },
        "255a2d8e59774fbebc7d884c19c63bbb": {
          "model_module": "@jupyter-widgets/controls",
          "model_name": "DescriptionStyleModel",
          "model_module_version": "1.5.0",
          "state": {
            "_model_module": "@jupyter-widgets/controls",
            "_model_module_version": "1.5.0",
            "_model_name": "DescriptionStyleModel",
            "_view_count": null,
            "_view_module": "@jupyter-widgets/base",
            "_view_module_version": "1.2.0",
            "_view_name": "StyleView",
            "description_width": ""
          }
        }
      }
    }
  },
  "nbformat": 4,
  "nbformat_minor": 0
}